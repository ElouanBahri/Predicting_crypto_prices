{
 "cells": [
  {
   "cell_type": "code",
   "execution_count": 14,
   "metadata": {},
   "outputs": [],
   "source": [
    "from modules.utils import potential_benef\n",
    "import pandas as pd"
   ]
  },
  {
   "cell_type": "code",
   "execution_count": 20,
   "metadata": {},
   "outputs": [
    {
     "name": "stdout",
     "output_type": "stream",
     "text": [
      "12.890818805784308\n",
      "20.479599262597812\n",
      "7.045346507882173\n",
      "7.983780071289699\n",
      "-4.025896016352765\n",
      "8.51746764110426\n",
      "-10.376189767695612\n",
      "3.2451787617300254\n",
      "-23.99263114379831\n",
      "19.46054981123657\n",
      "9.895441950231959\n",
      "-1.226260412396261\n",
      "8.260234450119992\n",
      "-2.9212346030910292\n",
      "-5.835613312785935\n",
      "-12.819563436068284\n",
      "-5.955786582869547\n",
      "-21.20801263573118\n",
      "0.510578273026195\n",
      "5.6089134663708204\n",
      "1015.5367210905849\n"
     ]
    }
   ],
   "source": [
    "df = pd.read_csv(\"tableau des predictions\")\n",
    "\n",
    "price = potential_benef(df, 1000, 5)\n",
    "\n",
    "print(price)"
   ]
  }
 ],
 "metadata": {
  "kernelspec": {
   "display_name": "Predicting_crypto",
   "language": "python",
   "name": "python3"
  },
  "language_info": {
   "codemirror_mode": {
    "name": "ipython",
    "version": 3
   },
   "file_extension": ".py",
   "mimetype": "text/x-python",
   "name": "python",
   "nbconvert_exporter": "python",
   "pygments_lexer": "ipython3",
   "version": "3.11.11"
  }
 },
 "nbformat": 4,
 "nbformat_minor": 2
}
