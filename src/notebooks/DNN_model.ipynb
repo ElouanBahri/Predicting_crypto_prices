{
 "cells": [
  {
   "cell_type": "code",
   "execution_count": 1,
   "metadata": {},
   "outputs": [],
   "source": [
    "import pandas as pd \n",
    "import numpy as np \n",
    "import tensorflow as tf\n",
    "\n",
    "from tensorflow.keras.callbacks import ReduceLROnPlateau, ModelCheckpoint\n",
    "from tensorflow.keras.models import Sequential\n",
    "from tensorflow.keras.layers import Dense, GRU, Dropout\n",
    "from tensorflow.keras.activations import linear, relu, sigmoid\n",
    "from modules.utils import filter_data_by_year_month, create_features_from_past, create_X_y\n",
    "\n"
   ]
  },
  {
   "cell_type": "code",
   "execution_count": 2,
   "metadata": {},
   "outputs": [],
   "source": [
    "X = pd.read_csv('/Users/elouan/Repo Github ElouanBahri/Predicting_crypto_prices/Historical Prices for BTCUSDT')\n"
   ]
  },
  {
   "cell_type": "code",
   "execution_count": 3,
   "metadata": {},
   "outputs": [],
   "source": [
    "YEARS = [2019,2021,2022,2023,2024]\n",
    "\n",
    "Data = filter_data_by_year_month(X, YEARS)\n",
    "\n",
    "Data1 = create_features_from_past(Data,['close', 'open', 'high', 'low', 'volume'], 4)"
   ]
  },
  {
   "cell_type": "code",
   "execution_count": null,
   "metadata": {},
   "outputs": [],
   "source": [
    "Data1.head()"
   ]
  },
  {
   "cell_type": "code",
   "execution_count": null,
   "metadata": {},
   "outputs": [],
   "source": [
    "num_nan_rows = Data1.isna().any(axis=1).sum()\n",
    "print(num_nan_rows)"
   ]
  },
  {
   "cell_type": "code",
   "execution_count": 4,
   "metadata": {},
   "outputs": [],
   "source": [
    "X,y = create_X_y(Data1)"
   ]
  },
  {
   "cell_type": "code",
   "execution_count": null,
   "metadata": {},
   "outputs": [],
   "source": [
    "X.head()"
   ]
  },
  {
   "cell_type": "code",
   "execution_count": null,
   "metadata": {},
   "outputs": [],
   "source": [
    "X.info()"
   ]
  },
  {
   "cell_type": "code",
   "execution_count": null,
   "metadata": {},
   "outputs": [],
   "source": [
    "y.head()"
   ]
  },
  {
   "cell_type": "code",
   "execution_count": 5,
   "metadata": {},
   "outputs": [],
   "source": [
    "dataset = tf.data.Dataset.from_tensor_slices((X, y))"
   ]
  },
  {
   "cell_type": "code",
   "execution_count": 6,
   "metadata": {},
   "outputs": [],
   "source": [
    "# Calculate sizes for train and validation sets\n",
    "dataset_size = len(X)  # Total number of samples in your dataset\n",
    "train_size = int(0.8 * dataset_size)\n",
    "\n",
    "# Shuffle the dataset if needed\n",
    "dataset = dataset.shuffle(buffer_size=dataset_size)\n",
    "\n",
    "# Split the dataset\n",
    "train_dataset = dataset.take(train_size)       # Take the first 80%\n",
    "val_dataset = dataset.skip(train_size)         # Skip the first 80%, take the remaining 20%\n",
    "\n",
    "# Batch both datasets if needed\n",
    "batch_size = 32\n",
    "train_dataset = train_dataset.batch(batch_size)\n",
    "val_dataset = val_dataset.batch(batch_size)"
   ]
  },
  {
   "cell_type": "code",
   "execution_count": 7,
   "metadata": {},
   "outputs": [
    {
     "name": "stderr",
     "output_type": "stream",
     "text": [
      "/Users/elouan/anaconda3/envs/Predicting_crypto/lib/python3.11/site-packages/keras/src/layers/core/dense.py:87: UserWarning: Do not pass an `input_shape`/`input_dim` argument to a layer. When using Sequential models, prefer using an `Input(shape)` object as the first layer in the model instead.\n",
      "  super().__init__(activity_regularizer=activity_regularizer, **kwargs)\n"
     ]
    }
   ],
   "source": [
    "tf.random.set_seed(1234) # for consistent results\n",
    "model = Sequential([\n",
    "    Dense(64, activation='relu', input_shape=(20,)),\n",
    "    Dropout(0.3),\n",
    "    Dense(32, activation='relu'),\n",
    "    Dropout(0.3),\n",
    "    Dense(1, activation='linear')\n",
    "])\n"
   ]
  },
  {
   "cell_type": "code",
   "execution_count": null,
   "metadata": {},
   "outputs": [],
   "source": [
    "model.summary()"
   ]
  },
  {
   "cell_type": "code",
   "execution_count": null,
   "metadata": {},
   "outputs": [],
   "source": [
    "model = tf.keras.models.load_model(\"../models/RNN_model_1.h5\") #IF you need to dowload a model "
   ]
  },
  {
   "cell_type": "code",
   "execution_count": 8,
   "metadata": {},
   "outputs": [
    {
     "name": "stdout",
     "output_type": "stream",
     "text": [
      "Epoch 1/50\n",
      "\u001b[1m4378/4378\u001b[0m \u001b[32m━━━━━━━━━━━━━━━━━━━━\u001b[0m\u001b[37m\u001b[0m \u001b[1m0s\u001b[0m 741us/step - loss: 104361536.0000 - mae: 6784.2158\n",
      "Epoch 1: val_mae improved from inf to 8555.78711, saving model to ../models/RNN_model_1.keras\n",
      "\u001b[1m4378/4378\u001b[0m \u001b[32m━━━━━━━━━━━━━━━━━━━━\u001b[0m\u001b[37m\u001b[0m \u001b[1m5s\u001b[0m 978us/step - loss: 104358208.0000 - mae: 6784.1230 - val_loss: 100846608.0000 - val_mae: 8555.7871 - learning_rate: 0.0100\n",
      "Epoch 2/50\n",
      "\u001b[1m4378/4378\u001b[0m \u001b[32m━━━━━━━━━━━━━━━━━━━━\u001b[0m\u001b[37m\u001b[0m \u001b[1m0s\u001b[0m 722us/step - loss: 80861640.0000 - mae: 6043.8276\n",
      "Epoch 2: val_mae did not improve from 8555.78711\n",
      "\u001b[1m4378/4378\u001b[0m \u001b[32m━━━━━━━━━━━━━━━━━━━━\u001b[0m\u001b[37m\u001b[0m \u001b[1m4s\u001b[0m 933us/step - loss: 80861288.0000 - mae: 6043.8154 - val_loss: 197295152.0000 - val_mae: 11923.4023 - learning_rate: 0.0100\n",
      "Epoch 3/50\n",
      "\u001b[1m4378/4378\u001b[0m \u001b[32m━━━━━━━━━━━━━━━━━━━━\u001b[0m\u001b[37m\u001b[0m \u001b[1m0s\u001b[0m 728us/step - loss: 81575424.0000 - mae: 6059.4692\n",
      "Epoch 3: val_mae did not improve from 8555.78711\n",
      "\u001b[1m4378/4378\u001b[0m \u001b[32m━━━━━━━━━━━━━━━━━━━━\u001b[0m\u001b[37m\u001b[0m \u001b[1m4s\u001b[0m 937us/step - loss: 81575112.0000 - mae: 6059.4590 - val_loss: 292525248.0000 - val_mae: 14524.1436 - learning_rate: 0.0100\n",
      "Epoch 4/50\n",
      "\u001b[1m4378/4378\u001b[0m \u001b[32m━━━━━━━━━━━━━━━━━━━━\u001b[0m\u001b[37m\u001b[0m \u001b[1m0s\u001b[0m 702us/step - loss: 83415696.0000 - mae: 6109.5269\n",
      "Epoch 4: val_mae did not improve from 8555.78711\n",
      "\u001b[1m4378/4378\u001b[0m \u001b[32m━━━━━━━━━━━━━━━━━━━━\u001b[0m\u001b[37m\u001b[0m \u001b[1m4s\u001b[0m 952us/step - loss: 83415392.0000 - mae: 6109.5151 - val_loss: 117455736.0000 - val_mae: 9230.0020 - learning_rate: 0.0100\n",
      "Epoch 5/50\n",
      "\u001b[1m4377/4378\u001b[0m \u001b[32m━━━━━━━━━━━━━━━━━━━\u001b[0m\u001b[37m━\u001b[0m \u001b[1m0s\u001b[0m 701us/step - loss: 86324880.0000 - mae: 6161.3438\n",
      "Epoch 5: val_mae did not improve from 8555.78711\n",
      "\u001b[1m4378/4378\u001b[0m \u001b[32m━━━━━━━━━━━━━━━━━━━━\u001b[0m\u001b[37m\u001b[0m \u001b[1m4s\u001b[0m 917us/step - loss: 86324760.0000 - mae: 6161.3320 - val_loss: 215418800.0000 - val_mae: 12415.0693 - learning_rate: 0.0100\n",
      "Epoch 6/50\n",
      "\u001b[1m4339/4378\u001b[0m \u001b[32m━━━━━━━━━━━━━━━━━━━\u001b[0m\u001b[37m━\u001b[0m \u001b[1m0s\u001b[0m 761us/step - loss: 82299448.0000 - mae: 6014.2046\n",
      "Epoch 6: val_mae did not improve from 8555.78711\n",
      "\u001b[1m4378/4378\u001b[0m \u001b[32m━━━━━━━━━━━━━━━━━━━━\u001b[0m\u001b[37m\u001b[0m \u001b[1m5s\u001b[0m 977us/step - loss: 82303272.0000 - mae: 6014.3750 - val_loss: 162380352.0000 - val_mae: 10777.8389 - learning_rate: 0.0100\n",
      "Epoch 7/50\n",
      "\u001b[1m4356/4378\u001b[0m \u001b[32m━━━━━━━━━━━━━━━━━━━\u001b[0m\u001b[37m━\u001b[0m \u001b[1m0s\u001b[0m 729us/step - loss: 82671040.0000 - mae: 6036.6079\n",
      "Epoch 7: val_mae did not improve from 8555.78711\n",
      "\u001b[1m4378/4378\u001b[0m \u001b[32m━━━━━━━━━━━━━━━━━━━━\u001b[0m\u001b[37m\u001b[0m \u001b[1m4s\u001b[0m 941us/step - loss: 82674720.0000 - mae: 6036.6650 - val_loss: 137254720.0000 - val_mae: 9933.9902 - learning_rate: 0.0100\n",
      "Epoch 8/50\n",
      "\u001b[1m4342/4378\u001b[0m \u001b[32m━━━━━━━━━━━━━━━━━━━\u001b[0m\u001b[37m━\u001b[0m \u001b[1m0s\u001b[0m 696us/step - loss: 72978512.0000 - mae: 5635.5449\n",
      "Epoch 8: val_mae did not improve from 8555.78711\n",
      "\u001b[1m4378/4378\u001b[0m \u001b[32m━━━━━━━━━━━━━━━━━━━━\u001b[0m\u001b[37m\u001b[0m \u001b[1m4s\u001b[0m 912us/step - loss: 72980048.0000 - mae: 5635.5674 - val_loss: 206587328.0000 - val_mae: 12187.6797 - learning_rate: 0.0050\n",
      "Epoch 9/50\n",
      "\u001b[1m4369/4378\u001b[0m \u001b[32m━━━━━━━━━━━━━━━━━━━\u001b[0m\u001b[37m━\u001b[0m \u001b[1m0s\u001b[0m 715us/step - loss: 75035360.0000 - mae: 5700.7109\n",
      "Epoch 9: val_mae did not improve from 8555.78711\n",
      "\u001b[1m4378/4378\u001b[0m \u001b[32m━━━━━━━━━━━━━━━━━━━━\u001b[0m\u001b[37m\u001b[0m \u001b[1m4s\u001b[0m 928us/step - loss: 75036432.0000 - mae: 5700.7305 - val_loss: 147442160.0000 - val_mae: 10263.5137 - learning_rate: 0.0050\n",
      "Epoch 10/50\n",
      "\u001b[1m4360/4378\u001b[0m \u001b[32m━━━━━━━━━━━━━━━━━━━\u001b[0m\u001b[37m━\u001b[0m \u001b[1m0s\u001b[0m 731us/step - loss: 74248960.0000 - mae: 5672.9585\n",
      "Epoch 10: val_mae did not improve from 8555.78711\n",
      "\u001b[1m4378/4378\u001b[0m \u001b[32m━━━━━━━━━━━━━━━━━━━━\u001b[0m\u001b[37m\u001b[0m \u001b[1m4s\u001b[0m 945us/step - loss: 74245960.0000 - mae: 5672.8774 - val_loss: 210378448.0000 - val_mae: 12286.6641 - learning_rate: 0.0050\n",
      "Epoch 11/50\n",
      "\u001b[1m4378/4378\u001b[0m \u001b[32m━━━━━━━━━━━━━━━━━━━━\u001b[0m\u001b[37m\u001b[0m \u001b[1m0s\u001b[0m 728us/step - loss: 73002240.0000 - mae: 5632.1338\n",
      "Epoch 11: val_mae did not improve from 8555.78711\n",
      "\u001b[1m4378/4378\u001b[0m \u001b[32m━━━━━━━━━━━━━━━━━━━━\u001b[0m\u001b[37m\u001b[0m \u001b[1m4s\u001b[0m 936us/step - loss: 73002464.0000 - mae: 5632.1411 - val_loss: 208594832.0000 - val_mae: 12239.6357 - learning_rate: 0.0050\n",
      "Epoch 12/50\n",
      "\u001b[1m4354/4378\u001b[0m \u001b[32m━━━━━━━━━━━━━━━━━━━\u001b[0m\u001b[37m━\u001b[0m \u001b[1m0s\u001b[0m 694us/step - loss: 75232984.0000 - mae: 5696.6353\n",
      "Epoch 12: val_mae did not improve from 8555.78711\n",
      "\u001b[1m4378/4378\u001b[0m \u001b[32m━━━━━━━━━━━━━━━━━━━━\u001b[0m\u001b[37m\u001b[0m \u001b[1m4s\u001b[0m 905us/step - loss: 75229208.0000 - mae: 5696.5596 - val_loss: 172683680.0000 - val_mae: 11121.2637 - learning_rate: 0.0050\n",
      "Epoch 13/50\n",
      "\u001b[1m4348/4378\u001b[0m \u001b[32m━━━━━━━━━━━━━━━━━━━\u001b[0m\u001b[37m━\u001b[0m \u001b[1m0s\u001b[0m 730us/step - loss: 74757568.0000 - mae: 5718.2271\n",
      "Epoch 13: val_mae did not improve from 8555.78711\n",
      "\u001b[1m4378/4378\u001b[0m \u001b[32m━━━━━━━━━━━━━━━━━━━━\u001b[0m\u001b[37m\u001b[0m \u001b[1m4s\u001b[0m 941us/step - loss: 74748688.0000 - mae: 5717.9058 - val_loss: 210571120.0000 - val_mae: 12269.5488 - learning_rate: 0.0050\n",
      "Epoch 14/50\n",
      "\u001b[1m4378/4378\u001b[0m \u001b[32m━━━━━━━━━━━━━━━━━━━━\u001b[0m\u001b[37m\u001b[0m \u001b[1m0s\u001b[0m 704us/step - loss: 69878272.0000 - mae: 5498.2969\n",
      "Epoch 14: val_mae did not improve from 8555.78711\n",
      "\u001b[1m4378/4378\u001b[0m \u001b[32m━━━━━━━━━━━━━━━━━━━━\u001b[0m\u001b[37m\u001b[0m \u001b[1m4s\u001b[0m 910us/step - loss: 69878192.0000 - mae: 5498.2944 - val_loss: 160380976.0000 - val_mae: 10700.8262 - learning_rate: 0.0025\n",
      "Epoch 15/50\n",
      "\u001b[1m4378/4378\u001b[0m \u001b[32m━━━━━━━━━━━━━━━━━━━━\u001b[0m\u001b[37m\u001b[0m \u001b[1m0s\u001b[0m 706us/step - loss: 69445744.0000 - mae: 5470.7085\n",
      "Epoch 15: val_mae did not improve from 8555.78711\n",
      "\u001b[1m4378/4378\u001b[0m \u001b[32m━━━━━━━━━━━━━━━━━━━━\u001b[0m\u001b[37m\u001b[0m \u001b[1m4s\u001b[0m 912us/step - loss: 69445704.0000 - mae: 5470.7100 - val_loss: 110743336.0000 - val_mae: 8865.6982 - learning_rate: 0.0025\n",
      "Epoch 16/50\n",
      "\u001b[1m4378/4378\u001b[0m \u001b[32m━━━━━━━━━━━━━━━━━━━━\u001b[0m\u001b[37m\u001b[0m \u001b[1m0s\u001b[0m 728us/step - loss: 69036576.0000 - mae: 5461.0786\n",
      "Epoch 16: val_mae did not improve from 8555.78711\n",
      "\u001b[1m4378/4378\u001b[0m \u001b[32m━━━━━━━━━━━━━━━━━━━━\u001b[0m\u001b[37m\u001b[0m \u001b[1m4s\u001b[0m 936us/step - loss: 69036728.0000 - mae: 5461.0830 - val_loss: 110227832.0000 - val_mae: 8851.6475 - learning_rate: 0.0025\n",
      "Epoch 17/50\n",
      "\u001b[1m4349/4378\u001b[0m \u001b[32m━━━━━━━━━━━━━━━━━━━\u001b[0m\u001b[37m━\u001b[0m \u001b[1m0s\u001b[0m 730us/step - loss: 69894832.0000 - mae: 5505.9922\n",
      "Epoch 17: val_mae did not improve from 8555.78711\n",
      "\u001b[1m4378/4378\u001b[0m \u001b[32m━━━━━━━━━━━━━━━━━━━━\u001b[0m\u001b[37m\u001b[0m \u001b[1m4s\u001b[0m 941us/step - loss: 69890736.0000 - mae: 5505.8779 - val_loss: 155708912.0000 - val_mae: 10544.6592 - learning_rate: 0.0025\n",
      "Epoch 18/50\n",
      "\u001b[1m4350/4378\u001b[0m \u001b[32m━━━━━━━━━━━━━━━━━━━\u001b[0m\u001b[37m━\u001b[0m \u001b[1m0s\u001b[0m 717us/step - loss: 69616008.0000 - mae: 5490.6777\n",
      "Epoch 18: val_mae did not improve from 8555.78711\n",
      "\u001b[1m4378/4378\u001b[0m \u001b[32m━━━━━━━━━━━━━━━━━━━━\u001b[0m\u001b[37m\u001b[0m \u001b[1m4s\u001b[0m 931us/step - loss: 69611344.0000 - mae: 5490.5439 - val_loss: 115901216.0000 - val_mae: 9086.4678 - learning_rate: 0.0025\n",
      "Epoch 19/50\n",
      "\u001b[1m4346/4378\u001b[0m \u001b[32m━━━━━━━━━━━━━━━━━━━\u001b[0m\u001b[37m━\u001b[0m \u001b[1m0s\u001b[0m 707us/step - loss: 70176352.0000 - mae: 5488.3066\n",
      "Epoch 19: val_mae did not improve from 8555.78711\n",
      "\u001b[1m4378/4378\u001b[0m \u001b[32m━━━━━━━━━━━━━━━━━━━━\u001b[0m\u001b[37m\u001b[0m \u001b[1m4s\u001b[0m 937us/step - loss: 70167992.0000 - mae: 5488.1035 - val_loss: 197120624.0000 - val_mae: 11860.1602 - learning_rate: 0.0025\n",
      "Epoch 20/50\n",
      "\u001b[1m4364/4378\u001b[0m \u001b[32m━━━━━━━━━━━━━━━━━━━\u001b[0m\u001b[37m━\u001b[0m \u001b[1m0s\u001b[0m 704us/step - loss: 67403832.0000 - mae: 5386.3271\n",
      "Epoch 20: val_mae did not improve from 8555.78711\n",
      "\u001b[1m4378/4378\u001b[0m \u001b[32m━━━━━━━━━━━━━━━━━━━━\u001b[0m\u001b[37m\u001b[0m \u001b[1m4s\u001b[0m 944us/step - loss: 67404952.0000 - mae: 5386.3652 - val_loss: 131470024.0000 - val_mae: 9669.9521 - learning_rate: 0.0012\n",
      "Epoch 21/50\n",
      "\u001b[1m4378/4378\u001b[0m \u001b[32m━━━━━━━━━━━━━━━━━━━━\u001b[0m\u001b[37m\u001b[0m \u001b[1m0s\u001b[0m 701us/step - loss: 65722952.0000 - mae: 5337.0449\n",
      "Epoch 21: val_mae did not improve from 8555.78711\n",
      "\u001b[1m4378/4378\u001b[0m \u001b[32m━━━━━━━━━━━━━━━━━━━━\u001b[0m\u001b[37m\u001b[0m \u001b[1m4s\u001b[0m 907us/step - loss: 65722932.0000 - mae: 5337.0474 - val_loss: 152848336.0000 - val_mae: 10439.3184 - learning_rate: 0.0012\n",
      "Epoch 22/50\n",
      "\u001b[1m4368/4378\u001b[0m \u001b[32m━━━━━━━━━━━━━━━━━━━\u001b[0m\u001b[37m━\u001b[0m \u001b[1m0s\u001b[0m 703us/step - loss: 67196616.0000 - mae: 5383.6655\n",
      "Epoch 22: val_mae did not improve from 8555.78711\n",
      "\u001b[1m4378/4378\u001b[0m \u001b[32m━━━━━━━━━━━━━━━━━━━━\u001b[0m\u001b[37m\u001b[0m \u001b[1m4s\u001b[0m 919us/step - loss: 67196384.0000 - mae: 5383.6592 - val_loss: 142504192.0000 - val_mae: 10078.2236 - learning_rate: 0.0012\n",
      "Epoch 23/50\n",
      "\u001b[1m4360/4378\u001b[0m \u001b[32m━━━━━━━━━━━━━━━━━━━\u001b[0m\u001b[37m━\u001b[0m \u001b[1m0s\u001b[0m 717us/step - loss: 67842800.0000 - mae: 5384.0991\n",
      "Epoch 23: val_mae did not improve from 8555.78711\n",
      "\u001b[1m4378/4378\u001b[0m \u001b[32m━━━━━━━━━━━━━━━━━━━━\u001b[0m\u001b[37m\u001b[0m \u001b[1m4s\u001b[0m 930us/step - loss: 67839312.0000 - mae: 5384.0771 - val_loss: 121779016.0000 - val_mae: 9296.8174 - learning_rate: 0.0012\n",
      "Epoch 24/50\n",
      "\u001b[1m4376/4378\u001b[0m \u001b[32m━━━━━━━━━━━━━━━━━━━\u001b[0m\u001b[37m━\u001b[0m \u001b[1m0s\u001b[0m 733us/step - loss: 67634384.0000 - mae: 5401.1938\n",
      "Epoch 24: val_mae did not improve from 8555.78711\n",
      "\u001b[1m4378/4378\u001b[0m \u001b[32m━━━━━━━━━━━━━━━━━━━━\u001b[0m\u001b[37m\u001b[0m \u001b[1m4s\u001b[0m 944us/step - loss: 67634248.0000 - mae: 5401.1880 - val_loss: 159956112.0000 - val_mae: 10696.2461 - learning_rate: 0.0012\n",
      "Epoch 25/50\n",
      "\u001b[1m4369/4378\u001b[0m \u001b[32m━━━━━━━━━━━━━━━━━━━\u001b[0m\u001b[37m━\u001b[0m \u001b[1m0s\u001b[0m 692us/step - loss: 67540520.0000 - mae: 5391.3882\n",
      "Epoch 25: val_mae did not improve from 8555.78711\n",
      "\u001b[1m4378/4378\u001b[0m \u001b[32m━━━━━━━━━━━━━━━━━━━━\u001b[0m\u001b[37m\u001b[0m \u001b[1m5s\u001b[0m 1ms/step - loss: 67541200.0000 - mae: 5391.4141 - val_loss: 172853120.0000 - val_mae: 11106.7080 - learning_rate: 0.0012\n",
      "Epoch 26/50\n",
      "\u001b[1m4368/4378\u001b[0m \u001b[32m━━━━━━━━━━━━━━━━━━━\u001b[0m\u001b[37m━\u001b[0m \u001b[1m0s\u001b[0m 704us/step - loss: 65406064.0000 - mae: 5314.9150\n",
      "Epoch 26: val_mae did not improve from 8555.78711\n",
      "\u001b[1m4378/4378\u001b[0m \u001b[32m━━━━━━━━━━━━━━━━━━━━\u001b[0m\u001b[37m\u001b[0m \u001b[1m4s\u001b[0m 918us/step - loss: 65405372.0000 - mae: 5314.9062 - val_loss: 165747792.0000 - val_mae: 10855.5166 - learning_rate: 6.2500e-04\n",
      "Epoch 27/50\n",
      "\u001b[1m4363/4378\u001b[0m \u001b[32m━━━━━━━━━━━━━━━━━━━\u001b[0m\u001b[37m━\u001b[0m \u001b[1m0s\u001b[0m 705us/step - loss: 64753488.0000 - mae: 5279.9541\n",
      "Epoch 27: val_mae did not improve from 8555.78711\n",
      "\u001b[1m4378/4378\u001b[0m \u001b[32m━━━━━━━━━━━━━━━━━━━━\u001b[0m\u001b[37m\u001b[0m \u001b[1m4s\u001b[0m 918us/step - loss: 64757732.0000 - mae: 5280.1182 - val_loss: 139817856.0000 - val_mae: 9970.0596 - learning_rate: 6.2500e-04\n",
      "Epoch 28/50\n",
      "\u001b[1m4373/4378\u001b[0m \u001b[32m━━━━━━━━━━━━━━━━━━━\u001b[0m\u001b[37m━\u001b[0m \u001b[1m0s\u001b[0m 726us/step - loss: 64139312.0000 - mae: 5300.3594\n",
      "Epoch 28: val_mae did not improve from 8555.78711\n",
      "\u001b[1m4378/4378\u001b[0m \u001b[32m━━━━━━━━━━━━━━━━━━━━\u001b[0m\u001b[37m\u001b[0m \u001b[1m4s\u001b[0m 937us/step - loss: 64140764.0000 - mae: 5300.3945 - val_loss: 183510032.0000 - val_mae: 11419.1885 - learning_rate: 6.2500e-04\n",
      "Epoch 29/50\n",
      "\u001b[1m4349/4378\u001b[0m \u001b[32m━━━━━━━━━━━━━━━━━━━\u001b[0m\u001b[37m━\u001b[0m \u001b[1m0s\u001b[0m 706us/step - loss: 66397440.0000 - mae: 5359.9380\n",
      "Epoch 29: val_mae did not improve from 8555.78711\n",
      "\u001b[1m4378/4378\u001b[0m \u001b[32m━━━━━━━━━━━━━━━━━━━━\u001b[0m\u001b[37m\u001b[0m \u001b[1m4s\u001b[0m 916us/step - loss: 66397364.0000 - mae: 5359.9116 - val_loss: 179094992.0000 - val_mae: 11283.1377 - learning_rate: 6.2500e-04\n",
      "Epoch 30/50\n",
      "\u001b[1m4378/4378\u001b[0m \u001b[32m━━━━━━━━━━━━━━━━━━━━\u001b[0m\u001b[37m\u001b[0m \u001b[1m0s\u001b[0m 703us/step - loss: 66737556.0000 - mae: 5358.0273\n",
      "Epoch 30: val_mae did not improve from 8555.78711\n",
      "\u001b[1m4378/4378\u001b[0m \u001b[32m━━━━━━━━━━━━━━━━━━━━\u001b[0m\u001b[37m\u001b[0m \u001b[1m4s\u001b[0m 909us/step - loss: 66737416.0000 - mae: 5358.0229 - val_loss: 140548368.0000 - val_mae: 10003.2754 - learning_rate: 6.2500e-04\n",
      "Epoch 31/50\n",
      "\u001b[1m4378/4378\u001b[0m \u001b[32m━━━━━━━━━━━━━━━━━━━━\u001b[0m\u001b[37m\u001b[0m \u001b[1m0s\u001b[0m 740us/step - loss: 66004204.0000 - mae: 5337.4419\n",
      "Epoch 31: val_mae did not improve from 8555.78711\n",
      "\u001b[1m4378/4378\u001b[0m \u001b[32m━━━━━━━━━━━━━━━━━━━━\u001b[0m\u001b[37m\u001b[0m \u001b[1m4s\u001b[0m 952us/step - loss: 66004240.0000 - mae: 5337.4434 - val_loss: 161863408.0000 - val_mae: 10741.0527 - learning_rate: 6.2500e-04\n",
      "Epoch 32/50\n",
      "\u001b[1m4378/4378\u001b[0m \u001b[32m━━━━━━━━━━━━━━━━━━━━\u001b[0m\u001b[37m\u001b[0m \u001b[1m0s\u001b[0m 742us/step - loss: 64572320.0000 - mae: 5278.8760\n",
      "Epoch 32: val_mae did not improve from 8555.78711\n",
      "\u001b[1m4378/4378\u001b[0m \u001b[32m━━━━━━━━━━━━━━━━━━━━\u001b[0m\u001b[37m\u001b[0m \u001b[1m4s\u001b[0m 949us/step - loss: 64572320.0000 - mae: 5278.8804 - val_loss: 169632496.0000 - val_mae: 10988.1650 - learning_rate: 3.1250e-04\n",
      "Epoch 33/50\n",
      "\u001b[1m4378/4378\u001b[0m \u001b[32m━━━━━━━━━━━━━━━━━━━━\u001b[0m\u001b[37m\u001b[0m \u001b[1m0s\u001b[0m 717us/step - loss: 65811976.0000 - mae: 5324.1338\n",
      "Epoch 33: val_mae did not improve from 8555.78711\n",
      "\u001b[1m4378/4378\u001b[0m \u001b[32m━━━━━━━━━━━━━━━━━━━━\u001b[0m\u001b[37m\u001b[0m \u001b[1m4s\u001b[0m 921us/step - loss: 65811848.0000 - mae: 5324.1289 - val_loss: 148901808.0000 - val_mae: 10293.3545 - learning_rate: 3.1250e-04\n",
      "Epoch 34/50\n",
      "\u001b[1m4365/4378\u001b[0m \u001b[32m━━━━━━━━━━━━━━━━━━━\u001b[0m\u001b[37m━\u001b[0m \u001b[1m0s\u001b[0m 704us/step - loss: 63979820.0000 - mae: 5271.7314\n",
      "Epoch 34: val_mae did not improve from 8555.78711\n",
      "\u001b[1m4378/4378\u001b[0m \u001b[32m━━━━━━━━━━━━━━━━━━━━\u001b[0m\u001b[37m\u001b[0m \u001b[1m4s\u001b[0m 915us/step - loss: 63981836.0000 - mae: 5271.7969 - val_loss: 141949424.0000 - val_mae: 10058.5527 - learning_rate: 3.1250e-04\n",
      "Epoch 35/50\n",
      "\u001b[1m4378/4378\u001b[0m \u001b[32m━━━━━━━━━━━━━━━━━━━━\u001b[0m\u001b[37m\u001b[0m \u001b[1m0s\u001b[0m 714us/step - loss: 63568640.0000 - mae: 5274.5039\n",
      "Epoch 35: val_mae did not improve from 8555.78711\n",
      "\u001b[1m4378/4378\u001b[0m \u001b[32m━━━━━━━━━━━━━━━━━━━━\u001b[0m\u001b[37m\u001b[0m \u001b[1m4s\u001b[0m 920us/step - loss: 63568848.0000 - mae: 5274.5083 - val_loss: 158395216.0000 - val_mae: 10602.8965 - learning_rate: 3.1250e-04\n",
      "Epoch 36/50\n",
      "\u001b[1m4339/4378\u001b[0m \u001b[32m━━━━━━━━━━━━━━━━━━━\u001b[0m\u001b[37m━\u001b[0m \u001b[1m0s\u001b[0m 732us/step - loss: 64378652.0000 - mae: 5264.2344\n",
      "Epoch 36: val_mae did not improve from 8555.78711\n",
      "\u001b[1m4378/4378\u001b[0m \u001b[32m━━━━━━━━━━━━━━━━━━━━\u001b[0m\u001b[37m\u001b[0m \u001b[1m4s\u001b[0m 941us/step - loss: 64382560.0000 - mae: 5264.4302 - val_loss: 152492544.0000 - val_mae: 10417.0342 - learning_rate: 3.1250e-04\n",
      "Epoch 37/50\n",
      "\u001b[1m4361/4378\u001b[0m \u001b[32m━━━━━━━━━━━━━━━━━━━\u001b[0m\u001b[37m━\u001b[0m \u001b[1m0s\u001b[0m 705us/step - loss: 65568924.0000 - mae: 5303.1431\n",
      "Epoch 37: val_mae did not improve from 8555.78711\n",
      "\u001b[1m4378/4378\u001b[0m \u001b[32m━━━━━━━━━━━━━━━━━━━━\u001b[0m\u001b[37m\u001b[0m \u001b[1m4s\u001b[0m 917us/step - loss: 65568312.0000 - mae: 5303.1304 - val_loss: 168035232.0000 - val_mae: 10947.1973 - learning_rate: 3.1250e-04\n",
      "Epoch 38/50\n",
      "\u001b[1m4345/4378\u001b[0m \u001b[32m━━━━━━━━━━━━━━━━━━━\u001b[0m\u001b[37m━\u001b[0m \u001b[1m0s\u001b[0m 732us/step - loss: 65292708.0000 - mae: 5316.6172\n",
      "Epoch 38: val_mae did not improve from 8555.78711\n",
      "\u001b[1m4378/4378\u001b[0m \u001b[32m━━━━━━━━━━━━━━━━━━━━\u001b[0m\u001b[37m\u001b[0m \u001b[1m4s\u001b[0m 945us/step - loss: 65291360.0000 - mae: 5316.4614 - val_loss: 159104928.0000 - val_mae: 10631.9756 - learning_rate: 1.5625e-04\n",
      "Epoch 39/50\n",
      "\u001b[1m4367/4378\u001b[0m \u001b[32m━━━━━━━━━━━━━━━━━━━\u001b[0m\u001b[37m━\u001b[0m \u001b[1m0s\u001b[0m 728us/step - loss: 65336852.0000 - mae: 5301.4165\n",
      "Epoch 39: val_mae did not improve from 8555.78711\n",
      "\u001b[1m4378/4378\u001b[0m \u001b[32m━━━━━━━━━━━━━━━━━━━━\u001b[0m\u001b[37m\u001b[0m \u001b[1m4s\u001b[0m 943us/step - loss: 65334880.0000 - mae: 5301.3853 - val_loss: 135785696.0000 - val_mae: 9826.6387 - learning_rate: 1.5625e-04\n",
      "Epoch 40/50\n",
      "\u001b[1m4378/4378\u001b[0m \u001b[32m━━━━━━━━━━━━━━━━━━━━\u001b[0m\u001b[37m\u001b[0m \u001b[1m0s\u001b[0m 717us/step - loss: 64894112.0000 - mae: 5301.2510\n",
      "Epoch 40: val_mae did not improve from 8555.78711\n",
      "\u001b[1m4378/4378\u001b[0m \u001b[32m━━━━━━━━━━━━━━━━━━━━\u001b[0m\u001b[37m\u001b[0m \u001b[1m4s\u001b[0m 924us/step - loss: 64894048.0000 - mae: 5301.2461 - val_loss: 154679040.0000 - val_mae: 10499.6553 - learning_rate: 1.5625e-04\n",
      "Epoch 41/50\n",
      "\u001b[1m4356/4378\u001b[0m \u001b[32m━━━━━━━━━━━━━━━━━━━\u001b[0m\u001b[37m━\u001b[0m \u001b[1m0s\u001b[0m 705us/step - loss: 64870804.0000 - mae: 5287.6768\n",
      "Epoch 41: val_mae did not improve from 8555.78711\n",
      "\u001b[1m4378/4378\u001b[0m \u001b[32m━━━━━━━━━━━━━━━━━━━━\u001b[0m\u001b[37m\u001b[0m \u001b[1m4s\u001b[0m 917us/step - loss: 64869208.0000 - mae: 5287.6084 - val_loss: 154787696.0000 - val_mae: 10495.1719 - learning_rate: 1.5625e-04\n",
      "Epoch 42/50\n",
      "\u001b[1m4375/4378\u001b[0m \u001b[32m━━━━━━━━━━━━━━━━━━━\u001b[0m\u001b[37m━\u001b[0m \u001b[1m0s\u001b[0m 702us/step - loss: 64545248.0000 - mae: 5276.1440\n",
      "Epoch 42: val_mae did not improve from 8555.78711\n",
      "\u001b[1m4378/4378\u001b[0m \u001b[32m━━━━━━━━━━━━━━━━━━━━\u001b[0m\u001b[37m\u001b[0m \u001b[1m4s\u001b[0m 922us/step - loss: 64545808.0000 - mae: 5276.1558 - val_loss: 154248816.0000 - val_mae: 10486.4346 - learning_rate: 1.5625e-04\n",
      "Epoch 43/50\n",
      "\u001b[1m4378/4378\u001b[0m \u001b[32m━━━━━━━━━━━━━━━━━━━━\u001b[0m\u001b[37m\u001b[0m \u001b[1m0s\u001b[0m 959us/step - loss: 64183356.0000 - mae: 5262.5811\n",
      "Epoch 43: val_mae did not improve from 8555.78711\n",
      "\u001b[1m4378/4378\u001b[0m \u001b[32m━━━━━━━━━━━━━━━━━━━━\u001b[0m\u001b[37m\u001b[0m \u001b[1m5s\u001b[0m 1ms/step - loss: 64183252.0000 - mae: 5262.5801 - val_loss: 155353248.0000 - val_mae: 10495.5186 - learning_rate: 1.5625e-04\n",
      "Epoch 44/50\n",
      "\u001b[1m4371/4378\u001b[0m \u001b[32m━━━━━━━━━━━━━━━━━━━\u001b[0m\u001b[37m━\u001b[0m \u001b[1m0s\u001b[0m 692us/step - loss: 63394224.0000 - mae: 5236.5552\n",
      "Epoch 44: val_mae did not improve from 8555.78711\n",
      "\u001b[1m4378/4378\u001b[0m \u001b[32m━━━━━━━━━━━━━━━━━━━━\u001b[0m\u001b[37m\u001b[0m \u001b[1m4s\u001b[0m 923us/step - loss: 63396180.0000 - mae: 5236.6289 - val_loss: 165120800.0000 - val_mae: 10821.9531 - learning_rate: 7.8125e-05\n",
      "Epoch 45/50\n",
      "\u001b[1m4347/4378\u001b[0m \u001b[32m━━━━━━━━━━━━━━━━━━━\u001b[0m\u001b[37m━\u001b[0m \u001b[1m0s\u001b[0m 684us/step - loss: 65280148.0000 - mae: 5296.9082\n",
      "Epoch 45: val_mae did not improve from 8555.78711\n",
      "\u001b[1m4378/4378\u001b[0m \u001b[32m━━━━━━━━━━━━━━━━━━━━\u001b[0m\u001b[37m\u001b[0m \u001b[1m4s\u001b[0m 897us/step - loss: 65275668.0000 - mae: 5296.8101 - val_loss: 156757664.0000 - val_mae: 10545.6895 - learning_rate: 7.8125e-05\n",
      "Epoch 46/50\n",
      "\u001b[1m4378/4378\u001b[0m \u001b[32m━━━━━━━━━━━━━━━━━━━━\u001b[0m\u001b[37m\u001b[0m \u001b[1m0s\u001b[0m 693us/step - loss: 64716052.0000 - mae: 5277.8931\n",
      "Epoch 46: val_mae did not improve from 8555.78711\n",
      "\u001b[1m4378/4378\u001b[0m \u001b[32m━━━━━━━━━━━━━━━━━━━━\u001b[0m\u001b[37m\u001b[0m \u001b[1m4s\u001b[0m 906us/step - loss: 64716032.0000 - mae: 5277.8896 - val_loss: 152762224.0000 - val_mae: 10423.6074 - learning_rate: 7.8125e-05\n",
      "Epoch 47/50\n",
      "\u001b[1m4378/4378\u001b[0m \u001b[32m━━━━━━━━━━━━━━━━━━━━\u001b[0m\u001b[37m\u001b[0m \u001b[1m0s\u001b[0m 782us/step - loss: 65146200.0000 - mae: 5309.9473\n",
      "Epoch 47: val_mae did not improve from 8555.78711\n",
      "\u001b[1m4378/4378\u001b[0m \u001b[32m━━━━━━━━━━━━━━━━━━━━\u001b[0m\u001b[37m\u001b[0m \u001b[1m5s\u001b[0m 994us/step - loss: 65146052.0000 - mae: 5309.9424 - val_loss: 155150608.0000 - val_mae: 10499.0781 - learning_rate: 7.8125e-05\n",
      "Epoch 48/50\n",
      "\u001b[1m4344/4378\u001b[0m \u001b[32m━━━━━━━━━━━━━━━━━━━\u001b[0m\u001b[37m━\u001b[0m \u001b[1m0s\u001b[0m 711us/step - loss: 65393832.0000 - mae: 5291.9492\n",
      "Epoch 48: val_mae did not improve from 8555.78711\n",
      "\u001b[1m4378/4378\u001b[0m \u001b[32m━━━━━━━━━━━━━━━━━━━━\u001b[0m\u001b[37m\u001b[0m \u001b[1m4s\u001b[0m 922us/step - loss: 65397540.0000 - mae: 5292.1191 - val_loss: 146760832.0000 - val_mae: 10217.4600 - learning_rate: 7.8125e-05\n",
      "Epoch 49/50\n",
      "\u001b[1m4378/4378\u001b[0m \u001b[32m━━━━━━━━━━━━━━━━━━━━\u001b[0m\u001b[37m\u001b[0m \u001b[1m0s\u001b[0m 679us/step - loss: 64776232.0000 - mae: 5287.3223\n",
      "Epoch 49: val_mae did not improve from 8555.78711\n",
      "\u001b[1m4378/4378\u001b[0m \u001b[32m━━━━━━━━━━━━━━━━━━━━\u001b[0m\u001b[37m\u001b[0m \u001b[1m4s\u001b[0m 882us/step - loss: 64776108.0000 - mae: 5287.3179 - val_loss: 153170560.0000 - val_mae: 10429.0947 - learning_rate: 7.8125e-05\n",
      "Epoch 50/50\n",
      "\u001b[1m4346/4378\u001b[0m \u001b[32m━━━━━━━━━━━━━━━━━━━\u001b[0m\u001b[37m━\u001b[0m \u001b[1m0s\u001b[0m 696us/step - loss: 63096408.0000 - mae: 5228.0669\n",
      "Epoch 50: val_mae did not improve from 8555.78711\n",
      "\u001b[1m4378/4378\u001b[0m \u001b[32m━━━━━━━━━━━━━━━━━━━━\u001b[0m\u001b[37m\u001b[0m \u001b[1m4s\u001b[0m 908us/step - loss: 63102244.0000 - mae: 5228.2305 - val_loss: 156540000.0000 - val_mae: 10550.8330 - learning_rate: 3.9062e-05\n"
     ]
    }
   ],
   "source": [
    "model.compile(\n",
    "    loss='mse',\n",
    "    optimizer=tf.keras.optimizers.Adam(learning_rate=0.01),\n",
    "    metrics=['mae']\n",
    ")\n",
    "\n",
    "reduce_lr = ReduceLROnPlateau(\n",
    "    monitor='val_mae',  # Choose the metric to monitor\n",
    "    factor=0.5,          # Factor by which to reduce the learning rate\n",
    "    patience=6,          # Number of epochs with no improvement before reducing\n",
    "    min_lr=1e-6          # Minimum learning rate\n",
    ")\n",
    "\n",
    "checkpoint = ModelCheckpoint(\n",
    "    '../models/RNN_model_1.keras',             # File to save the best model\n",
    "    monitor='val_mae',       # Metric to monitor for improvement\n",
    "    mode='min',                   # Mode 'min' for mae (since lower is better)\n",
    "    save_best_only=True,          # Save only when there is an improvement\n",
    "    verbose=1,                    # Print message when saving\n",
    "                    \n",
    ")\n",
    "\n",
    "history = model.fit(\n",
    "    train_dataset,\n",
    "    validation_data = val_dataset,\n",
    "    epochs=50,\n",
    "    callbacks=[reduce_lr, checkpoint]\n",
    ")"
   ]
  },
  {
   "cell_type": "code",
   "execution_count": 9,
   "metadata": {},
   "outputs": [
    {
     "name": "stderr",
     "output_type": "stream",
     "text": [
      "WARNING:absl:You are saving your model as an HDF5 file via `model.save()` or `keras.saving.save_model(model)`. This file format is considered legacy. We recommend using instead the native Keras format, e.g. `model.save('my_model.keras')` or `keras.saving.save_model(model, 'my_model.keras')`. \n"
     ]
    }
   ],
   "source": [
    "model.save(\"../models/RNN_model_1.h5\")  # Saves the model as an HDF5 file\n"
   ]
  }
 ],
 "metadata": {
  "kernelspec": {
   "display_name": "challenge_ENS_env_CFM",
   "language": "python",
   "name": "python3"
  },
  "language_info": {
   "codemirror_mode": {
    "name": "ipython",
    "version": 3
   },
   "file_extension": ".py",
   "mimetype": "text/x-python",
   "name": "python",
   "nbconvert_exporter": "python",
   "pygments_lexer": "ipython3",
   "version": "3.11.11"
  }
 },
 "nbformat": 4,
 "nbformat_minor": 2
}
