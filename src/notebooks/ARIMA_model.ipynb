{
 "cells": [
  {
   "cell_type": "code",
   "execution_count": 1,
   "metadata": {},
   "outputs": [],
   "source": [
    "import numpy as np\n",
    "import pandas as pd\n",
    "import matplotlib.pyplot as plt\n",
    "import statsmodels.api as sm\n",
    "from statsmodels.tsa.arima.model import ARIMA\n",
    "from pmdarima import auto_arima  # Auto-tuning ARIMA parameters\n",
    "\n",
    "from modules.utils import feature_engineering_last, filter_data_by_year_month"
   ]
  },
  {
   "cell_type": "code",
   "execution_count": 3,
   "metadata": {},
   "outputs": [],
   "source": [
    "X = pd.read_csv(\n",
    "   \"/Users/elouan/A. Repo Github ElouanBahri/Predicting_crypto_prices/Historical Prices for BTCUSDT\"\n",
    ")"
   ]
  },
  {
   "cell_type": "code",
   "execution_count": 4,
   "metadata": {},
   "outputs": [],
   "source": [
    "YEARS = [2020, 2021, 2022, 2023, 2024, 2025]\n",
    "\n",
    "Data = filter_data_by_year_month(X, YEARS)\n"
   ]
  },
  {
   "cell_type": "markdown",
   "metadata": {},
   "source": [
    "------------------------------------------------\n",
    "Some graphs on the return "
   ]
  },
  {
   "cell_type": "code",
   "execution_count": null,
   "metadata": {},
   "outputs": [],
   "source": [
    "Data[\"return\"] = np.log(Data[\"close\"] / Data[\"close\"].shift(1))\n"
   ]
  },
  {
   "cell_type": "code",
   "execution_count": 24,
   "metadata": {},
   "outputs": [
    {
     "name": "stderr",
     "output_type": "stream",
     "text": [
      "/Users/elouan/anaconda3/envs/Predicting_crypto/lib/python3.11/site-packages/pandas/core/arraylike.py:399: RuntimeWarning: invalid value encountered in log\n",
      "  result = getattr(ufunc, method)(*inputs, **kwargs)\n"
     ]
    }
   ],
   "source": [
    "df[\"log_return\"] = np.log(df[\"close\"] / df[\"close\"].shift(1))\n",
    "\n",
    "y = df[\"log_return\"]\n",
    "\n",
    "y = y.iloc[1:].reset_index(drop=True)"
   ]
  },
  {
   "cell_type": "code",
   "execution_count": 25,
   "metadata": {},
   "outputs": [
    {
     "data": {
      "text/plain": [
       "0    0.000353\n",
       "1    0.000243\n",
       "2   -0.000265\n",
       "3    0.000060\n",
       "4   -0.000130\n",
       "Name: log_return, dtype: float64"
      ]
     },
     "execution_count": 25,
     "metadata": {},
     "output_type": "execute_result"
    }
   ],
   "source": [
    "y.head()"
   ]
  },
  {
   "cell_type": "code",
   "execution_count": 29,
   "metadata": {},
   "outputs": [],
   "source": [
    "y = y.dropna()  # or df = df.fillna(0)"
   ]
  },
  {
   "cell_type": "code",
   "execution_count": 30,
   "metadata": {},
   "outputs": [
    {
     "name": "stdout",
     "output_type": "stream",
     "text": [
      "0\n",
      "0\n"
     ]
    }
   ],
   "source": [
    "import numpy as np\n",
    "\n",
    "# Check for NaN values in the DataFrame\n",
    "print(y.isna().sum())  # Counts the NaNs for each column\n",
    "\n",
    "# Check for infinite values\n",
    "print(np.isinf(y).sum())  # Counts the infinities for each column"
   ]
  },
  {
   "cell_type": "code",
   "execution_count": 31,
   "metadata": {},
   "outputs": [
    {
     "name": "stdout",
     "output_type": "stream",
     "text": [
      "ADF Statistic: -58.42625035941062\n",
      "p-value: 0.0\n",
      "✅ Data is stationary (p < 0.05)\n"
     ]
    }
   ],
   "source": [
    "from statsmodels.tsa.stattools import adfuller\n",
    "\n",
    "# Perform Augmented Dickey-Fuller Test to know is the series is stationnary or not\n",
    "result = adfuller(y)\n",
    "\n",
    "print(\"ADF Statistic:\", result[0])\n",
    "print(\"p-value:\", result[1])\n",
    "if result[1] < 0.05:\n",
    "    print(\"✅ Data is stationary (p < 0.05)\")\n",
    "else:\n",
    "    print(\"❌ Data is NOT stationary (p > 0.05) - Differencing needed\")"
   ]
  },
  {
   "cell_type": "code",
   "execution_count": 32,
   "metadata": {},
   "outputs": [
    {
     "name": "stdout",
     "output_type": "stream",
     "text": [
      "Performing stepwise search to minimize aic\n",
      " ARIMA(2,0,2)(0,0,0)[0]             : AIC=-523607.042, Time=31.93 sec\n",
      " ARIMA(0,0,0)(0,0,0)[0]             : AIC=-515599.654, Time=4.72 sec\n",
      " ARIMA(1,0,0)(0,0,0)[0]             : AIC=-523015.190, Time=4.16 sec\n",
      " ARIMA(0,0,1)(0,0,0)[0]             : AIC=-523544.623, Time=5.68 sec\n",
      " ARIMA(1,0,2)(0,0,0)[0]             : AIC=-523875.888, Time=24.27 sec\n",
      " ARIMA(0,0,2)(0,0,0)[0]             : AIC=-523603.211, Time=7.74 sec\n",
      " ARIMA(1,0,1)(0,0,0)[0]             : AIC=-523607.885, Time=18.67 sec\n",
      " ARIMA(1,0,3)(0,0,0)[0]             : AIC=-523607.772, Time=12.76 sec\n",
      " ARIMA(0,0,3)(0,0,0)[0]             : AIC=-523614.333, Time=10.27 sec\n",
      " ARIMA(2,0,1)(0,0,0)[0]             : AIC=-523610.549, Time=9.11 sec\n",
      " ARIMA(2,0,3)(0,0,0)[0]             : AIC=-523629.841, Time=15.87 sec\n",
      " ARIMA(1,0,2)(0,0,0)[0] intercept   : AIC=-523873.947, Time=77.30 sec\n",
      "\n",
      "Best model:  ARIMA(1,0,2)(0,0,0)[0]          \n",
      "Total fit time: 222.678 seconds\n",
      "                               SARIMAX Results                                \n",
      "==============================================================================\n",
      "Dep. Variable:                      y   No. Observations:               213354\n",
      "Model:               SARIMAX(1, 0, 2)   Log Likelihood              261941.944\n",
      "Date:                Mon, 10 Mar 2025   AIC                        -523875.888\n",
      "Time:                        16:32:03   BIC                        -523834.805\n",
      "Sample:                             0   HQIC                       -523863.830\n",
      "                             - 213354                                         \n",
      "Covariance Type:                  opg                                         \n",
      "==============================================================================\n",
      "                 coef    std err          z      P>|z|      [0.025      0.975]\n",
      "------------------------------------------------------------------------------\n",
      "ar.L1         -0.8732      0.001   -682.382      0.000      -0.876      -0.871\n",
      "ma.L1          0.6798      0.001    526.931      0.000       0.677       0.682\n",
      "ma.L2         -0.1918      0.000   -814.998      0.000      -0.192      -0.191\n",
      "sigma2         0.0050   6.56e-07   7655.424      0.000       0.005       0.005\n",
      "===================================================================================\n",
      "Ljung-Box (L1) (Q):                   0.00   Jarque-Bera (JB):       12488696940.30\n",
      "Prob(Q):                              0.99   Prob(JB):                         0.00\n",
      "Heteroskedasticity (H):               0.08   Skew:                            -1.69\n",
      "Prob(H) (two-sided):                  0.00   Kurtosis:                      1188.26\n",
      "===================================================================================\n",
      "\n",
      "Warnings:\n",
      "[1] Covariance matrix calculated using the outer product of gradients (complex-step).\n"
     ]
    }
   ],
   "source": [
    "stepwise_fit = auto_arima(y, seasonal=False, trace=True, suppress_warnings=True)\n",
    "print(stepwise_fit.summary())"
   ]
  },
  {
   "cell_type": "code",
   "execution_count": 33,
   "metadata": {},
   "outputs": [
    {
     "name": "stderr",
     "output_type": "stream",
     "text": [
      "/Users/elouan/anaconda3/envs/Predicting_crypto/lib/python3.11/site-packages/statsmodels/tsa/base/tsa_model.py:473: ValueWarning: An unsupported index was provided. As a result, forecasts cannot be generated. To use the model for forecasting, use one of the supported classes of index.\n",
      "  self._init_dates(dates, freq)\n",
      "/Users/elouan/anaconda3/envs/Predicting_crypto/lib/python3.11/site-packages/statsmodels/tsa/base/tsa_model.py:473: ValueWarning: An unsupported index was provided. As a result, forecasts cannot be generated. To use the model for forecasting, use one of the supported classes of index.\n",
      "  self._init_dates(dates, freq)\n",
      "/Users/elouan/anaconda3/envs/Predicting_crypto/lib/python3.11/site-packages/statsmodels/tsa/base/tsa_model.py:473: ValueWarning: An unsupported index was provided. As a result, forecasts cannot be generated. To use the model for forecasting, use one of the supported classes of index.\n",
      "  self._init_dates(dates, freq)\n"
     ]
    },
    {
     "name": "stdout",
     "output_type": "stream",
     "text": [
      "                               SARIMAX Results                                \n",
      "==============================================================================\n",
      "Dep. Variable:             log_return   No. Observations:               213354\n",
      "Model:                 ARIMA(1, 0, 2)   Log Likelihood              261941.970\n",
      "Date:                Mon, 10 Mar 2025   AIC                        -523873.940\n",
      "Time:                        16:34:40   BIC                        -523822.586\n",
      "Sample:                             0   HQIC                       -523858.868\n",
      "                             - 213354                                         \n",
      "Covariance Type:                  opg                                         \n",
      "==============================================================================\n",
      "                 coef    std err          z      P>|z|      [0.025      0.975]\n",
      "------------------------------------------------------------------------------\n",
      "const      -3.619e-05      0.000     -0.292      0.770      -0.000       0.000\n",
      "ar.L1         -0.8732      0.001   -682.037      0.000      -0.876      -0.871\n",
      "ma.L1          0.6798      0.001    526.421      0.000       0.677       0.682\n",
      "ma.L2         -0.1918      0.000   -813.965      0.000      -0.192      -0.191\n",
      "sigma2         0.0050   6.58e-07   7639.564      0.000       0.005       0.005\n",
      "===================================================================================\n",
      "Ljung-Box (L1) (Q):                   0.00   Jarque-Bera (JB):       12488862504.32\n",
      "Prob(Q):                              1.00   Prob(JB):                         0.00\n",
      "Heteroskedasticity (H):               0.08   Skew:                            -1.69\n",
      "Prob(H) (two-sided):                  0.00   Kurtosis:                      1188.26\n",
      "===================================================================================\n",
      "\n",
      "Warnings:\n",
      "[1] Covariance matrix calculated using the outer product of gradients (complex-step).\n"
     ]
    }
   ],
   "source": [
    "# Use best (p,d,q) from auto_arima()\n",
    "p, d, q = stepwise_fit.order\n",
    "\n",
    "# Fit ARIMA model on log returns\n",
    "model = ARIMA(y, order=(p, d, q))\n",
    "model_fit = model.fit()\n",
    "\n",
    "# Print model summary\n",
    "print(model_fit.summary())"
   ]
  },
  {
   "cell_type": "code",
   "execution_count": 34,
   "metadata": {},
   "outputs": [
    {
     "name": "stdout",
     "output_type": "stream",
     "text": [
      "213354    1.851581e-04\n",
      "213355   -8.969853e-05\n",
      "213356    1.054065e-05\n",
      "213357   -7.698569e-05\n",
      "213358   -5.598837e-07\n",
      "Name: predicted_mean, dtype: float64\n"
     ]
    },
    {
     "name": "stderr",
     "output_type": "stream",
     "text": [
      "/Users/elouan/anaconda3/envs/Predicting_crypto/lib/python3.11/site-packages/statsmodels/tsa/base/tsa_model.py:837: ValueWarning: No supported index is available. Prediction results will be given with an integer index beginning at `start`.\n",
      "  return get_prediction_index(\n",
      "/Users/elouan/anaconda3/envs/Predicting_crypto/lib/python3.11/site-packages/statsmodels/tsa/base/tsa_model.py:837: FutureWarning: No supported index is available. In the next version, calling this method in a model without a supported index will result in an exception.\n",
      "  return get_prediction_index(\n"
     ]
    }
   ],
   "source": [
    "forecast_steps = 5  # 40 x 15-minute = 10 hours\n",
    "\n",
    "# Forecast log returns\n",
    "forecast_log_return = model_fit.forecast(steps=forecast_steps)\n",
    "print(forecast_log_return.head())  # Check first few values"
   ]
  },
  {
   "cell_type": "code",
   "execution_count": 40,
   "metadata": {},
   "outputs": [
    {
     "name": "stderr",
     "output_type": "stream",
     "text": [
      "/Users/elouan/anaconda3/envs/Predicting_crypto/lib/python3.11/site-packages/statsmodels/tsa/base/tsa_model.py:473: ValueWarning: An unsupported index was provided. As a result, forecasts cannot be generated. To use the model for forecasting, use one of the supported classes of index.\n",
      "  self._init_dates(dates, freq)\n",
      "/Users/elouan/anaconda3/envs/Predicting_crypto/lib/python3.11/site-packages/statsmodels/tsa/base/tsa_model.py:473: ValueWarning: An unsupported index was provided. As a result, forecasts cannot be generated. To use the model for forecasting, use one of the supported classes of index.\n",
      "  self._init_dates(dates, freq)\n",
      "/Users/elouan/anaconda3/envs/Predicting_crypto/lib/python3.11/site-packages/statsmodels/tsa/base/tsa_model.py:473: ValueWarning: An unsupported index was provided. As a result, forecasts cannot be generated. To use the model for forecasting, use one of the supported classes of index.\n",
      "  self._init_dates(dates, freq)\n",
      "/Users/elouan/anaconda3/envs/Predicting_crypto/lib/python3.11/site-packages/statsmodels/tsa/base/tsa_model.py:837: ValueWarning: No supported index is available. Prediction results will be given with an integer index beginning at `start`.\n",
      "  return get_prediction_index(\n",
      "/Users/elouan/anaconda3/envs/Predicting_crypto/lib/python3.11/site-packages/statsmodels/tsa/base/tsa_model.py:837: FutureWarning: No supported index is available. In the next version, calling this method in a model without a supported index will result in an exception.\n",
      "  return get_prediction_index(\n",
      "/Users/elouan/anaconda3/envs/Predicting_crypto/lib/python3.11/site-packages/statsmodels/tsa/base/tsa_model.py:473: ValueWarning: An unsupported index was provided. As a result, forecasts cannot be generated. To use the model for forecasting, use one of the supported classes of index.\n",
      "  self._init_dates(dates, freq)\n",
      "/Users/elouan/anaconda3/envs/Predicting_crypto/lib/python3.11/site-packages/statsmodels/tsa/base/tsa_model.py:473: ValueWarning: An unsupported index was provided. As a result, forecasts cannot be generated. To use the model for forecasting, use one of the supported classes of index.\n",
      "  self._init_dates(dates, freq)\n",
      "/Users/elouan/anaconda3/envs/Predicting_crypto/lib/python3.11/site-packages/statsmodels/tsa/base/tsa_model.py:473: ValueWarning: An unsupported index was provided. As a result, forecasts cannot be generated. To use the model for forecasting, use one of the supported classes of index.\n",
      "  self._init_dates(dates, freq)\n",
      "/Users/elouan/anaconda3/envs/Predicting_crypto/lib/python3.11/site-packages/statsmodels/tsa/base/tsa_model.py:837: ValueWarning: No supported index is available. Prediction results will be given with an integer index beginning at `start`.\n",
      "  return get_prediction_index(\n",
      "/Users/elouan/anaconda3/envs/Predicting_crypto/lib/python3.11/site-packages/statsmodels/tsa/base/tsa_model.py:837: FutureWarning: No supported index is available. In the next version, calling this method in a model without a supported index will result in an exception.\n",
      "  return get_prediction_index(\n",
      "/Users/elouan/anaconda3/envs/Predicting_crypto/lib/python3.11/site-packages/statsmodels/tsa/base/tsa_model.py:473: ValueWarning: An unsupported index was provided. As a result, forecasts cannot be generated. To use the model for forecasting, use one of the supported classes of index.\n",
      "  self._init_dates(dates, freq)\n",
      "/Users/elouan/anaconda3/envs/Predicting_crypto/lib/python3.11/site-packages/statsmodels/tsa/base/tsa_model.py:473: ValueWarning: An unsupported index was provided. As a result, forecasts cannot be generated. To use the model for forecasting, use one of the supported classes of index.\n",
      "  self._init_dates(dates, freq)\n",
      "/Users/elouan/anaconda3/envs/Predicting_crypto/lib/python3.11/site-packages/statsmodels/tsa/base/tsa_model.py:473: ValueWarning: An unsupported index was provided. As a result, forecasts cannot be generated. To use the model for forecasting, use one of the supported classes of index.\n",
      "  self._init_dates(dates, freq)\n",
      "/Users/elouan/anaconda3/envs/Predicting_crypto/lib/python3.11/site-packages/statsmodels/tsa/base/tsa_model.py:837: ValueWarning: No supported index is available. Prediction results will be given with an integer index beginning at `start`.\n",
      "  return get_prediction_index(\n",
      "/Users/elouan/anaconda3/envs/Predicting_crypto/lib/python3.11/site-packages/statsmodels/tsa/base/tsa_model.py:837: FutureWarning: No supported index is available. In the next version, calling this method in a model without a supported index will result in an exception.\n",
      "  return get_prediction_index(\n",
      "/Users/elouan/anaconda3/envs/Predicting_crypto/lib/python3.11/site-packages/statsmodels/tsa/base/tsa_model.py:473: ValueWarning: An unsupported index was provided. As a result, forecasts cannot be generated. To use the model for forecasting, use one of the supported classes of index.\n",
      "  self._init_dates(dates, freq)\n",
      "/Users/elouan/anaconda3/envs/Predicting_crypto/lib/python3.11/site-packages/statsmodels/tsa/base/tsa_model.py:473: ValueWarning: An unsupported index was provided. As a result, forecasts cannot be generated. To use the model for forecasting, use one of the supported classes of index.\n",
      "  self._init_dates(dates, freq)\n",
      "/Users/elouan/anaconda3/envs/Predicting_crypto/lib/python3.11/site-packages/statsmodels/tsa/base/tsa_model.py:473: ValueWarning: An unsupported index was provided. As a result, forecasts cannot be generated. To use the model for forecasting, use one of the supported classes of index.\n",
      "  self._init_dates(dates, freq)\n",
      "/Users/elouan/anaconda3/envs/Predicting_crypto/lib/python3.11/site-packages/statsmodels/tsa/base/tsa_model.py:837: ValueWarning: No supported index is available. Prediction results will be given with an integer index beginning at `start`.\n",
      "  return get_prediction_index(\n",
      "/Users/elouan/anaconda3/envs/Predicting_crypto/lib/python3.11/site-packages/statsmodels/tsa/base/tsa_model.py:837: FutureWarning: No supported index is available. In the next version, calling this method in a model without a supported index will result in an exception.\n",
      "  return get_prediction_index(\n",
      "/Users/elouan/anaconda3/envs/Predicting_crypto/lib/python3.11/site-packages/statsmodels/tsa/base/tsa_model.py:473: ValueWarning: An unsupported index was provided. As a result, forecasts cannot be generated. To use the model for forecasting, use one of the supported classes of index.\n",
      "  self._init_dates(dates, freq)\n",
      "/Users/elouan/anaconda3/envs/Predicting_crypto/lib/python3.11/site-packages/statsmodels/tsa/base/tsa_model.py:473: ValueWarning: An unsupported index was provided. As a result, forecasts cannot be generated. To use the model for forecasting, use one of the supported classes of index.\n",
      "  self._init_dates(dates, freq)\n",
      "/Users/elouan/anaconda3/envs/Predicting_crypto/lib/python3.11/site-packages/statsmodels/tsa/base/tsa_model.py:473: ValueWarning: An unsupported index was provided. As a result, forecasts cannot be generated. To use the model for forecasting, use one of the supported classes of index.\n",
      "  self._init_dates(dates, freq)\n",
      "/Users/elouan/anaconda3/envs/Predicting_crypto/lib/python3.11/site-packages/statsmodels/tsa/base/tsa_model.py:837: ValueWarning: No supported index is available. Prediction results will be given with an integer index beginning at `start`.\n",
      "  return get_prediction_index(\n",
      "/Users/elouan/anaconda3/envs/Predicting_crypto/lib/python3.11/site-packages/statsmodels/tsa/base/tsa_model.py:837: FutureWarning: No supported index is available. In the next version, calling this method in a model without a supported index will result in an exception.\n",
      "  return get_prediction_index(\n",
      "/Users/elouan/anaconda3/envs/Predicting_crypto/lib/python3.11/site-packages/statsmodels/tsa/base/tsa_model.py:473: ValueWarning: An unsupported index was provided. As a result, forecasts cannot be generated. To use the model for forecasting, use one of the supported classes of index.\n",
      "  self._init_dates(dates, freq)\n",
      "/Users/elouan/anaconda3/envs/Predicting_crypto/lib/python3.11/site-packages/statsmodels/tsa/base/tsa_model.py:473: ValueWarning: An unsupported index was provided. As a result, forecasts cannot be generated. To use the model for forecasting, use one of the supported classes of index.\n",
      "  self._init_dates(dates, freq)\n",
      "/Users/elouan/anaconda3/envs/Predicting_crypto/lib/python3.11/site-packages/statsmodels/tsa/base/tsa_model.py:473: ValueWarning: An unsupported index was provided. As a result, forecasts cannot be generated. To use the model for forecasting, use one of the supported classes of index.\n",
      "  self._init_dates(dates, freq)\n",
      "/Users/elouan/anaconda3/envs/Predicting_crypto/lib/python3.11/site-packages/statsmodels/tsa/base/tsa_model.py:837: ValueWarning: No supported index is available. Prediction results will be given with an integer index beginning at `start`.\n",
      "  return get_prediction_index(\n",
      "/Users/elouan/anaconda3/envs/Predicting_crypto/lib/python3.11/site-packages/statsmodels/tsa/base/tsa_model.py:837: FutureWarning: No supported index is available. In the next version, calling this method in a model without a supported index will result in an exception.\n",
      "  return get_prediction_index(\n",
      "/Users/elouan/anaconda3/envs/Predicting_crypto/lib/python3.11/site-packages/statsmodels/tsa/base/tsa_model.py:473: ValueWarning: An unsupported index was provided. As a result, forecasts cannot be generated. To use the model for forecasting, use one of the supported classes of index.\n",
      "  self._init_dates(dates, freq)\n",
      "/Users/elouan/anaconda3/envs/Predicting_crypto/lib/python3.11/site-packages/statsmodels/tsa/base/tsa_model.py:473: ValueWarning: An unsupported index was provided. As a result, forecasts cannot be generated. To use the model for forecasting, use one of the supported classes of index.\n",
      "  self._init_dates(dates, freq)\n",
      "/Users/elouan/anaconda3/envs/Predicting_crypto/lib/python3.11/site-packages/statsmodels/tsa/base/tsa_model.py:473: ValueWarning: An unsupported index was provided. As a result, forecasts cannot be generated. To use the model for forecasting, use one of the supported classes of index.\n",
      "  self._init_dates(dates, freq)\n",
      "/Users/elouan/anaconda3/envs/Predicting_crypto/lib/python3.11/site-packages/statsmodels/tsa/base/tsa_model.py:837: ValueWarning: No supported index is available. Prediction results will be given with an integer index beginning at `start`.\n",
      "  return get_prediction_index(\n",
      "/Users/elouan/anaconda3/envs/Predicting_crypto/lib/python3.11/site-packages/statsmodels/tsa/base/tsa_model.py:837: FutureWarning: No supported index is available. In the next version, calling this method in a model without a supported index will result in an exception.\n",
      "  return get_prediction_index(\n",
      "/Users/elouan/anaconda3/envs/Predicting_crypto/lib/python3.11/site-packages/statsmodels/tsa/base/tsa_model.py:473: ValueWarning: An unsupported index was provided. As a result, forecasts cannot be generated. To use the model for forecasting, use one of the supported classes of index.\n",
      "  self._init_dates(dates, freq)\n",
      "/Users/elouan/anaconda3/envs/Predicting_crypto/lib/python3.11/site-packages/statsmodels/tsa/base/tsa_model.py:473: ValueWarning: An unsupported index was provided. As a result, forecasts cannot be generated. To use the model for forecasting, use one of the supported classes of index.\n",
      "  self._init_dates(dates, freq)\n",
      "/Users/elouan/anaconda3/envs/Predicting_crypto/lib/python3.11/site-packages/statsmodels/tsa/base/tsa_model.py:473: ValueWarning: An unsupported index was provided. As a result, forecasts cannot be generated. To use the model for forecasting, use one of the supported classes of index.\n",
      "  self._init_dates(dates, freq)\n",
      "/Users/elouan/anaconda3/envs/Predicting_crypto/lib/python3.11/site-packages/statsmodels/tsa/base/tsa_model.py:837: ValueWarning: No supported index is available. Prediction results will be given with an integer index beginning at `start`.\n",
      "  return get_prediction_index(\n",
      "/Users/elouan/anaconda3/envs/Predicting_crypto/lib/python3.11/site-packages/statsmodels/tsa/base/tsa_model.py:837: FutureWarning: No supported index is available. In the next version, calling this method in a model without a supported index will result in an exception.\n",
      "  return get_prediction_index(\n",
      "/Users/elouan/anaconda3/envs/Predicting_crypto/lib/python3.11/site-packages/statsmodels/tsa/base/tsa_model.py:473: ValueWarning: An unsupported index was provided. As a result, forecasts cannot be generated. To use the model for forecasting, use one of the supported classes of index.\n",
      "  self._init_dates(dates, freq)\n",
      "/Users/elouan/anaconda3/envs/Predicting_crypto/lib/python3.11/site-packages/statsmodels/tsa/base/tsa_model.py:473: ValueWarning: An unsupported index was provided. As a result, forecasts cannot be generated. To use the model for forecasting, use one of the supported classes of index.\n",
      "  self._init_dates(dates, freq)\n",
      "/Users/elouan/anaconda3/envs/Predicting_crypto/lib/python3.11/site-packages/statsmodels/tsa/base/tsa_model.py:473: ValueWarning: An unsupported index was provided. As a result, forecasts cannot be generated. To use the model for forecasting, use one of the supported classes of index.\n",
      "  self._init_dates(dates, freq)\n",
      "/Users/elouan/anaconda3/envs/Predicting_crypto/lib/python3.11/site-packages/statsmodels/tsa/base/tsa_model.py:837: ValueWarning: No supported index is available. Prediction results will be given with an integer index beginning at `start`.\n",
      "  return get_prediction_index(\n",
      "/Users/elouan/anaconda3/envs/Predicting_crypto/lib/python3.11/site-packages/statsmodels/tsa/base/tsa_model.py:837: FutureWarning: No supported index is available. In the next version, calling this method in a model without a supported index will result in an exception.\n",
      "  return get_prediction_index(\n",
      "/Users/elouan/anaconda3/envs/Predicting_crypto/lib/python3.11/site-packages/statsmodels/tsa/base/tsa_model.py:473: ValueWarning: An unsupported index was provided. As a result, forecasts cannot be generated. To use the model for forecasting, use one of the supported classes of index.\n",
      "  self._init_dates(dates, freq)\n",
      "/Users/elouan/anaconda3/envs/Predicting_crypto/lib/python3.11/site-packages/statsmodels/tsa/base/tsa_model.py:473: ValueWarning: An unsupported index was provided. As a result, forecasts cannot be generated. To use the model for forecasting, use one of the supported classes of index.\n",
      "  self._init_dates(dates, freq)\n",
      "/Users/elouan/anaconda3/envs/Predicting_crypto/lib/python3.11/site-packages/statsmodels/tsa/base/tsa_model.py:473: ValueWarning: An unsupported index was provided. As a result, forecasts cannot be generated. To use the model for forecasting, use one of the supported classes of index.\n",
      "  self._init_dates(dates, freq)\n"
     ]
    },
    {
     "name": "stdout",
     "output_type": "stream",
     "text": [
      "Accuracy: 0.2000\n"
     ]
    },
    {
     "name": "stderr",
     "output_type": "stream",
     "text": [
      "/Users/elouan/anaconda3/envs/Predicting_crypto/lib/python3.11/site-packages/statsmodels/tsa/base/tsa_model.py:837: ValueWarning: No supported index is available. Prediction results will be given with an integer index beginning at `start`.\n",
      "  return get_prediction_index(\n",
      "/Users/elouan/anaconda3/envs/Predicting_crypto/lib/python3.11/site-packages/statsmodels/tsa/base/tsa_model.py:837: FutureWarning: No supported index is available. In the next version, calling this method in a model without a supported index will result in an exception.\n",
      "  return get_prediction_index(\n"
     ]
    }
   ],
   "source": [
    "from sklearn.metrics import accuracy_score\n",
    "\n",
    "# Define the training size (number of historical points to train on)\n",
    "train_size = int(len(y) * 0.8)  # Use 80% of data for training\n",
    "\n",
    "\n",
    "def convert_to_binary_labels(log_returns):\n",
    "    return (log_returns > 0).astype(int)\n",
    "\n",
    "\n",
    "# Convert the actual log returns into binary labels\n",
    "actual_log_returns = y.iloc[train_size + 1 :].values\n",
    "actual_labels = convert_to_binary_labels(actual_log_returns)\n",
    "\n",
    "# Backtesting loop: rolling window (with binary classification)\n",
    "predictions_binary = []\n",
    "\n",
    "\n",
    "# Backtesting loop: rolling window\n",
    "for i in range(train_size, train_size + 10):\n",
    "    train_data = y.iloc[:i]  # Train on the first `i` data points\n",
    "    test_data = y.iloc[i : i + 1]  # The next log return to predict\n",
    "\n",
    "    # Fit the model on the current training data\n",
    "    model = ARIMA(train_data, order=(p, d, q))\n",
    "    model_fit = model.fit()\n",
    "\n",
    "    # Make a prediction for the next step (log return)\n",
    "    forecast_log_return = model_fit.forecast(steps=1)\n",
    "\n",
    "    # Store the predicted log return\n",
    "\n",
    "    prediction_binary = convert_to_binary_labels(forecast_log_return)\n",
    "    predictions_binary.append(prediction_binary)\n",
    "\n",
    "\n",
    "# Compare predicted binary labels to actual binary labels\n",
    "accuracy = accuracy_score(actual_labels[:10], predictions_binary)\n",
    "print(f\"Accuracy: {accuracy:.4f}\")"
   ]
  },
  {
   "cell_type": "markdown",
   "metadata": {},
   "source": [
    "_________________\n",
    "GARCH"
   ]
  },
  {
   "cell_type": "code",
   "execution_count": null,
   "metadata": {},
   "outputs": [],
   "source": [
    "X[\"log_return\"] = np.log(X[\"close\"] / X[\"close\"].shift(1))\n",
    "X.dropna(inplace=True)"
   ]
  },
  {
   "cell_type": "code",
   "execution_count": null,
   "metadata": {},
   "outputs": [],
   "source": [
    "from arch import arch_model\n",
    "\n",
    "# Fit GARCH on log returns\n",
    "garch = arch_model(X[\"log_return\"].dropna(), vol=\"Garch\", p=1, q=1)\n",
    "garch_fit = garch.fit(disp=\"off\")\n",
    "\n",
    "# Forecast volatility (next 30 steps)\n",
    "forecast_vol = garch_fit.forecast(start=len(df), horizon=30)"
   ]
  },
  {
   "cell_type": "code",
   "execution_count": null,
   "metadata": {},
   "outputs": [],
   "source": []
  }
 ],
 "metadata": {
  "kernelspec": {
   "display_name": "Predicting_crypto",
   "language": "python",
   "name": "python3"
  },
  "language_info": {
   "codemirror_mode": {
    "name": "ipython",
    "version": 3
   },
   "file_extension": ".py",
   "mimetype": "text/x-python",
   "name": "python",
   "nbconvert_exporter": "python",
   "pygments_lexer": "ipython3",
   "version": "3.11.11"
  }
 },
 "nbformat": 4,
 "nbformat_minor": 2
}
