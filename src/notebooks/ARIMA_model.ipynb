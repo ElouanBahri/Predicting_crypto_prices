{
 "cells": [
  {
   "cell_type": "code",
   "execution_count": 44,
   "metadata": {},
   "outputs": [],
   "source": [
    "import numpy as np\n",
    "import pandas as pd\n",
    "import matplotlib.pyplot as plt\n",
    "import statsmodels.api as sm\n",
    "from statsmodels.tsa.arima.model import ARIMA\n",
    "from pmdarima import auto_arima  # Auto-tuning ARIMA parameters\n",
    "\n",
    "from modules.utils import feature_engineering_last, filter_data_by_year_month"
   ]
  },
  {
   "cell_type": "code",
   "execution_count": 45,
   "metadata": {},
   "outputs": [],
   "source": [
    "X = pd.read_csv(\n",
    "    \"/Users/elouan/Repo Github ElouanBahri/Predicting_crypto_prices/Historical Prices for BTCUSDT\"\n",
    ")"
   ]
  },
  {
   "cell_type": "code",
   "execution_count": null,
   "metadata": {},
   "outputs": [],
   "source": [
    "YEARS = [2020, 2021, 2022, 2023, 2024, 2025]\n",
    "\n",
    "Data = filter_data_by_year_month(X, YEARS)\n",
    "\n",
    "df = feature_engineering_last(X)"
   ]
  },
  {
   "cell_type": "code",
   "execution_count": 46,
   "metadata": {},
   "outputs": [],
   "source": [
    "X[\"log_return\"] = np.log(X[\"close\"] / X[\"close\"].shift(1))\n",
    "X.dropna(inplace=True)\n",
    "\n",
    "X[\"timestamp\"] = pd.to_datetime(X[\"timestamp\"])  # Ensure datetime format\n",
    "X.set_index(\"timestamp\", inplace=True)  # Set timestamp as index\n",
    "X = X.sort_index()"
   ]
  },
  {
   "cell_type": "code",
   "execution_count": null,
   "metadata": {},
   "outputs": [],
   "source": [
    "X = X.resample(\"15T\").ffill()  # Forward fill missing time intervals"
   ]
  },
  {
   "cell_type": "code",
   "execution_count": 47,
   "metadata": {},
   "outputs": [
    {
     "name": "stdout",
     "output_type": "stream",
     "text": [
      "ADF Statistic: -49.99793314221417\n",
      "p-value: 0.0\n",
      "✅ Data is stationary (p < 0.05)\n"
     ]
    }
   ],
   "source": [
    "from statsmodels.tsa.stattools import adfuller\n",
    "\n",
    "# Perform Augmented Dickey-Fuller Test to know is the series is stationnary or not \n",
    "result = adfuller(X[\"log_return\"])\n",
    "\n",
    "print(\"ADF Statistic:\", result[0])\n",
    "print(\"p-value:\", result[1])\n",
    "if result[1] < 0.05:\n",
    "    print(\"✅ Data is stationary (p < 0.05)\")\n",
    "else:\n",
    "    print(\"❌ Data is NOT stationary (p > 0.05) - Differencing needed\")"
   ]
  },
  {
   "cell_type": "code",
   "execution_count": 48,
   "metadata": {},
   "outputs": [
    {
     "name": "stdout",
     "output_type": "stream",
     "text": [
      "Performing stepwise search to minimize aic\n",
      " ARIMA(2,0,2)(0,0,0)[0]             : AIC=-1794477.870, Time=13.75 sec\n",
      " ARIMA(0,0,0)(0,0,0)[0]             : AIC=-1794197.760, Time=7.12 sec\n",
      " ARIMA(1,0,0)(0,0,0)[0]             : AIC=-1794215.734, Time=6.91 sec\n",
      " ARIMA(0,0,1)(0,0,0)[0]             : AIC=-1794217.113, Time=6.76 sec\n",
      " ARIMA(1,0,2)(0,0,0)[0]             : AIC=-1794477.173, Time=11.54 sec\n",
      " ARIMA(2,0,1)(0,0,0)[0]             : AIC=-1794475.911, Time=16.85 sec\n"
     ]
    },
    {
     "name": "stderr",
     "output_type": "stream",
     "text": [
      "/Users/elouan/anaconda3/envs/Predicting_crypto/lib/python3.11/site-packages/statsmodels/tsa/statespace/sarimax.py:1901: RuntimeWarning: divide by zero encountered in reciprocal\n",
      "  return np.roots(self.polynomial_reduced_ar)**-1\n",
      "/Users/elouan/anaconda3/envs/Predicting_crypto/lib/python3.11/site-packages/statsmodels/tsa/statespace/sarimax.py:1908: RuntimeWarning: divide by zero encountered in reciprocal\n",
      "  return np.roots(self.polynomial_reduced_ma)**-1\n"
     ]
    },
    {
     "name": "stdout",
     "output_type": "stream",
     "text": [
      " ARIMA(3,0,2)(0,0,0)[0]             : AIC=-1794187.534, Time=34.11 sec\n",
      " ARIMA(2,0,3)(0,0,0)[0]             : AIC=-1794495.183, Time=19.85 sec\n",
      " ARIMA(1,0,3)(0,0,0)[0]             : AIC=-1794461.022, Time=24.68 sec\n",
      " ARIMA(3,0,3)(0,0,0)[0]             : AIC=-1794494.771, Time=18.44 sec\n",
      " ARIMA(2,0,4)(0,0,0)[0]             : AIC=-1794503.537, Time=34.47 sec\n",
      " ARIMA(1,0,4)(0,0,0)[0]             : AIC=-1794478.299, Time=18.97 sec\n",
      " ARIMA(3,0,4)(0,0,0)[0]             : AIC=-1794017.046, Time=37.85 sec\n",
      " ARIMA(2,0,5)(0,0,0)[0]             : AIC=-1794501.154, Time=23.47 sec\n",
      " ARIMA(1,0,5)(0,0,0)[0]             : AIC=-1794502.979, Time=24.30 sec\n",
      " ARIMA(3,0,5)(0,0,0)[0]             : AIC=-1794475.129, Time=74.24 sec\n",
      " ARIMA(2,0,4)(0,0,0)[0] intercept   : AIC=-1794501.679, Time=231.82 sec\n",
      "\n",
      "Best model:  ARIMA(2,0,4)(0,0,0)[0]          \n",
      "Total fit time: 605.293 seconds\n",
      "                               SARIMAX Results                                \n",
      "==============================================================================\n",
      "Dep. Variable:                      y   No. Observations:               213655\n",
      "Model:               SARIMAX(2, 0, 4)   Log Likelihood              897258.768\n",
      "Date:                Thu, 06 Feb 2025   AIC                       -1794503.537\n",
      "Time:                        22:40:19   BIC                       -1794431.632\n",
      "Sample:                             0   HQIC                      -1794482.434\n",
      "                             - 213655                                         \n",
      "Covariance Type:                  opg                                         \n",
      "==============================================================================\n",
      "                 coef    std err          z      P>|z|      [0.025      0.975]\n",
      "------------------------------------------------------------------------------\n",
      "ar.L1          1.0543      0.039     26.757      0.000       0.977       1.132\n",
      "ar.L2         -0.3447      0.037     -9.320      0.000      -0.417      -0.272\n",
      "ma.L1         -1.0642      0.039    -26.975      0.000      -1.142      -0.987\n",
      "ma.L2          0.3209      0.037      8.588      0.000       0.248       0.394\n",
      "ma.L3          0.0403      0.001     36.192      0.000       0.038       0.043\n",
      "ma.L4         -0.0276      0.001    -22.896      0.000      -0.030      -0.025\n",
      "sigma2      1.318e-05   6.15e-09   2144.191      0.000    1.32e-05    1.32e-05\n",
      "===================================================================================\n",
      "Ljung-Box (L1) (Q):                   0.00   Jarque-Bera (JB):         112424773.63\n",
      "Prob(Q):                              1.00   Prob(JB):                         0.00\n",
      "Heteroskedasticity (H):               0.42   Skew:                            -0.14\n",
      "Prob(H) (two-sided):                  0.00   Kurtosis:                       115.38\n",
      "===================================================================================\n",
      "\n",
      "Warnings:\n",
      "[1] Covariance matrix calculated using the outer product of gradients (complex-step).\n"
     ]
    }
   ],
   "source": [
    "stepwise_fit = auto_arima(\n",
    "    X[\"log_return\"], seasonal=False, trace=True, suppress_warnings=True\n",
    ")\n",
    "print(stepwise_fit.summary())"
   ]
  },
  {
   "cell_type": "code",
   "execution_count": 49,
   "metadata": {},
   "outputs": [
    {
     "name": "stderr",
     "output_type": "stream",
     "text": [
      "/Users/elouan/anaconda3/envs/Predicting_crypto/lib/python3.11/site-packages/statsmodels/tsa/base/tsa_model.py:473: ValueWarning: An unsupported index was provided. As a result, forecasts cannot be generated. To use the model for forecasting, use one of the supported classes of index.\n",
      "  self._init_dates(dates, freq)\n",
      "/Users/elouan/anaconda3/envs/Predicting_crypto/lib/python3.11/site-packages/statsmodels/tsa/base/tsa_model.py:473: ValueWarning: An unsupported index was provided. As a result, forecasts cannot be generated. To use the model for forecasting, use one of the supported classes of index.\n",
      "  self._init_dates(dates, freq)\n",
      "/Users/elouan/anaconda3/envs/Predicting_crypto/lib/python3.11/site-packages/statsmodels/tsa/base/tsa_model.py:473: ValueWarning: An unsupported index was provided. As a result, forecasts cannot be generated. To use the model for forecasting, use one of the supported classes of index.\n",
      "  self._init_dates(dates, freq)\n",
      "/Users/elouan/anaconda3/envs/Predicting_crypto/lib/python3.11/site-packages/statsmodels/base/model.py:607: ConvergenceWarning: Maximum Likelihood optimization failed to converge. Check mle_retvals\n",
      "  warnings.warn(\"Maximum Likelihood optimization failed to \"\n"
     ]
    },
    {
     "name": "stdout",
     "output_type": "stream",
     "text": [
      "                               SARIMAX Results                                \n",
      "==============================================================================\n",
      "Dep. Variable:             log_return   No. Observations:               213655\n",
      "Model:                 ARIMA(2, 0, 4)   Log Likelihood              897260.906\n",
      "Date:                Thu, 06 Feb 2025   AIC                       -1794505.811\n",
      "Time:                        22:43:19   BIC                       -1794423.634\n",
      "Sample:                             0   HQIC                      -1794481.694\n",
      "                             - 213655                                         \n",
      "Covariance Type:                  opg                                         \n",
      "==============================================================================\n",
      "                 coef    std err          z      P>|z|      [0.025      0.975]\n",
      "------------------------------------------------------------------------------\n",
      "const       1.535e-05   7.48e-06      2.052      0.040    6.86e-07       3e-05\n",
      "ar.L1          1.0556      0.039     26.814      0.000       0.978       1.133\n",
      "ar.L2         -0.3448      0.037     -9.332      0.000      -0.417      -0.272\n",
      "ma.L1         -1.0655      0.039    -27.034      0.000      -1.143      -0.988\n",
      "ma.L2          0.3210      0.037      8.600      0.000       0.248       0.394\n",
      "ma.L3          0.0404      0.001     36.214      0.000       0.038       0.043\n",
      "ma.L4         -0.0277      0.001    -22.937      0.000      -0.030      -0.025\n",
      "sigma2      1.318e-05   6.16e-09   2138.565      0.000    1.32e-05    1.32e-05\n",
      "===================================================================================\n",
      "Ljung-Box (L1) (Q):                   0.00   Jarque-Bera (JB):         112419323.57\n",
      "Prob(Q):                              0.99   Prob(JB):                         0.00\n",
      "Heteroskedasticity (H):               0.42   Skew:                            -0.14\n",
      "Prob(H) (two-sided):                  0.00   Kurtosis:                       115.37\n",
      "===================================================================================\n",
      "\n",
      "Warnings:\n",
      "[1] Covariance matrix calculated using the outer product of gradients (complex-step).\n"
     ]
    }
   ],
   "source": [
    "# Use best (p,d,q) from auto_arima()\n",
    "p, d, q = stepwise_fit.order\n",
    "\n",
    "# Fit ARIMA model on log returns\n",
    "model = ARIMA(X[\"log_return\"], order=(p, d, q))\n",
    "model_fit = model.fit()\n",
    "\n",
    "# Print model summary\n",
    "print(model_fit.summary())"
   ]
  },
  {
   "cell_type": "code",
   "execution_count": 59,
   "metadata": {},
   "outputs": [
    {
     "name": "stderr",
     "output_type": "stream",
     "text": [
      "/Users/elouan/anaconda3/envs/Predicting_crypto/lib/python3.11/site-packages/statsmodels/tsa/base/tsa_model.py:837: ValueWarning: No supported index is available. Prediction results will be given with an integer index beginning at `start`.\n",
      "  return get_prediction_index(\n",
      "/Users/elouan/anaconda3/envs/Predicting_crypto/lib/python3.11/site-packages/statsmodels/tsa/base/tsa_model.py:837: FutureWarning: No supported index is available. In the next version, calling this method in a model without a supported index will result in an exception.\n",
      "  return get_prediction_index(\n"
     ]
    },
    {
     "name": "stdout",
     "output_type": "stream",
     "text": [
      "213655    0.000054\n",
      "213656    0.000031\n",
      "213657    0.000015\n",
      "213658    0.000023\n",
      "213659    0.000023\n",
      "Name: predicted_mean, dtype: float64\n"
     ]
    }
   ],
   "source": [
    "forecast_steps = 10000  # 40 x 15-minute = 10 hours\n",
    "\n",
    "# Forecast log returns\n",
    "forecast_log_return = model_fit.forecast(steps=forecast_steps)\n",
    "print(forecast_log_return.head())  # Check first few values"
   ]
  },
  {
   "cell_type": "code",
   "execution_count": 60,
   "metadata": {},
   "outputs": [
    {
     "name": "stdout",
     "output_type": "stream",
     "text": [
      "                               Forecasted Price\n",
      "Date                                           \n",
      "1970-01-01 00:00:00.000213655      98101.170966\n",
      "1970-01-01 00:15:00.000213655      98104.253010\n",
      "1970-01-01 00:30:00.000213655      98105.738738\n",
      "1970-01-01 00:45:00.000213655      98107.958621\n",
      "1970-01-01 01:00:00.000213655      98110.225110\n",
      "...                                         ...\n",
      "1970-04-15 02:45:00.000213655     114368.209245\n",
      "1970-04-15 03:00:00.000213655     114369.964345\n",
      "1970-04-15 03:15:00.000213655     114371.719472\n",
      "1970-04-15 03:30:00.000213655     114373.474625\n",
      "1970-04-15 03:45:00.000213655     114375.229806\n",
      "\n",
      "[10000 rows x 1 columns]\n"
     ]
    },
    {
     "name": "stderr",
     "output_type": "stream",
     "text": [
      "/var/folders/41/lv7xy5r91x7ckkgx5zqmgpxh0000gn/T/ipykernel_19063/734118473.py:8: FutureWarning: 'T' is deprecated and will be removed in a future version, please use 'min' instead.\n",
      "  forecast_dates = pd.date_range(start=X.index[-1], periods=forecast_steps, freq='15T')\n"
     ]
    }
   ],
   "source": [
    "# Get last known price\n",
    "last_price = X[\"close\"].iloc[-1]\n",
    "\n",
    "# Convert log returns to absolute prices\n",
    "forecast_prices = last_price * np.exp(np.cumsum(forecast_log_return))\n",
    "\n",
    "# Generate 15-minute timestamps for forecast\n",
    "forecast_dates = pd.date_range(start=X.index[-1], periods=forecast_steps, freq=\"15T\")\n",
    "\n",
    "# Create DataFrame for results\n",
    "forecast_df = pd.DataFrame(\n",
    "    {\"Date\": forecast_dates, \"Forecasted Price\": forecast_prices}\n",
    ")\n",
    "forecast_df.set_index(\"Date\", inplace=True)\n",
    "\n",
    "print(forecast_df.head(10000))  # Check first forecasted prices"
   ]
  },
  {
   "cell_type": "code",
   "execution_count": 53,
   "metadata": {},
   "outputs": [
    {
     "data": {
      "image/png": "[encoded data removed]",
      "text/plain": [
       "<Figure size 1200x600 with 1 Axes>"
      ]
     },
     "metadata": {},
     "output_type": "display_data"
    }
   ],
   "source": [
    "import matplotlib.pyplot as plt\n",
    "\n",
    "plt.figure(figsize=(12, 6))\n",
    "\n",
    "# Plot last 100 historical prices\n",
    "plt.plot(\n",
    "    df.index[-100:],\n",
    "    df[\"close\"].iloc[-100:],\n",
    "    label=\"Last 100 Historical Prices\",\n",
    "    color=\"blue\",\n",
    ")\n",
    "\n",
    "# Plot forecasted prices\n",
    "plt.plot(\n",
    "    forecast_df.index,\n",
    "    forecast_df[\"Forecasted Price\"],\n",
    "    label=\"Forecasted Prices (Next 10 Hours)\",\n",
    "    linestyle=\"dashed\",\n",
    "    color=\"red\",\n",
    ")\n",
    "\n",
    "# Fix x-axis formatting\n",
    "plt.xticks(rotation=45)  # Rotate timestamps for better readability\n",
    "plt.xlabel(\"Timestamp\")\n",
    "plt.ylabel(\"Price\")\n",
    "plt.title(\"ARIMA Forecast Based on Log Returns (15-Minute Data)\")\n",
    "plt.legend()\n",
    "plt.grid()\n",
    "\n",
    "plt.show()"
   ]
  },
  {
   "cell_type": "markdown",
   "metadata": {},
   "source": [
    "_________________\n",
    "GARCH"
   ]
  },
  {
   "cell_type": "code",
   "execution_count": null,
   "metadata": {},
   "outputs": [],
   "source": [
    "X[\"log_return\"] = np.log(X[\"close\"] / X[\"close\"].shift(1))\n",
    "X.dropna(inplace=True)"
   ]
  },
  {
   "cell_type": "code",
   "execution_count": null,
   "metadata": {},
   "outputs": [],
   "source": [
    "from arch import arch_model\n",
    "\n",
    "# Fit GARCH on log returns\n",
    "garch = arch_model(X[\"log_return\"].dropna(), vol=\"Garch\", p=1, q=1)\n",
    "garch_fit = garch.fit(disp=\"off\")\n",
    "\n",
    "# Forecast volatility (next 30 steps)\n",
    "forecast_vol = garch_fit.forecast(start=len(df), horizon=30)"
   ]
  },
  {
   "cell_type": "code",
   "execution_count": null,
   "metadata": {},
   "outputs": [],
   "source": []
  }
 ],
 "metadata": {
  "kernelspec": {
   "display_name": "Predicting_crypto",
   "language": "python",
   "name": "python3"
  },
  "language_info": {
   "codemirror_mode": {
    "name": "ipython",
    "version": 3
   },
   "file_extension": ".py",
   "mimetype": "text/x-python",
   "name": "python",
   "nbconvert_exporter": "python",
   "pygments_lexer": "ipython3",
   "version": "3.11.11"
  }
 },
 "nbformat": 4,
 "nbformat_minor": 2
}
