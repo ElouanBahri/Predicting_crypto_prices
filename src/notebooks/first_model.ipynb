{
 "cells": [
  {
   "cell_type": "code",
   "execution_count": 1,
   "metadata": {},
   "outputs": [],
   "source": [
    "import pandas as pd \n",
    "import numpy as np \n",
    "import tensorflow as tf\n",
    "\n",
    "from tensorflow.keras.models import Sequential\n",
    "from tensorflow.keras.layers import Dense, GRU, Dropout\n",
    "from tensorflow.keras.activations import linear, relu, sigmoid\n",
    "from modules.first_model import change_X_data_1, change_y_data, change_X_data_2\n",
    "\n"
   ]
  },
  {
   "cell_type": "code",
   "execution_count": 2,
   "metadata": {},
   "outputs": [],
   "source": [
    "X = pd.read_csv(\"/Users/elouan/Data/Data_ENSxCFM/X_train.csv\")\n",
    "y = pd.read_csv(\"/Users/elouan/Data/Data_ENSxCFM/y_train.csv\")"
   ]
  },
  {
   "cell_type": "markdown",
   "metadata": {},
   "source": [
    "Categorical Features: action and side are object types. We'll need to convert them to numerical values (e.g., one-hot encoding) before feeding them into the model. The trade feature is a boolean and can also be treated as a binary numeric value.\n",
    "\n",
    "For **trade** :\n",
    "\n",
    "False = 0, True = 1\n",
    "\n",
    "For **side** :\n",
    "\n",
    "A = 0 , B = 1\n",
    "\n",
    "For **action** :\n",
    "- **A**: \\([1, 0, 0]\\)\n",
    "- **D**: \\([0, 1, 0]\\)\n",
    "- **U**: \\([0, 0, 1]\\)\n"
   ]
  },
  {
   "cell_type": "markdown",
   "metadata": {},
   "source": [
    "# One-Hot Encoding\n",
    "\n",
    "## Introduction\n",
    "One-Hot Encoding is a technique used to convert categorical variables into a format that can be provided to machine learning algorithms. This process helps to represent categorical data as binary vectors.\n",
    "\n",
    "## Definition\n",
    "Given a categorical variable with \\( n \\) unique categories, One-Hot Encoding transforms it into \\( n \\) binary variables, where each variable represents one category. If the category is present, it is represented by \\( 1 \\) (hot), and if it is absent, it is represented by \\( 0 \\) (cold).\n",
    "\n",
    "## Example\n",
    "Consider a categorical variable, **action**, with three categories: **A**, **D**, and **U**. The One-Hot Encoding for this variable would be:\n",
    "\n",
    "- **A**: \\([1, 0, 0]\\)\n",
    "- **D**: \\([0, 1, 0]\\)\n",
    "- **U**: \\([0, 0, 1]\\)\n",
    "\n",
    "Each vector corresponds to one of the categories.\n",
    "\n",
    "This results in three new binary columns representing the original categorical variable.\n",
    "\n",
    "## Purpose\n",
    "One-Hot Encoding is essential in machine learning because:\n",
    "\n",
    "- It prevents the algorithm from interpreting categorical variables as ordinal data.\n",
    "- It allows for the inclusion of categorical data in algorithms that require numerical input.\n",
    "- It helps improve model performance by providing a clearer representation of categorical variables.\n",
    "\n",
    "## Conclusion\n",
    "One-Hot Encoding is a straightforward and effective technique for preprocessing categorical data in machine learning. By transforming categories into binary vectors, it allows algorithms to better interpret and utilize this data.\n"
   ]
  },
  {
   "cell_type": "code",
   "execution_count": 3,
   "metadata": {},
   "outputs": [
    {
     "name": "stderr",
     "output_type": "stream",
     "text": [
      "/Users/elouan/anaconda3/envs/challenge_ENS_env_CFM/lib/python3.11/site-packages/pandas/core/arraylike.py:399: RuntimeWarning: invalid value encountered in log\n",
      "  result = getattr(ufunc, method)(*inputs, **kwargs)\n"
     ]
    }
   ],
   "source": [
    "X2 = change_X_data_2(X)\n"
   ]
  },
  {
   "cell_type": "code",
   "execution_count": 4,
   "metadata": {},
   "outputs": [
    {
     "data": {
      "text/html": [
       "<div>\n",
       "<style scoped>\n",
       "    .dataframe tbody tr th:only-of-type {\n",
       "        vertical-align: middle;\n",
       "    }\n",
       "\n",
       "    .dataframe tbody tr th {\n",
       "        vertical-align: top;\n",
       "    }\n",
       "\n",
       "    .dataframe thead th {\n",
       "        text-align: right;\n",
       "    }\n",
       "</style>\n",
       "<table border=\"1\" class=\"dataframe\">\n",
       "  <thead>\n",
       "    <tr style=\"text-align: right;\">\n",
       "      <th></th>\n",
       "      <th>column 1</th>\n",
       "    </tr>\n",
       "  </thead>\n",
       "  <tbody>\n",
       "    <tr>\n",
       "      <th>0</th>\n",
       "      <td>[[4.0, 0.0, 0.0, 1.0, 3.0, 0.0, 1.0, 4.6151204...</td>\n",
       "    </tr>\n",
       "    <tr>\n",
       "      <th>1</th>\n",
       "      <td>[[4.0, 0.0, 0.0, 0.0, -0.8, 0.0, 4.0, 1.098612...</td>\n",
       "    </tr>\n",
       "    <tr>\n",
       "      <th>2</th>\n",
       "      <td>[[4.0, 0.0, 0.0, 1.0, 0.1, 0.0, 1.0, 6.947937,...</td>\n",
       "    </tr>\n",
       "    <tr>\n",
       "      <th>3</th>\n",
       "      <td>[[4.0, 0.0, 0.0, 1.0, 2.1, 0.0, 20.0, 6.527958...</td>\n",
       "    </tr>\n",
       "    <tr>\n",
       "      <th>4</th>\n",
       "      <td>[[4.0, 0.0, 1.0, 1.0, 0.1, 0.0, 1.0, 6.302619,...</td>\n",
       "    </tr>\n",
       "  </tbody>\n",
       "</table>\n",
       "</div>"
      ],
      "text/plain": [
       "                                            column 1\n",
       "0  [[4.0, 0.0, 0.0, 1.0, 3.0, 0.0, 1.0, 4.6151204...\n",
       "1  [[4.0, 0.0, 0.0, 0.0, -0.8, 0.0, 4.0, 1.098612...\n",
       "2  [[4.0, 0.0, 0.0, 1.0, 0.1, 0.0, 1.0, 6.947937,...\n",
       "3  [[4.0, 0.0, 0.0, 1.0, 2.1, 0.0, 20.0, 6.527958...\n",
       "4  [[4.0, 0.0, 1.0, 1.0, 0.1, 0.0, 1.0, 6.302619,..."
      ]
     },
     "execution_count": 4,
     "metadata": {},
     "output_type": "execute_result"
    }
   ],
   "source": [
    "X2.head()"
   ]
  },
  {
   "cell_type": "code",
   "execution_count": 5,
   "metadata": {},
   "outputs": [
    {
     "name": "stdout",
     "output_type": "stream",
     "text": [
      "[[   4.           0.           0.        ...    7.7836404    0.\n",
      "   100.       ]\n",
      " [   4.           1.           0.        ...    7.8244457    0.\n",
      "   100.       ]\n",
      " [   4.           1.           1.        ...    7.7836404    0.\n",
      "  -100.       ]\n",
      " ...\n",
      " [   4.          69.           1.        ...    5.9939613    0.\n",
      "  -100.       ]\n",
      " [   4.          76.           0.        ...    5.9939613    0.\n",
      "    10.       ]\n",
      " [   4.          77.           0.        ...    5.9939613    0.\n",
      "   100.       ]]\n"
     ]
    }
   ],
   "source": [
    "# Access value in row 2 (index), column 'column_name'\n",
    "value = X2.at[2, 'column 1']  # or df.loc[2, 'column_name']\n",
    "print(value)\n"
   ]
  },
  {
   "cell_type": "code",
   "execution_count": 6,
   "metadata": {},
   "outputs": [
    {
     "name": "stdout",
     "output_type": "stream",
     "text": [
      "<class 'pandas.core.frame.DataFrame'>\n",
      "RangeIndex: 160800 entries, 0 to 160799\n",
      "Data columns (total 1 columns):\n",
      " #   Column    Non-Null Count   Dtype \n",
      "---  ------    --------------   ----- \n",
      " 0   column 1  160800 non-null  object\n",
      "dtypes: object(1)\n",
      "memory usage: 1.2+ MB\n"
     ]
    }
   ],
   "source": [
    "X2.info()"
   ]
  },
  {
   "cell_type": "code",
   "execution_count": 38,
   "metadata": {},
   "outputs": [],
   "source": [
    "X3 = np.array([np.array(row) for row in X2[\"column 1\"]])"
   ]
  },
  {
   "cell_type": "code",
   "execution_count": 12,
   "metadata": {},
   "outputs": [
    {
     "data": {
      "text/plain": [
       "array([  4.       ,   1.       ,   0.       ,   0.       ,  -1.7      ,\n",
       "         0.       ,   1.       ,   4.6151204,   0.6931472,   0.       ,\n",
       "       100.       ], dtype=float32)"
      ]
     },
     "execution_count": 12,
     "metadata": {},
     "output_type": "execute_result"
    }
   ],
   "source": [
    "X3[0][1]"
   ]
  },
  {
   "cell_type": "code",
   "execution_count": 48,
   "metadata": {},
   "outputs": [
    {
     "data": {
      "text/plain": [
       "(160800, 100, 11)"
      ]
     },
     "execution_count": 48,
     "metadata": {},
     "output_type": "execute_result"
    }
   ],
   "source": [
    "X3.shape"
   ]
  },
  {
   "cell_type": "code",
   "execution_count": 7,
   "metadata": {},
   "outputs": [
    {
     "data": {
      "text/html": [
       "<div>\n",
       "<style scoped>\n",
       "    .dataframe tbody tr th:only-of-type {\n",
       "        vertical-align: middle;\n",
       "    }\n",
       "\n",
       "    .dataframe tbody tr th {\n",
       "        vertical-align: top;\n",
       "    }\n",
       "\n",
       "    .dataframe thead th {\n",
       "        text-align: right;\n",
       "    }\n",
       "</style>\n",
       "<table border=\"1\" class=\"dataframe\">\n",
       "  <thead>\n",
       "    <tr style=\"text-align: right;\">\n",
       "      <th></th>\n",
       "      <th>eqt_code_cat</th>\n",
       "    </tr>\n",
       "  </thead>\n",
       "  <tbody>\n",
       "    <tr>\n",
       "      <th>0</th>\n",
       "      <td>10</td>\n",
       "    </tr>\n",
       "    <tr>\n",
       "      <th>1</th>\n",
       "      <td>15</td>\n",
       "    </tr>\n",
       "    <tr>\n",
       "      <th>2</th>\n",
       "      <td>0</td>\n",
       "    </tr>\n",
       "    <tr>\n",
       "      <th>3</th>\n",
       "      <td>13</td>\n",
       "    </tr>\n",
       "    <tr>\n",
       "      <th>4</th>\n",
       "      <td>0</td>\n",
       "    </tr>\n",
       "  </tbody>\n",
       "</table>\n",
       "</div>"
      ],
      "text/plain": [
       "   eqt_code_cat\n",
       "0            10\n",
       "1            15\n",
       "2             0\n",
       "3            13\n",
       "4             0"
      ]
     },
     "execution_count": 7,
     "metadata": {},
     "output_type": "execute_result"
    }
   ],
   "source": [
    "#y = change_y_data(y)\n",
    "y1 = y.drop(columns=[\"obs_id\"])\n",
    "\n",
    "y1.head()"
   ]
  },
  {
   "cell_type": "code",
   "execution_count": 8,
   "metadata": {},
   "outputs": [
    {
     "name": "stdout",
     "output_type": "stream",
     "text": [
      "<class 'pandas.core.frame.DataFrame'>\n",
      "RangeIndex: 160800 entries, 0 to 160799\n",
      "Data columns (total 1 columns):\n",
      " #   Column        Non-Null Count   Dtype\n",
      "---  ------        --------------   -----\n",
      " 0   eqt_code_cat  160800 non-null  int64\n",
      "dtypes: int64(1)\n",
      "memory usage: 1.2 MB\n"
     ]
    }
   ],
   "source": [
    "y1.info()"
   ]
  },
  {
   "cell_type": "code",
   "execution_count": 47,
   "metadata": {},
   "outputs": [
    {
     "data": {
      "text/plain": [
       "(160800,)"
      ]
     },
     "execution_count": 47,
     "metadata": {},
     "output_type": "execute_result"
    }
   ],
   "source": [
    "y2 = np.array(y1[\"eqt_code_cat\"])\n",
    "y2.shape"
   ]
  },
  {
   "cell_type": "code",
   "execution_count": 64,
   "metadata": {},
   "outputs": [
    {
     "name": "stdout",
     "output_type": "stream",
     "text": [
      "False\n",
      "False\n"
     ]
    }
   ],
   "source": [
    "print(np.any(np.isnan(X3)))  # Check features for NaNs\n",
    "print(np.any(np.isnan(y2)))"
   ]
  },
  {
   "cell_type": "code",
   "execution_count": 63,
   "metadata": {},
   "outputs": [],
   "source": [
    "X3 = np.nan_to_num(X3)"
   ]
  },
  {
   "cell_type": "code",
   "execution_count": 65,
   "metadata": {},
   "outputs": [],
   "source": [
    "dataset = tf.data.Dataset.from_tensor_slices((X3, y2))"
   ]
  },
  {
   "cell_type": "code",
   "execution_count": 66,
   "metadata": {},
   "outputs": [
    {
     "name": "stdout",
     "output_type": "stream",
     "text": [
      "Features: [[   4.           0.           0.        ...    0.6931472    0.\n",
      "   100.       ]\n",
      " [   4.           1.           0.        ...    0.6931472    0.\n",
      "   100.       ]\n",
      " [   4.           2.           1.        ...    0.6931472    0.\n",
      "  -100.       ]\n",
      " ...\n",
      " [   4.          64.           0.        ...    5.739793     0.\n",
      "   100.       ]\n",
      " [   4.          63.           1.        ...    5.739793     0.\n",
      "  -100.       ]\n",
      " [   4.          65.           0.        ...    5.739793     0.\n",
      "   100.       ]]\n",
      "Label: 10\n",
      "Features: [[   4.           0.           0.        ...    4.3307333    0.\n",
      "   100.       ]\n",
      " [   4.           1.           1.        ...    4.3307333    0.\n",
      "   -20.       ]\n",
      " [   4.           2.           0.        ...    4.3307333    0.\n",
      "   100.       ]\n",
      " ...\n",
      " [   4.          60.           0.        ...    4.6151204    0.\n",
      "    10.       ]\n",
      " [   2.          61.           0.        ...    4.6151204    0.\n",
      "    10.       ]\n",
      " [   4.          37.           1.        ...    4.6151204    0.\n",
      "  -100.       ]]\n",
      "Label: 15\n",
      "Features: [[   4.           0.           0.        ...    7.7836404    0.\n",
      "   100.       ]\n",
      " [   4.           1.           0.        ...    7.8244457    0.\n",
      "   100.       ]\n",
      " [   4.           1.           1.        ...    7.7836404    0.\n",
      "  -100.       ]\n",
      " ...\n",
      " [   4.          69.           1.        ...    5.9939613    0.\n",
      "  -100.       ]\n",
      " [   4.          76.           0.        ...    5.9939613    0.\n",
      "    10.       ]\n",
      " [   4.          77.           0.        ...    5.9939613    0.\n",
      "   100.       ]]\n",
      "Label: 0\n"
     ]
    }
   ],
   "source": [
    "for x, y in dataset.take(3):  # Use `.take()` to limit output to 3 samples\n",
    "    print(\"Features:\", x.numpy())\n",
    "    print(\"Label:\", y.numpy())\n"
   ]
  },
  {
   "cell_type": "code",
   "execution_count": 67,
   "metadata": {},
   "outputs": [
    {
     "name": "stdout",
     "output_type": "stream",
     "text": [
      "(TensorSpec(shape=(100, 11), dtype=tf.float32, name=None), TensorSpec(shape=(), dtype=tf.int64, name=None))\n"
     ]
    }
   ],
   "source": [
    "print(dataset.element_spec)\n"
   ]
  },
  {
   "cell_type": "code",
   "execution_count": 68,
   "metadata": {},
   "outputs": [],
   "source": [
    "batch_size = 32\n",
    "dataset = dataset.shuffle(buffer_size=len(X3))  # Shuffling the dataset\n",
    "\n"
   ]
  },
  {
   "cell_type": "code",
   "execution_count": 69,
   "metadata": {},
   "outputs": [],
   "source": [
    "dataset = dataset.batch(batch_size)"
   ]
  },
  {
   "cell_type": "code",
   "execution_count": 70,
   "metadata": {},
   "outputs": [
    {
     "name": "stdout",
     "output_type": "stream",
     "text": [
      "Features batch shape: (32, 100, 11), Labels batch shape: (32,)\n"
     ]
    }
   ],
   "source": [
    "for x, y in dataset.take(1):\n",
    "    print(f\"Features batch shape: {x.shape}, Labels batch shape: {y.shape}\")"
   ]
  },
  {
   "cell_type": "code",
   "execution_count": 71,
   "metadata": {},
   "outputs": [],
   "source": [
    "tf.random.set_seed(1234) # for consistent results\n",
    "model = Sequential(\n",
    "    [   GRU(64, return_sequences=True, input_shape = (100, 11) ),            \n",
    "        Dropout(0.2),\n",
    "        GRU(64),\n",
    "        Dropout(0.2),\n",
    "        Dense(32, activation = 'relu',   name = \"L1\"),\n",
    "        Dense(24, activation = 'softmax',   name = \"output\")\n",
    "        \n",
    "        \n",
    "    ], name = \"first_multiclass_model\" \n",
    ")"
   ]
  },
  {
   "cell_type": "code",
   "execution_count": 72,
   "metadata": {},
   "outputs": [
    {
     "data": {
      "text/html": [
       "<pre style=\"white-space:pre;overflow-x:auto;line-height:normal;font-family:Menlo,'DejaVu Sans Mono',consolas,'Courier New',monospace\"><span style=\"font-weight: bold\">Model: \"first_multiclass_model\"</span>\n",
       "</pre>\n"
      ],
      "text/plain": [
       "\u001b[1mModel: \"first_multiclass_model\"\u001b[0m\n"
      ]
     },
     "metadata": {},
     "output_type": "display_data"
    },
    {
     "data": {
      "text/html": [
       "<pre style=\"white-space:pre;overflow-x:auto;line-height:normal;font-family:Menlo,'DejaVu Sans Mono',consolas,'Courier New',monospace\">┏━━━━━━━━━━━━━━━━━━━━━━━━━━━━━━━━━┳━━━━━━━━━━━━━━━━━━━━━━━━┳━━━━━━━━━━━━━━━┓\n",
       "┃<span style=\"font-weight: bold\"> Layer (type)                    </span>┃<span style=\"font-weight: bold\"> Output Shape           </span>┃<span style=\"font-weight: bold\">       Param # </span>┃\n",
       "┡━━━━━━━━━━━━━━━━━━━━━━━━━━━━━━━━━╇━━━━━━━━━━━━━━━━━━━━━━━━╇━━━━━━━━━━━━━━━┩\n",
       "│ gru_8 (<span style=\"color: #0087ff; text-decoration-color: #0087ff\">GRU</span>)                     │ (<span style=\"color: #00d7ff; text-decoration-color: #00d7ff\">None</span>, <span style=\"color: #00af00; text-decoration-color: #00af00\">100</span>, <span style=\"color: #00af00; text-decoration-color: #00af00\">64</span>)        │        <span style=\"color: #00af00; text-decoration-color: #00af00\">14,784</span> │\n",
       "├─────────────────────────────────┼────────────────────────┼───────────────┤\n",
       "│ dropout_8 (<span style=\"color: #0087ff; text-decoration-color: #0087ff\">Dropout</span>)             │ (<span style=\"color: #00d7ff; text-decoration-color: #00d7ff\">None</span>, <span style=\"color: #00af00; text-decoration-color: #00af00\">100</span>, <span style=\"color: #00af00; text-decoration-color: #00af00\">64</span>)        │             <span style=\"color: #00af00; text-decoration-color: #00af00\">0</span> │\n",
       "├─────────────────────────────────┼────────────────────────┼───────────────┤\n",
       "│ gru_9 (<span style=\"color: #0087ff; text-decoration-color: #0087ff\">GRU</span>)                     │ (<span style=\"color: #00d7ff; text-decoration-color: #00d7ff\">None</span>, <span style=\"color: #00af00; text-decoration-color: #00af00\">64</span>)             │        <span style=\"color: #00af00; text-decoration-color: #00af00\">24,960</span> │\n",
       "├─────────────────────────────────┼────────────────────────┼───────────────┤\n",
       "│ dropout_9 (<span style=\"color: #0087ff; text-decoration-color: #0087ff\">Dropout</span>)             │ (<span style=\"color: #00d7ff; text-decoration-color: #00d7ff\">None</span>, <span style=\"color: #00af00; text-decoration-color: #00af00\">64</span>)             │             <span style=\"color: #00af00; text-decoration-color: #00af00\">0</span> │\n",
       "├─────────────────────────────────┼────────────────────────┼───────────────┤\n",
       "│ L1 (<span style=\"color: #0087ff; text-decoration-color: #0087ff\">Dense</span>)                      │ (<span style=\"color: #00d7ff; text-decoration-color: #00d7ff\">None</span>, <span style=\"color: #00af00; text-decoration-color: #00af00\">32</span>)             │         <span style=\"color: #00af00; text-decoration-color: #00af00\">2,080</span> │\n",
       "├─────────────────────────────────┼────────────────────────┼───────────────┤\n",
       "│ output (<span style=\"color: #0087ff; text-decoration-color: #0087ff\">Dense</span>)                  │ (<span style=\"color: #00d7ff; text-decoration-color: #00d7ff\">None</span>, <span style=\"color: #00af00; text-decoration-color: #00af00\">24</span>)             │           <span style=\"color: #00af00; text-decoration-color: #00af00\">792</span> │\n",
       "└─────────────────────────────────┴────────────────────────┴───────────────┘\n",
       "</pre>\n"
      ],
      "text/plain": [
       "┏━━━━━━━━━━━━━━━━━━━━━━━━━━━━━━━━━┳━━━━━━━━━━━━━━━━━━━━━━━━┳━━━━━━━━━━━━━━━┓\n",
       "┃\u001b[1m \u001b[0m\u001b[1mLayer (type)                   \u001b[0m\u001b[1m \u001b[0m┃\u001b[1m \u001b[0m\u001b[1mOutput Shape          \u001b[0m\u001b[1m \u001b[0m┃\u001b[1m \u001b[0m\u001b[1m      Param #\u001b[0m\u001b[1m \u001b[0m┃\n",
       "┡━━━━━━━━━━━━━━━━━━━━━━━━━━━━━━━━━╇━━━━━━━━━━━━━━━━━━━━━━━━╇━━━━━━━━━━━━━━━┩\n",
       "│ gru_8 (\u001b[38;5;33mGRU\u001b[0m)                     │ (\u001b[38;5;45mNone\u001b[0m, \u001b[38;5;34m100\u001b[0m, \u001b[38;5;34m64\u001b[0m)        │        \u001b[38;5;34m14,784\u001b[0m │\n",
       "├─────────────────────────────────┼────────────────────────┼───────────────┤\n",
       "│ dropout_8 (\u001b[38;5;33mDropout\u001b[0m)             │ (\u001b[38;5;45mNone\u001b[0m, \u001b[38;5;34m100\u001b[0m, \u001b[38;5;34m64\u001b[0m)        │             \u001b[38;5;34m0\u001b[0m │\n",
       "├─────────────────────────────────┼────────────────────────┼───────────────┤\n",
       "│ gru_9 (\u001b[38;5;33mGRU\u001b[0m)                     │ (\u001b[38;5;45mNone\u001b[0m, \u001b[38;5;34m64\u001b[0m)             │        \u001b[38;5;34m24,960\u001b[0m │\n",
       "├─────────────────────────────────┼────────────────────────┼───────────────┤\n",
       "│ dropout_9 (\u001b[38;5;33mDropout\u001b[0m)             │ (\u001b[38;5;45mNone\u001b[0m, \u001b[38;5;34m64\u001b[0m)             │             \u001b[38;5;34m0\u001b[0m │\n",
       "├─────────────────────────────────┼────────────────────────┼───────────────┤\n",
       "│ L1 (\u001b[38;5;33mDense\u001b[0m)                      │ (\u001b[38;5;45mNone\u001b[0m, \u001b[38;5;34m32\u001b[0m)             │         \u001b[38;5;34m2,080\u001b[0m │\n",
       "├─────────────────────────────────┼────────────────────────┼───────────────┤\n",
       "│ output (\u001b[38;5;33mDense\u001b[0m)                  │ (\u001b[38;5;45mNone\u001b[0m, \u001b[38;5;34m24\u001b[0m)             │           \u001b[38;5;34m792\u001b[0m │\n",
       "└─────────────────────────────────┴────────────────────────┴───────────────┘\n"
      ]
     },
     "metadata": {},
     "output_type": "display_data"
    },
    {
     "data": {
      "text/html": [
       "<pre style=\"white-space:pre;overflow-x:auto;line-height:normal;font-family:Menlo,'DejaVu Sans Mono',consolas,'Courier New',monospace\"><span style=\"font-weight: bold\"> Total params: </span><span style=\"color: #00af00; text-decoration-color: #00af00\">42,616</span> (166.47 KB)\n",
       "</pre>\n"
      ],
      "text/plain": [
       "\u001b[1m Total params: \u001b[0m\u001b[38;5;34m42,616\u001b[0m (166.47 KB)\n"
      ]
     },
     "metadata": {},
     "output_type": "display_data"
    },
    {
     "data": {
      "text/html": [
       "<pre style=\"white-space:pre;overflow-x:auto;line-height:normal;font-family:Menlo,'DejaVu Sans Mono',consolas,'Courier New',monospace\"><span style=\"font-weight: bold\"> Trainable params: </span><span style=\"color: #00af00; text-decoration-color: #00af00\">42,616</span> (166.47 KB)\n",
       "</pre>\n"
      ],
      "text/plain": [
       "\u001b[1m Trainable params: \u001b[0m\u001b[38;5;34m42,616\u001b[0m (166.47 KB)\n"
      ]
     },
     "metadata": {},
     "output_type": "display_data"
    },
    {
     "data": {
      "text/html": [
       "<pre style=\"white-space:pre;overflow-x:auto;line-height:normal;font-family:Menlo,'DejaVu Sans Mono',consolas,'Courier New',monospace\"><span style=\"font-weight: bold\"> Non-trainable params: </span><span style=\"color: #00af00; text-decoration-color: #00af00\">0</span> (0.00 B)\n",
       "</pre>\n"
      ],
      "text/plain": [
       "\u001b[1m Non-trainable params: \u001b[0m\u001b[38;5;34m0\u001b[0m (0.00 B)\n"
      ]
     },
     "metadata": {},
     "output_type": "display_data"
    }
   ],
   "source": [
    "model.summary()"
   ]
  },
  {
   "cell_type": "code",
   "execution_count": 104,
   "metadata": {},
   "outputs": [
    {
     "name": "stdout",
     "output_type": "stream",
     "text": [
      "Epoch 1/50\n",
      "\u001b[1m5025/5025\u001b[0m \u001b[32m━━━━━━━━━━━━━━━━━━━━\u001b[0m\u001b[37m\u001b[0m \u001b[1m360s\u001b[0m 71ms/step - accuracy: 0.5480 - loss: 1.3203\n",
      "Epoch 2/50\n",
      "\u001b[1m5025/5025\u001b[0m \u001b[32m━━━━━━━━━━━━━━━━━━━━\u001b[0m\u001b[37m\u001b[0m \u001b[1m342s\u001b[0m 68ms/step - accuracy: 0.5576 - loss: 1.2901\n",
      "Epoch 3/50\n",
      "\u001b[1m5025/5025\u001b[0m \u001b[32m━━━━━━━━━━━━━━━━━━━━\u001b[0m\u001b[37m\u001b[0m \u001b[1m358s\u001b[0m 71ms/step - accuracy: 0.5645 - loss: 1.2781\n",
      "Epoch 4/50\n",
      "\u001b[1m5025/5025\u001b[0m \u001b[32m━━━━━━━━━━━━━━━━━━━━\u001b[0m\u001b[37m\u001b[0m \u001b[1m358s\u001b[0m 71ms/step - accuracy: 0.5668 - loss: 1.2677\n",
      "Epoch 5/50\n",
      "\u001b[1m5025/5025\u001b[0m \u001b[32m━━━━━━━━━━━━━━━━━━━━\u001b[0m\u001b[37m\u001b[0m \u001b[1m349s\u001b[0m 69ms/step - accuracy: 0.5763 - loss: 1.2412\n",
      "Epoch 6/50\n",
      "\u001b[1m5025/5025\u001b[0m \u001b[32m━━━━━━━━━━━━━━━━━━━━\u001b[0m\u001b[37m\u001b[0m \u001b[1m351s\u001b[0m 70ms/step - accuracy: 0.5813 - loss: 1.2227\n",
      "Epoch 7/50\n",
      "\u001b[1m5025/5025\u001b[0m \u001b[32m━━━━━━━━━━━━━━━━━━━━\u001b[0m\u001b[37m\u001b[0m \u001b[1m351s\u001b[0m 70ms/step - accuracy: 0.5863 - loss: 1.2095\n",
      "Epoch 8/50\n",
      "\u001b[1m5025/5025\u001b[0m \u001b[32m━━━━━━━━━━━━━━━━━━━━\u001b[0m\u001b[37m\u001b[0m \u001b[1m350s\u001b[0m 69ms/step - accuracy: 0.5888 - loss: 1.2010\n",
      "Epoch 9/50\n",
      "\u001b[1m5025/5025\u001b[0m \u001b[32m━━━━━━━━━━━━━━━━━━━━\u001b[0m\u001b[37m\u001b[0m \u001b[1m355s\u001b[0m 70ms/step - accuracy: 0.5910 - loss: 1.1949\n",
      "Epoch 10/50\n",
      "\u001b[1m5025/5025\u001b[0m \u001b[32m━━━━━━━━━━━━━━━━━━━━\u001b[0m\u001b[37m\u001b[0m \u001b[1m346s\u001b[0m 69ms/step - accuracy: 0.5984 - loss: 1.1725\n",
      "Epoch 11/50\n",
      "\u001b[1m5025/5025\u001b[0m \u001b[32m━━━━━━━━━━━━━━━━━━━━\u001b[0m\u001b[37m\u001b[0m \u001b[1m355s\u001b[0m 70ms/step - accuracy: 0.6034 - loss: 1.1606\n",
      "Epoch 12/50\n",
      "\u001b[1m5025/5025\u001b[0m \u001b[32m━━━━━━━━━━━━━━━━━━━━\u001b[0m\u001b[37m\u001b[0m \u001b[1m356s\u001b[0m 71ms/step - accuracy: 0.6052 - loss: 1.1556\n",
      "Epoch 13/50\n",
      "\u001b[1m5025/5025\u001b[0m \u001b[32m━━━━━━━━━━━━━━━━━━━━\u001b[0m\u001b[37m\u001b[0m \u001b[1m342s\u001b[0m 68ms/step - accuracy: 0.6111 - loss: 1.1417\n",
      "Epoch 14/50\n",
      "\u001b[1m5025/5025\u001b[0m \u001b[32m━━━━━━━━━━━━━━━━━━━━\u001b[0m\u001b[37m\u001b[0m \u001b[1m344s\u001b[0m 68ms/step - accuracy: 0.6126 - loss: 1.1376\n",
      "Epoch 15/50\n",
      "\u001b[1m5025/5025\u001b[0m \u001b[32m━━━━━━━━━━━━━━━━━━━━\u001b[0m\u001b[37m\u001b[0m \u001b[1m342s\u001b[0m 68ms/step - accuracy: 0.6131 - loss: 1.1328\n",
      "Epoch 16/50\n",
      "\u001b[1m5025/5025\u001b[0m \u001b[32m━━━━━━━━━━━━━━━━━━━━\u001b[0m\u001b[37m\u001b[0m \u001b[1m350s\u001b[0m 69ms/step - accuracy: 0.6166 - loss: 1.1257\n",
      "Epoch 17/50\n",
      "\u001b[1m5025/5025\u001b[0m \u001b[32m━━━━━━━━━━━━━━━━━━━━\u001b[0m\u001b[37m\u001b[0m \u001b[1m347s\u001b[0m 69ms/step - accuracy: 0.6180 - loss: 1.1170\n",
      "Epoch 18/50\n",
      "\u001b[1m5025/5025\u001b[0m \u001b[32m━━━━━━━━━━━━━━━━━━━━\u001b[0m\u001b[37m\u001b[0m \u001b[1m361s\u001b[0m 72ms/step - accuracy: 0.6213 - loss: 1.1067\n",
      "Epoch 19/50\n",
      "\u001b[1m5025/5025\u001b[0m \u001b[32m━━━━━━━━━━━━━━━━━━━━\u001b[0m\u001b[37m\u001b[0m \u001b[1m347s\u001b[0m 69ms/step - accuracy: 0.6232 - loss: 1.1017\n",
      "Epoch 20/50\n",
      "\u001b[1m5025/5025\u001b[0m \u001b[32m━━━━━━━━━━━━━━━━━━━━\u001b[0m\u001b[37m\u001b[0m \u001b[1m368s\u001b[0m 73ms/step - accuracy: 0.6230 - loss: 1.1026\n",
      "Epoch 21/50\n",
      "\u001b[1m5025/5025\u001b[0m \u001b[32m━━━━━━━━━━━━━━━━━━━━\u001b[0m\u001b[37m\u001b[0m \u001b[1m350s\u001b[0m 69ms/step - accuracy: 0.6260 - loss: 1.0913\n",
      "Epoch 22/50\n",
      "\u001b[1m5025/5025\u001b[0m \u001b[32m━━━━━━━━━━━━━━━━━━━━\u001b[0m\u001b[37m\u001b[0m \u001b[1m377s\u001b[0m 75ms/step - accuracy: 0.6274 - loss: 1.0911\n",
      "Epoch 23/50\n",
      "\u001b[1m5025/5025\u001b[0m \u001b[32m━━━━━━━━━━━━━━━━━━━━\u001b[0m\u001b[37m\u001b[0m \u001b[1m345s\u001b[0m 68ms/step - accuracy: 0.6285 - loss: 1.0821\n",
      "Epoch 24/50\n",
      "\u001b[1m5025/5025\u001b[0m \u001b[32m━━━━━━━━━━━━━━━━━━━━\u001b[0m\u001b[37m\u001b[0m \u001b[1m343s\u001b[0m 68ms/step - accuracy: 0.6291 - loss: 1.0842\n",
      "Epoch 25/50\n",
      "\u001b[1m5025/5025\u001b[0m \u001b[32m━━━━━━━━━━━━━━━━━━━━\u001b[0m\u001b[37m\u001b[0m \u001b[1m345s\u001b[0m 69ms/step - accuracy: 0.6326 - loss: 1.0699\n",
      "Epoch 26/50\n",
      "\u001b[1m5025/5025\u001b[0m \u001b[32m━━━━━━━━━━━━━━━━━━━━\u001b[0m\u001b[37m\u001b[0m \u001b[1m343s\u001b[0m 68ms/step - accuracy: 0.6365 - loss: 1.0624\n",
      "Epoch 27/50\n",
      "\u001b[1m5025/5025\u001b[0m \u001b[32m━━━━━━━━━━━━━━━━━━━━\u001b[0m\u001b[37m\u001b[0m \u001b[1m347s\u001b[0m 69ms/step - accuracy: 0.6346 - loss: 1.0665\n",
      "Epoch 28/50\n",
      "\u001b[1m5025/5025\u001b[0m \u001b[32m━━━━━━━━━━━━━━━━━━━━\u001b[0m\u001b[37m\u001b[0m \u001b[1m348s\u001b[0m 69ms/step - accuracy: 0.6365 - loss: 1.0627\n",
      "Epoch 29/50\n",
      "\u001b[1m5025/5025\u001b[0m \u001b[32m━━━━━━━━━━━━━━━━━━━━\u001b[0m\u001b[37m\u001b[0m \u001b[1m365s\u001b[0m 72ms/step - accuracy: 0.6399 - loss: 1.0522\n",
      "Epoch 30/50\n",
      "\u001b[1m5025/5025\u001b[0m \u001b[32m━━━━━━━━━━━━━━━━━━━━\u001b[0m\u001b[37m\u001b[0m \u001b[1m363s\u001b[0m 72ms/step - accuracy: 0.6406 - loss: 1.0492\n",
      "Epoch 31/50\n",
      "\u001b[1m5025/5025\u001b[0m \u001b[32m━━━━━━━━━━━━━━━━━━━━\u001b[0m\u001b[37m\u001b[0m \u001b[1m361s\u001b[0m 72ms/step - accuracy: 0.6436 - loss: 1.0439\n",
      "Epoch 32/50\n",
      "\u001b[1m5025/5025\u001b[0m \u001b[32m━━━━━━━━━━━━━━━━━━━━\u001b[0m\u001b[37m\u001b[0m \u001b[1m358s\u001b[0m 71ms/step - accuracy: 0.6429 - loss: 1.0430\n",
      "Epoch 33/50\n",
      "\u001b[1m5025/5025\u001b[0m \u001b[32m━━━━━━━━━━━━━━━━━━━━\u001b[0m\u001b[37m\u001b[0m \u001b[1m353s\u001b[0m 70ms/step - accuracy: 0.6449 - loss: 1.0379\n",
      "Epoch 34/50\n",
      "\u001b[1m5025/5025\u001b[0m \u001b[32m━━━━━━━━━━━━━━━━━━━━\u001b[0m\u001b[37m\u001b[0m \u001b[1m349s\u001b[0m 69ms/step - accuracy: 0.6474 - loss: 1.0333\n",
      "Epoch 35/50\n",
      "\u001b[1m5025/5025\u001b[0m \u001b[32m━━━━━━━━━━━━━━━━━━━━\u001b[0m\u001b[37m\u001b[0m \u001b[1m341s\u001b[0m 68ms/step - accuracy: 0.6472 - loss: 1.0253\n",
      "Epoch 36/50\n",
      "\u001b[1m5025/5025\u001b[0m \u001b[32m━━━━━━━━━━━━━━━━━━━━\u001b[0m\u001b[37m\u001b[0m \u001b[1m341s\u001b[0m 68ms/step - accuracy: 0.6489 - loss: 1.0237\n",
      "Epoch 37/50\n",
      "\u001b[1m5025/5025\u001b[0m \u001b[32m━━━━━━━━━━━━━━━━━━━━\u001b[0m\u001b[37m\u001b[0m \u001b[1m343s\u001b[0m 68ms/step - accuracy: 0.6490 - loss: 1.0237\n",
      "Epoch 38/50\n",
      "\u001b[1m5025/5025\u001b[0m \u001b[32m━━━━━━━━━━━━━━━━━━━━\u001b[0m\u001b[37m\u001b[0m \u001b[1m348s\u001b[0m 69ms/step - accuracy: 0.6490 - loss: 1.0250\n",
      "Epoch 39/50\n",
      "\u001b[1m5025/5025\u001b[0m \u001b[32m━━━━━━━━━━━━━━━━━━━━\u001b[0m\u001b[37m\u001b[0m \u001b[1m357s\u001b[0m 71ms/step - accuracy: 0.6501 - loss: 1.0182\n",
      "Epoch 40/50\n",
      "\u001b[1m5025/5025\u001b[0m \u001b[32m━━━━━━━━━━━━━━━━━━━━\u001b[0m\u001b[37m\u001b[0m \u001b[1m345s\u001b[0m 69ms/step - accuracy: 0.6512 - loss: 1.0202\n",
      "Epoch 41/50\n",
      "\u001b[1m5025/5025\u001b[0m \u001b[32m━━━━━━━━━━━━━━━━━━━━\u001b[0m\u001b[37m\u001b[0m \u001b[1m348s\u001b[0m 69ms/step - accuracy: 0.6508 - loss: 1.0132\n",
      "Epoch 42/50\n",
      "\u001b[1m5025/5025\u001b[0m \u001b[32m━━━━━━━━━━━━━━━━━━━━\u001b[0m\u001b[37m\u001b[0m \u001b[1m361s\u001b[0m 72ms/step - accuracy: 0.6525 - loss: 1.0162\n",
      "Epoch 43/50\n",
      "\u001b[1m5025/5025\u001b[0m \u001b[32m━━━━━━━━━━━━━━━━━━━━\u001b[0m\u001b[37m\u001b[0m \u001b[1m359s\u001b[0m 71ms/step - accuracy: 0.6521 - loss: 1.0134\n",
      "Epoch 44/50\n",
      "\u001b[1m5025/5025\u001b[0m \u001b[32m━━━━━━━━━━━━━━━━━━━━\u001b[0m\u001b[37m\u001b[0m \u001b[1m355s\u001b[0m 70ms/step - accuracy: 0.6541 - loss: 1.0080\n",
      "Epoch 45/50\n",
      "\u001b[1m5025/5025\u001b[0m \u001b[32m━━━━━━━━━━━━━━━━━━━━\u001b[0m\u001b[37m\u001b[0m \u001b[1m359s\u001b[0m 71ms/step - accuracy: 0.6575 - loss: 1.0017\n",
      "Epoch 46/50\n",
      "\u001b[1m5025/5025\u001b[0m \u001b[32m━━━━━━━━━━━━━━━━━━━━\u001b[0m\u001b[37m\u001b[0m \u001b[1m352s\u001b[0m 70ms/step - accuracy: 0.6557 - loss: 1.0038\n",
      "Epoch 47/50\n",
      "\u001b[1m5025/5025\u001b[0m \u001b[32m━━━━━━━━━━━━━━━━━━━━\u001b[0m\u001b[37m\u001b[0m \u001b[1m4741s\u001b[0m 943ms/step - accuracy: 0.6561 - loss: 1.0006\n",
      "Epoch 48/50\n",
      "\u001b[1m5025/5025\u001b[0m \u001b[32m━━━━━━━━━━━━━━━━━━━━\u001b[0m\u001b[37m\u001b[0m \u001b[1m364s\u001b[0m 72ms/step - accuracy: 0.6558 - loss: 0.9975\n",
      "Epoch 49/50\n",
      "\u001b[1m5025/5025\u001b[0m \u001b[32m━━━━━━━━━━━━━━━━━━━━\u001b[0m\u001b[37m\u001b[0m \u001b[1m410s\u001b[0m 81ms/step - accuracy: 0.6581 - loss: 0.9950\n",
      "Epoch 50/50\n",
      "\u001b[1m5025/5025\u001b[0m \u001b[32m━━━━━━━━━━━━━━━━━━━━\u001b[0m\u001b[37m\u001b[0m \u001b[1m410s\u001b[0m 81ms/step - accuracy: 0.6607 - loss: 0.9864\n"
     ]
    }
   ],
   "source": [
    "model.compile(\n",
    "    loss=tf.keras.losses.SparseCategoricalCrossentropy(from_logits=False),\n",
    "    optimizer=tf.keras.optimizers.Adam(learning_rate=0.001),\n",
    "    metrics=['accuracy']\n",
    ")\n",
    "\n",
    "history = model.fit(\n",
    "    dataset,\n",
    "    epochs=50,\n",
    ")"
   ]
  },
  {
   "cell_type": "code",
   "execution_count": 105,
   "metadata": {},
   "outputs": [
    {
     "name": "stderr",
     "output_type": "stream",
     "text": [
      "WARNING:absl:You are saving your model as an HDF5 file via `model.save()` or `keras.saving.save_model(model)`. This file format is considered legacy. We recommend using instead the native Keras format, e.g. `model.save('my_model.keras')` or `keras.saving.save_model(model, 'my_model.keras')`. \n"
     ]
    }
   ],
   "source": [
    "model.save(\"../models/model_matrix_2.h5\")  # Saves the model as an HDF5 file\n"
   ]
  },
  {
   "cell_type": "code",
   "execution_count": 75,
   "metadata": {},
   "outputs": [],
   "source": [
    "x_test = pd.read_csv(\"/Users/elouan/Data/Data_ENSxCFM/X_test.csv\")"
   ]
  },
  {
   "cell_type": "code",
   "execution_count": null,
   "metadata": {},
   "outputs": [],
   "source": [
    "x_test.info()\n"
   ]
  },
  {
   "cell_type": "code",
   "execution_count": 103,
   "metadata": {},
   "outputs": [
    {
     "data": {
      "text/html": [
       "<div>\n",
       "<style scoped>\n",
       "    .dataframe tbody tr th:only-of-type {\n",
       "        vertical-align: middle;\n",
       "    }\n",
       "\n",
       "    .dataframe tbody tr th {\n",
       "        vertical-align: top;\n",
       "    }\n",
       "\n",
       "    .dataframe thead th {\n",
       "        text-align: right;\n",
       "    }\n",
       "</style>\n",
       "<table border=\"1\" class=\"dataframe\">\n",
       "  <thead>\n",
       "    <tr style=\"text-align: right;\">\n",
       "      <th></th>\n",
       "      <th>obs_id</th>\n",
       "      <th>venue</th>\n",
       "      <th>order_id</th>\n",
       "      <th>action</th>\n",
       "      <th>side</th>\n",
       "      <th>price</th>\n",
       "      <th>bid</th>\n",
       "      <th>ask</th>\n",
       "      <th>bid_size</th>\n",
       "      <th>ask_size</th>\n",
       "      <th>trade</th>\n",
       "      <th>flux</th>\n",
       "    </tr>\n",
       "  </thead>\n",
       "  <tbody>\n",
       "    <tr>\n",
       "      <th>0</th>\n",
       "      <td>0</td>\n",
       "      <td>4</td>\n",
       "      <td>0</td>\n",
       "      <td>0</td>\n",
       "      <td>1</td>\n",
       "      <td>1.5</td>\n",
       "      <td>0.0</td>\n",
       "      <td>15.0</td>\n",
       "      <td>6.238325</td>\n",
       "      <td>4.615121</td>\n",
       "      <td>0</td>\n",
       "      <td>100</td>\n",
       "    </tr>\n",
       "    <tr>\n",
       "      <th>1</th>\n",
       "      <td>0</td>\n",
       "      <td>2</td>\n",
       "      <td>1</td>\n",
       "      <td>1</td>\n",
       "      <td>1</td>\n",
       "      <td>1.6</td>\n",
       "      <td>0.0</td>\n",
       "      <td>15.0</td>\n",
       "      <td>6.238325</td>\n",
       "      <td>4.615121</td>\n",
       "      <td>0</td>\n",
       "      <td>-100</td>\n",
       "    </tr>\n",
       "    <tr>\n",
       "      <th>2</th>\n",
       "      <td>0</td>\n",
       "      <td>4</td>\n",
       "      <td>2</td>\n",
       "      <td>1</td>\n",
       "      <td>1</td>\n",
       "      <td>16.3</td>\n",
       "      <td>0.0</td>\n",
       "      <td>15.0</td>\n",
       "      <td>6.238325</td>\n",
       "      <td>4.615121</td>\n",
       "      <td>0</td>\n",
       "      <td>-100</td>\n",
       "    </tr>\n",
       "    <tr>\n",
       "      <th>3</th>\n",
       "      <td>0</td>\n",
       "      <td>4</td>\n",
       "      <td>3</td>\n",
       "      <td>0</td>\n",
       "      <td>1</td>\n",
       "      <td>16.2</td>\n",
       "      <td>0.0</td>\n",
       "      <td>15.0</td>\n",
       "      <td>6.238325</td>\n",
       "      <td>4.615121</td>\n",
       "      <td>0</td>\n",
       "      <td>100</td>\n",
       "    </tr>\n",
       "    <tr>\n",
       "      <th>4</th>\n",
       "      <td>0</td>\n",
       "      <td>2</td>\n",
       "      <td>4</td>\n",
       "      <td>0</td>\n",
       "      <td>1</td>\n",
       "      <td>1.5</td>\n",
       "      <td>0.0</td>\n",
       "      <td>15.0</td>\n",
       "      <td>6.238325</td>\n",
       "      <td>5.303305</td>\n",
       "      <td>0</td>\n",
       "      <td>100</td>\n",
       "    </tr>\n",
       "  </tbody>\n",
       "</table>\n",
       "</div>"
      ],
      "text/plain": [
       "   obs_id  venue  order_id  action  side  price  bid   ask  bid_size  \\\n",
       "0       0      4         0       0     1    1.5  0.0  15.0  6.238325   \n",
       "1       0      2         1       1     1    1.6  0.0  15.0  6.238325   \n",
       "2       0      4         2       1     1   16.3  0.0  15.0  6.238325   \n",
       "3       0      4         3       0     1   16.2  0.0  15.0  6.238325   \n",
       "4       0      2         4       0     1    1.5  0.0  15.0  6.238325   \n",
       "\n",
       "   ask_size  trade  flux  \n",
       "0  4.615121      0   100  \n",
       "1  4.615121      0  -100  \n",
       "2  4.615121      0  -100  \n",
       "3  4.615121      0   100  \n",
       "4  5.303305      0   100  "
      ]
     },
     "execution_count": 103,
     "metadata": {},
     "output_type": "execute_result"
    }
   ],
   "source": [
    "x_test.head()\n"
   ]
  },
  {
   "cell_type": "code",
   "execution_count": 76,
   "metadata": {},
   "outputs": [
    {
     "data": {
      "text/html": [
       "<div>\n",
       "<style scoped>\n",
       "    .dataframe tbody tr th:only-of-type {\n",
       "        vertical-align: middle;\n",
       "    }\n",
       "\n",
       "    .dataframe tbody tr th {\n",
       "        vertical-align: top;\n",
       "    }\n",
       "\n",
       "    .dataframe thead th {\n",
       "        text-align: right;\n",
       "    }\n",
       "</style>\n",
       "<table border=\"1\" class=\"dataframe\">\n",
       "  <thead>\n",
       "    <tr style=\"text-align: right;\">\n",
       "      <th></th>\n",
       "      <th>column 1</th>\n",
       "    </tr>\n",
       "  </thead>\n",
       "  <tbody>\n",
       "    <tr>\n",
       "      <th>0</th>\n",
       "      <td>[[4.0, 0.0, 0.0, 1.0, 1.5, 0.0, 15.0, 6.238324...</td>\n",
       "    </tr>\n",
       "    <tr>\n",
       "      <th>1</th>\n",
       "      <td>[[5.0, 0.0, 0.0, 1.0, 0.4, 0.0, 4.0, 3.7841897...</td>\n",
       "    </tr>\n",
       "    <tr>\n",
       "      <th>2</th>\n",
       "      <td>[[0.0, 0.0, 0.0, 0.0, 0.0, 0.0, 11.0, 6.456769...</td>\n",
       "    </tr>\n",
       "    <tr>\n",
       "      <th>3</th>\n",
       "      <td>[[4.0, 0.0, 1.0, 0.0, -7.0, 0.0, 8.0, 2.302585...</td>\n",
       "    </tr>\n",
       "    <tr>\n",
       "      <th>4</th>\n",
       "      <td>[[0.0, 0.0, 0.0, 0.0, -1.0, 0.0, 2.0, 7.189922...</td>\n",
       "    </tr>\n",
       "  </tbody>\n",
       "</table>\n",
       "</div>"
      ],
      "text/plain": [
       "                                            column 1\n",
       "0  [[4.0, 0.0, 0.0, 1.0, 1.5, 0.0, 15.0, 6.238324...\n",
       "1  [[5.0, 0.0, 0.0, 1.0, 0.4, 0.0, 4.0, 3.7841897...\n",
       "2  [[0.0, 0.0, 0.0, 0.0, 0.0, 0.0, 11.0, 6.456769...\n",
       "3  [[4.0, 0.0, 1.0, 0.0, -7.0, 0.0, 8.0, 2.302585...\n",
       "4  [[0.0, 0.0, 0.0, 0.0, -1.0, 0.0, 2.0, 7.189922..."
      ]
     },
     "execution_count": 76,
     "metadata": {},
     "output_type": "execute_result"
    }
   ],
   "source": [
    "x_test_2 = change_X_data_2(x_test)\n",
    "x_test_2.head()"
   ]
  },
  {
   "cell_type": "code",
   "execution_count": 77,
   "metadata": {},
   "outputs": [],
   "source": [
    "x_test_3 = np.array([np.array(row) for row in x_test_2[\"column 1\"]])"
   ]
  },
  {
   "cell_type": "code",
   "execution_count": 101,
   "metadata": {},
   "outputs": [
    {
     "data": {
      "text/plain": [
       "array([  4.       ,   0.       ,   0.       ,   1.       ,   1.5      ,\n",
       "         0.       ,  15.       ,   6.2383246,   4.6151204,   0.       ,\n",
       "       100.       ], dtype=float32)"
      ]
     },
     "execution_count": 101,
     "metadata": {},
     "output_type": "execute_result"
    }
   ],
   "source": [
    "x_test_3[0][0]"
   ]
  },
  {
   "cell_type": "code",
   "execution_count": 80,
   "metadata": {},
   "outputs": [
    {
     "data": {
      "text/plain": [
       "(81600, 100, 11)"
      ]
     },
     "execution_count": 80,
     "metadata": {},
     "output_type": "execute_result"
    }
   ],
   "source": [
    "x_test_3.shape"
   ]
  },
  {
   "cell_type": "code",
   "execution_count": 84,
   "metadata": {},
   "outputs": [],
   "source": [
    "y_test = y2[0:81600]"
   ]
  },
  {
   "cell_type": "code",
   "execution_count": 85,
   "metadata": {},
   "outputs": [
    {
     "data": {
      "text/plain": [
       "(81600,)"
      ]
     },
     "execution_count": 85,
     "metadata": {},
     "output_type": "execute_result"
    }
   ],
   "source": [
    "y_test.shape"
   ]
  },
  {
   "cell_type": "code",
   "execution_count": 86,
   "metadata": {},
   "outputs": [],
   "source": [
    "dataset_test = tf.data.Dataset.from_tensor_slices((x_test_3, y_test))"
   ]
  },
  {
   "cell_type": "code",
   "execution_count": 100,
   "metadata": {},
   "outputs": [
    {
     "name": "stdout",
     "output_type": "stream",
     "text": [
      "Features: [[[   3.           0.           0.        ...    5.2832036    0.\n",
      "     59.       ]\n",
      "  [   3.           1.           0.        ...    5.2832036    0.\n",
      "    100.       ]\n",
      "  [   5.           2.           0.        ...    5.2832036    0.\n",
      "    100.       ]\n",
      "  ...\n",
      "  [   4.          60.           1.        ...    0.6931472    0.\n",
      "     -1.       ]\n",
      "  [   4.          57.           1.        ...    5.924256     0.\n",
      "   -100.       ]\n",
      "  [   2.          64.           0.        ...    5.924256     0.\n",
      "    100.       ]]\n",
      "\n",
      " [[   4.           0.           1.        ...    5.5947113    0.\n",
      "   -200.       ]\n",
      "  [   4.           1.           1.        ...    5.1298985    0.\n",
      "   -100.       ]\n",
      "  [   4.           2.           0.        ...    5.1298985    0.\n",
      "    300.       ]\n",
      "  ...\n",
      "  [   1.          71.           0.        ...    7.2950563    0.\n",
      "     45.       ]\n",
      "  [   5.          72.           0.        ...    7.3607397    0.\n",
      "    100.       ]\n",
      "  [   5.          73.           0.        ...    7.386471     0.\n",
      "     41.       ]]\n",
      "\n",
      " [[   3.           0.           0.        ...    5.710427     0.\n",
      "      1.       ]\n",
      "  [   3.           1.           0.        ...    4.6151204    0.\n",
      "    100.       ]\n",
      "  [   1.           2.           0.        ...    4.6151204    0.\n",
      "    100.       ]\n",
      "  ...\n",
      "  [   4.          62.           1.        ...    6.403574     0.\n",
      "    -50.       ]\n",
      "  [   4.          63.           0.        ...    6.5072775    0.\n",
      "     66.       ]\n",
      "  [   1.          64.           0.        ...    6.5072775    0.\n",
      "    100.       ]]\n",
      "\n",
      " ...\n",
      "\n",
      " [[   4.           0.           1.        ...    3.1354942    0.\n",
      "   -100.       ]\n",
      "  [   4.           1.           0.        ...    3.1354942    0.\n",
      "    100.       ]\n",
      "  [   4.           2.           1.        ...    3.1354942    0.\n",
      "    -22.       ]\n",
      "  ...\n",
      "  [   4.          59.           0.        ...    3.1354942    0.\n",
      "    100.       ]\n",
      "  [   4.          59.           1.        ...    3.1354942    0.\n",
      "   -100.       ]\n",
      "  [   4.          60.           0.        ...    3.1354942    0.\n",
      "    100.       ]]\n",
      "\n",
      " [[   5.           0.           0.        ...    6.228511     0.\n",
      "    100.       ]\n",
      "  [   3.           1.           1.        ...    6.228511     0.\n",
      "   -100.       ]\n",
      "  [   3.           2.           1.        ...    6.228511     0.\n",
      "   -100.       ]\n",
      "  ...\n",
      "  [   0.          79.           1.        ...    4.634729     0.\n",
      "   -100.       ]\n",
      "  [   0.          80.           1.        ...    4.634729     0.\n",
      "   -100.       ]\n",
      "  [   3.          81.           0.        ...    4.634729     0.\n",
      "    100.       ]]\n",
      "\n",
      " [[   4.           0.           1.        ...    3.4011974    0.\n",
      "     -1.       ]\n",
      "  [   4.           1.           1.        ...    3.4011974    0.\n",
      "     -1.       ]\n",
      "  [   4.           2.           1.        ...    3.4011974    0.\n",
      "     -1.       ]\n",
      "  ...\n",
      "  [   2.          66.           1.        ...    3.7612002    0.\n",
      "   -100.       ]\n",
      "  [   5.          75.           0.        ...    4.4308167    0.\n",
      "     41.       ]\n",
      "  [   4.          76.           1.        ...    4.4308167    0.\n",
      "     -1.       ]]]\n",
      "Label: [12 22 17  8 11  4 17 18 11  2  2 10  5 11 13  1  2 11 11 17 16  5  4  4\n",
      " 20  3 11 16 12 22 15 23]\n",
      "Features: [[[   0.           0.           0.        ...    4.394449     0.\n",
      "    100.       ]\n",
      "  [   5.           1.           1.        ...    4.394449     0.\n",
      "    -40.       ]\n",
      "  [   3.           2.           1.        ...    3.713572     0.\n",
      "    -40.       ]\n",
      "  ...\n",
      "  [   5.          48.           0.        ...    6.082219     0.\n",
      "    100.       ]\n",
      "  [   3.          26.           1.        ...    6.082219     0.\n",
      "   -100.       ]\n",
      "  [   3.          49.           0.        ...    6.082219     0.\n",
      "    100.       ]]\n",
      "\n",
      " [[   4.           0.           1.        ...    6.828712     0.\n",
      "   -100.       ]\n",
      "  [   4.           1.           0.        ...    6.828712     0.\n",
      "      1.       ]\n",
      "  [   4.           2.           1.        ...    6.828712     0.\n",
      "   -100.       ]\n",
      "  ...\n",
      "  [   5.          72.           0.        ...    4.7095304    0.\n",
      "    200.       ]\n",
      "  [   5.          73.           0.        ...    4.7095304    0.\n",
      "    200.       ]\n",
      "  [   5.          74.           1.        ...    4.7095304    0.\n",
      "   -100.       ]]\n",
      "\n",
      " [[   5.           0.           1.        ...    5.0875964    0.\n",
      "   -300.       ]\n",
      "  [   0.           1.           0.        ...    5.0875964    0.\n",
      "    100.       ]\n",
      "  [   0.           2.           1.        ...    5.0875964    0.\n",
      "    -50.       ]\n",
      "  ...\n",
      "  [   0.          46.           1.        ...    4.6151204    0.\n",
      "   -100.       ]\n",
      "  [   5.          43.           1.        ...    4.6151204    0.\n",
      "   -100.       ]\n",
      "  [   5.          43.           0.        ...    4.6151204    0.\n",
      "    100.       ]]\n",
      "\n",
      " ...\n",
      "\n",
      " [[   5.           0.           1.        ...    5.7462034    0.\n",
      "   -300.       ]\n",
      "  [   2.           1.           0.        ...    6.0234475    0.\n",
      "    100.       ]\n",
      "  [   2.           1.           1.        ...    6.0234475    0.\n",
      "   -100.       ]\n",
      "  ...\n",
      "  [   0.          73.           0.        ...    0.6931472    0.\n",
      "    100.       ]\n",
      "  [   0.          74.           1.        ...    0.6931472    0.\n",
      "   -100.       ]\n",
      "  [   0.          74.           0.        ...    0.6931472    0.\n",
      "    100.       ]]\n",
      "\n",
      " [[   0.           0.           1.        ...    6.947937     0.\n",
      "   -100.       ]\n",
      "  [   5.           1.           0.        ...    6.9574976    0.\n",
      "     10.       ]\n",
      "  [   4.           2.           1.        ...    6.9574976    0.\n",
      "   -100.       ]\n",
      "  ...\n",
      "  [   0.          68.           0.        ...    6.64379      0.\n",
      "    400.       ]\n",
      "  [   0.          69.           0.        ...    6.64379      0.\n",
      "    100.       ]\n",
      "  [   2.          70.           0.        ...    6.7661915    0.\n",
      "    100.       ]]\n",
      "\n",
      " [[   4.           0.           1.        ...    6.5666723    0.\n",
      "    -37.       ]\n",
      "  [   4.           1.           1.        ...    6.5666723    0.\n",
      "   -100.       ]\n",
      "  [   0.           2.           1.        ...    6.5666723    0.\n",
      "    -35.       ]\n",
      "  ...\n",
      "  [   2.          63.           1.        ...    6.244167     0.\n",
      "   -100.       ]\n",
      "  [   2.          64.           0.        ...    6.244167     0.\n",
      "    100.       ]\n",
      "  [   2.          64.           1.        ...    6.244167     0.\n",
      "   -100.       ]]]\n",
      "Label: [14 11  9 13  5  8 15 22 12  0 11 13  5 18  8  9 15 21 15 20 12 22  0  0\n",
      "  9  3 16 20  1  1  7 22]\n",
      "Features: [[[   3.           0.           1.        ...    4.6728287    0.\n",
      "    -37.       ]\n",
      "  [   5.           1.           1.        ...    4.6728287    0.\n",
      "    -40.       ]\n",
      "  [   5.           2.           1.        ...    4.6728287    0.\n",
      "   -200.       ]\n",
      "  ...\n",
      "  [   1.          64.           0.        ...    5.123964     0.\n",
      "     10.       ]\n",
      "  [   4.          50.           1.        ...    5.123964     0.\n",
      "    -10.       ]\n",
      "  [   4.          65.           1.        ...    5.123964     0.\n",
      "     -1.       ]]\n",
      "\n",
      " [[   4.           0.           0.        ...    5.0172796    0.\n",
      "     15.       ]\n",
      "  [   4.           1.           0.        ...    5.0172796    0.\n",
      "     15.       ]\n",
      "  [   5.           2.           1.        ...    5.0172796    0.\n",
      "   -100.       ]\n",
      "  ...\n",
      "  [   5.           2.           0.        ...    5.525453     0.\n",
      "    100.       ]\n",
      "  [   4.          41.           1.        ...    5.525453     0.\n",
      "    -15.       ]\n",
      "  [   2.          46.           1.        ...    5.525453     0.\n",
      "   -100.       ]]\n",
      "\n",
      " [[   2.           0.           1.        ...    6.216606     0.\n",
      "    -14.       ]\n",
      "  [   5.           1.           0.        ...    6.216606     0.\n",
      "     33.       ]\n",
      "  [   5.           2.           1.        ...    6.216606     0.\n",
      "   -100.       ]\n",
      "  ...\n",
      "  [   4.          23.           1.        ...    6.668228     0.\n",
      "   -100.       ]\n",
      "  [   4.          73.           0.        ...    6.668228     0.\n",
      "    100.       ]\n",
      "  [   4.          74.           0.        ...    6.668228     0.\n",
      "    100.       ]]\n",
      "\n",
      " ...\n",
      "\n",
      " [[   4.           0.           1.        ...    4.6151204    0.\n",
      "    -27.       ]\n",
      "  [   4.           1.           0.        ...    4.7791233    0.\n",
      "     18.       ]\n",
      "  [   4.           2.           0.        ...    5.389072     0.\n",
      "    100.       ]\n",
      "  ...\n",
      "  [   4.          65.           0.        ...    6.037871     0.\n",
      "    100.       ]\n",
      "  [   4.          61.           1.        ...    6.037871     0.\n",
      "   -100.       ]\n",
      "  [   4.          66.           0.        ...    6.150603     0.\n",
      "     50.       ]]\n",
      "\n",
      " [[   0.           0.           1.        ...    0.6931472    0.\n",
      "    -13.       ]\n",
      "  [   0.           1.           1.        ...    0.6931472    0.\n",
      "   -100.       ]\n",
      "  [   0.           2.           1.        ...    0.6931472    0.\n",
      "   -100.       ]\n",
      "  ...\n",
      "  [   0.          70.           0.        ...    3.6888795    0.\n",
      "     17.       ]\n",
      "  [   0.          71.           0.        ...    3.6888795    0.\n",
      "    100.       ]\n",
      "  [   3.          72.           0.        ...    3.6888795    0.\n",
      "    100.       ]]\n",
      "\n",
      " [[   4.           0.           1.        ...    1.3862944    0.\n",
      "   -100.       ]\n",
      "  [   4.           1.           0.        ...    1.3862944    0.\n",
      "    100.       ]\n",
      "  [   5.           2.           1.        ...    1.3862944    0.\n",
      "   -100.       ]\n",
      "  ...\n",
      "  [   0.          67.           0.        ...    5.7930136    0.\n",
      "    100.       ]\n",
      "  [   4.          68.           1.        ...    5.7930136    0.\n",
      "   -100.       ]\n",
      "  [   4.          69.           0.        ...    5.7930136    0.\n",
      "    100.       ]]]\n",
      "Label: [15 10  9 18  9 21  7 14  4  4  2  7 22 11  5 22  2 15 23 22  3  6 17  9\n",
      "  4 11  8  1  1 18  3  2]\n"
     ]
    }
   ],
   "source": [
    "for x, y in dataset_test.take(3):  # Use `.take()` to limit output to 3 samples\n",
    "    print(\"Features:\", x.numpy())\n",
    "    print(\"Label:\", y.numpy())"
   ]
  },
  {
   "cell_type": "code",
   "execution_count": 93,
   "metadata": {},
   "outputs": [],
   "source": [
    "batch_size = 32\n",
    "dataset_test = dataset_test.shuffle(buffer_size=len(x_test_3))  # Shuffling the dataset\n",
    "\n"
   ]
  },
  {
   "cell_type": "code",
   "execution_count": 95,
   "metadata": {},
   "outputs": [],
   "source": [
    "dataset_test = dataset_test.batch(batch_size)"
   ]
  },
  {
   "cell_type": "code",
   "execution_count": 107,
   "metadata": {},
   "outputs": [
    {
     "name": "stdout",
     "output_type": "stream",
     "text": [
      "\u001b[1m5025/5025\u001b[0m \u001b[32m━━━━━━━━━━━━━━━━━━━━\u001b[0m\u001b[37m\u001b[0m \u001b[1m79s\u001b[0m 15ms/step - accuracy: 0.6942 - loss: 0.8825\n",
      "Test Loss: 0.879999041557312, Test Accuracy: 0.6941915154457092\n"
     ]
    }
   ],
   "source": [
    "test_loss, test_accuracy = model.evaluate(dataset_test)\n",
    "print(f\"Test Loss: {test_loss}, Test Accuracy: {test_accuracy}\")"
   ]
  },
  {
   "cell_type": "code",
   "execution_count": 102,
   "metadata": {},
   "outputs": [
    {
     "name": "stdout",
     "output_type": "stream",
     "text": [
      "\u001b[1m1/1\u001b[0m \u001b[32m━━━━━━━━━━━━━━━━━━━━\u001b[0m\u001b[37m\u001b[0m \u001b[1m0s\u001b[0m 28ms/step\n",
      "Prediction for the single sequence: 13\n",
      "expected :  10\n"
     ]
    }
   ],
   "source": [
    "# Reshape it to (1, 100, 11) to match the model input shape\n",
    "single_sequence = np.expand_dims(x_test_3[0], axis=0)\n",
    "\n",
    "# Make a prediction with the trained model\n",
    "prediction = model.predict(single_sequence)\n",
    "yhat = np.argmax(prediction)\n",
    "\n",
    "print(\"Prediction for the single sequence:\", yhat)\n",
    "print(\"expected : \", y2[0])"
   ]
  },
  {
   "cell_type": "code",
   "execution_count": null,
   "metadata": {},
   "outputs": [],
   "source": [
    "# n = 14\n",
    "\n",
    "# prediction = model.predict(np.array(x_test_3.iloc[n]).reshape(1,12))\n",
    "# prediction_p = tf.nn.softmax(prediction)\n",
    "# yhat = np.argmax(prediction_p)\n",
    "# print(prediction_p)\n",
    "# print(\"prediction :\")\n",
    "# print(yhat)\n",
    "# print(\"expected value : \")\n",
    "# print(y.iloc[n])"
   ]
  },
  {
   "cell_type": "code",
   "execution_count": null,
   "metadata": {},
   "outputs": [],
   "source": [
    "# m = 1000\n",
    "# S = 0\n",
    "\n",
    "# for i in range(m):\n",
    "    \n",
    "#     prediction = model.predict(np.array(x_test.iloc[i]).reshape(1,12))\n",
    "#     prediction_p = tf.nn.softmax(prediction)\n",
    "#     yhat = np.argmax(prediction_p)\n",
    "\n",
    "#     if yhat == y[\"eqt_code_cat\"].iloc[i] :\n",
    "#         S+=1\n",
    "    \n",
    "# print(f\"{(S/m)*100}% of precision\")\n",
    "\n",
    "    "
   ]
  }
 ],
 "metadata": {
  "kernelspec": {
   "display_name": "challenge_ENS_env_CFM",
   "language": "python",
   "name": "python3"
  },
  "language_info": {
   "codemirror_mode": {
    "name": "ipython",
    "version": 3
   },
   "file_extension": ".py",
   "mimetype": "text/x-python",
   "name": "python",
   "nbconvert_exporter": "python",
   "pygments_lexer": "ipython3",
   "version": "3.11.10"
  }
 },
 "nbformat": 4,
 "nbformat_minor": 2
}
