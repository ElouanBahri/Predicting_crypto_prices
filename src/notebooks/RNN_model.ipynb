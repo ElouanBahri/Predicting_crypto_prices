{
 "cells": [
  {
   "cell_type": "markdown",
   "metadata": {},
   "source": [
    "Modèle Stat ARIMA... (SARIMA)\n",
    "\n",
    "librairie : statmodel (library, package ARIMA)\n",
    "\n",
    "\n",
    "Model LLM, Ollama, TimeCHATGPT...\n",
    "\n",
    "à compléter et battre le BTC tout seul est quasiment impossible "
   ]
  },
  {
   "cell_type": "code",
   "execution_count": 1,
   "metadata": {},
   "outputs": [],
   "source": [
    "import pandas as pd\n",
    "import numpy as np\n",
    "import tensorflow as tf\n",
    "\n",
    "from tensorflow.keras.callbacks import EarlyStopping\n",
    "from tensorflow.keras.callbacks import ReduceLROnPlateau, ModelCheckpoint\n",
    "from tensorflow.keras.models import Sequential\n",
    "from tensorflow.keras.layers import Dense, GRU, Dropout, LSTM\n",
    "from tensorflow.keras.activations import linear, relu, sigmoid\n",
    "\n",
    "from modules.utils import feature_engineering_last\n",
    "\n",
    "from sklearn.model_selection import train_test_split"
   ]
  },
  {
   "cell_type": "code",
   "execution_count": 2,
   "metadata": {},
   "outputs": [],
   "source": [
    "X = pd.read_csv(\n",
    "    \"/Users/elouan/Repo Github ElouanBahri/Predicting_crypto_prices/Historical Prices for BTCUSDT\"\n",
    ")"
   ]
  },
  {
   "cell_type": "code",
   "execution_count": 3,
   "metadata": {},
   "outputs": [],
   "source": [
    "# YEARS = [2019,2021,2022,2023,2024,2025]\n",
    "\n",
    "# Data = filter_data_by_year_month(X, YEARS)\n",
    "\n",
    "df = feature_engineering_last(X)"
   ]
  },
  {
   "cell_type": "code",
   "execution_count": null,
   "metadata": {},
   "outputs": [],
   "source": [
    "# Check for NaN values in the entire DataFrame\n",
    "print(df.isnull().sum())"
   ]
  },
  {
   "cell_type": "code",
   "execution_count": 4,
   "metadata": {},
   "outputs": [
    {
     "data": {
      "text/html": [
       "<div>\n",
       "<style scoped>\n",
       "    .dataframe tbody tr th:only-of-type {\n",
       "        vertical-align: middle;\n",
       "    }\n",
       "\n",
       "    .dataframe tbody tr th {\n",
       "        vertical-align: top;\n",
       "    }\n",
       "\n",
       "    .dataframe thead th {\n",
       "        text-align: right;\n",
       "    }\n",
       "</style>\n",
       "<table border=\"1\" class=\"dataframe\">\n",
       "  <thead>\n",
       "    <tr style=\"text-align: right;\">\n",
       "      <th></th>\n",
       "      <th>open</th>\n",
       "      <th>high</th>\n",
       "      <th>low</th>\n",
       "      <th>close</th>\n",
       "      <th>volume</th>\n",
       "      <th>number_of_trades</th>\n",
       "      <th>return</th>\n",
       "      <th>RSI</th>\n",
       "      <th>upper_band</th>\n",
       "      <th>middle_band</th>\n",
       "      <th>lower_band</th>\n",
       "      <th>MA_7</th>\n",
       "      <th>MA_25</th>\n",
       "      <th>MA_50</th>\n",
       "      <th>MA_100</th>\n",
       "      <th>MACD</th>\n",
       "      <th>MACD_signal</th>\n",
       "      <th>MACD_hist</th>\n",
       "    </tr>\n",
       "  </thead>\n",
       "  <tbody>\n",
       "    <tr>\n",
       "      <th>100</th>\n",
       "      <td>0.004070</td>\n",
       "      <td>0.004106</td>\n",
       "      <td>0.004155</td>\n",
       "      <td>0.003988</td>\n",
       "      <td>0.023472</td>\n",
       "      <td>0.005843</td>\n",
       "      <td>-0.002531</td>\n",
       "      <td>0.707136</td>\n",
       "      <td>0.004013</td>\n",
       "      <td>0.003468</td>\n",
       "      <td>0.002873</td>\n",
       "      <td>0.003654</td>\n",
       "      <td>0.003129</td>\n",
       "      <td>0.002991</td>\n",
       "      <td>0.002911</td>\n",
       "      <td>0.508652</td>\n",
       "      <td>0.512247</td>\n",
       "      <td>0.450707</td>\n",
       "    </tr>\n",
       "    <tr>\n",
       "      <th>101</th>\n",
       "      <td>0.003985</td>\n",
       "      <td>0.003938</td>\n",
       "      <td>0.003963</td>\n",
       "      <td>0.003891</td>\n",
       "      <td>0.009838</td>\n",
       "      <td>0.004210</td>\n",
       "      <td>-0.002686</td>\n",
       "      <td>0.658770</td>\n",
       "      <td>0.004063</td>\n",
       "      <td>0.003534</td>\n",
       "      <td>0.002954</td>\n",
       "      <td>0.003742</td>\n",
       "      <td>0.003170</td>\n",
       "      <td>0.003005</td>\n",
       "      <td>0.002918</td>\n",
       "      <td>0.508802</td>\n",
       "      <td>0.512939</td>\n",
       "      <td>0.449665</td>\n",
       "    </tr>\n",
       "    <tr>\n",
       "      <th>102</th>\n",
       "      <td>0.003889</td>\n",
       "      <td>0.003824</td>\n",
       "      <td>0.003947</td>\n",
       "      <td>0.003825</td>\n",
       "      <td>0.009466</td>\n",
       "      <td>0.003744</td>\n",
       "      <td>-0.001858</td>\n",
       "      <td>0.626677</td>\n",
       "      <td>0.004072</td>\n",
       "      <td>0.003597</td>\n",
       "      <td>0.003071</td>\n",
       "      <td>0.003822</td>\n",
       "      <td>0.003207</td>\n",
       "      <td>0.003016</td>\n",
       "      <td>0.002926</td>\n",
       "      <td>0.508672</td>\n",
       "      <td>0.513464</td>\n",
       "      <td>0.448328</td>\n",
       "    </tr>\n",
       "    <tr>\n",
       "      <th>103</th>\n",
       "      <td>0.003845</td>\n",
       "      <td>0.003851</td>\n",
       "      <td>0.004013</td>\n",
       "      <td>0.003897</td>\n",
       "      <td>0.009093</td>\n",
       "      <td>0.003796</td>\n",
       "      <td>0.002027</td>\n",
       "      <td>0.646516</td>\n",
       "      <td>0.004060</td>\n",
       "      <td>0.003669</td>\n",
       "      <td>0.003228</td>\n",
       "      <td>0.003894</td>\n",
       "      <td>0.003253</td>\n",
       "      <td>0.003029</td>\n",
       "      <td>0.002933</td>\n",
       "      <td>0.508675</td>\n",
       "      <td>0.513884</td>\n",
       "      <td>0.447496</td>\n",
       "    </tr>\n",
       "    <tr>\n",
       "      <th>104</th>\n",
       "      <td>0.003901</td>\n",
       "      <td>0.003937</td>\n",
       "      <td>0.004042</td>\n",
       "      <td>0.003881</td>\n",
       "      <td>0.008321</td>\n",
       "      <td>0.003099</td>\n",
       "      <td>-0.000458</td>\n",
       "      <td>0.638055</td>\n",
       "      <td>0.004029</td>\n",
       "      <td>0.003729</td>\n",
       "      <td>0.003381</td>\n",
       "      <td>0.003859</td>\n",
       "      <td>0.003298</td>\n",
       "      <td>0.003042</td>\n",
       "      <td>0.002941</td>\n",
       "      <td>0.508557</td>\n",
       "      <td>0.514193</td>\n",
       "      <td>0.446614</td>\n",
       "    </tr>\n",
       "    <tr>\n",
       "      <th>105</th>\n",
       "      <td>0.003875</td>\n",
       "      <td>0.003858</td>\n",
       "      <td>0.004041</td>\n",
       "      <td>0.003917</td>\n",
       "      <td>0.003850</td>\n",
       "      <td>0.002126</td>\n",
       "      <td>0.000995</td>\n",
       "      <td>0.648598</td>\n",
       "      <td>0.003938</td>\n",
       "      <td>0.003795</td>\n",
       "      <td>0.003606</td>\n",
       "      <td>0.003851</td>\n",
       "      <td>0.003339</td>\n",
       "      <td>0.003054</td>\n",
       "      <td>0.002949</td>\n",
       "      <td>0.508478</td>\n",
       "      <td>0.514423</td>\n",
       "      <td>0.445977</td>\n",
       "    </tr>\n",
       "    <tr>\n",
       "      <th>106</th>\n",
       "      <td>0.003920</td>\n",
       "      <td>0.003882</td>\n",
       "      <td>0.004103</td>\n",
       "      <td>0.003928</td>\n",
       "      <td>0.003084</td>\n",
       "      <td>0.002301</td>\n",
       "      <td>0.000320</td>\n",
       "      <td>0.652116</td>\n",
       "      <td>0.003795</td>\n",
       "      <td>0.003848</td>\n",
       "      <td>0.003861</td>\n",
       "      <td>0.003830</td>\n",
       "      <td>0.003379</td>\n",
       "      <td>0.003067</td>\n",
       "      <td>0.002957</td>\n",
       "      <td>0.508368</td>\n",
       "      <td>0.514582</td>\n",
       "      <td>0.445414</td>\n",
       "    </tr>\n",
       "    <tr>\n",
       "      <th>107</th>\n",
       "      <td>0.003926</td>\n",
       "      <td>0.003844</td>\n",
       "      <td>0.003967</td>\n",
       "      <td>0.003822</td>\n",
       "      <td>0.007355</td>\n",
       "      <td>0.002717</td>\n",
       "      <td>-0.002982</td>\n",
       "      <td>0.591185</td>\n",
       "      <td>0.003737</td>\n",
       "      <td>0.003818</td>\n",
       "      <td>0.003859</td>\n",
       "      <td>0.003806</td>\n",
       "      <td>0.003410</td>\n",
       "      <td>0.003078</td>\n",
       "      <td>0.002964</td>\n",
       "      <td>0.507940</td>\n",
       "      <td>0.514612</td>\n",
       "      <td>0.444387</td>\n",
       "    </tr>\n",
       "    <tr>\n",
       "      <th>108</th>\n",
       "      <td>0.003819</td>\n",
       "      <td>0.003781</td>\n",
       "      <td>0.003988</td>\n",
       "      <td>0.003839</td>\n",
       "      <td>0.005603</td>\n",
       "      <td>0.002200</td>\n",
       "      <td>0.000485</td>\n",
       "      <td>0.597597</td>\n",
       "      <td>0.003728</td>\n",
       "      <td>0.003805</td>\n",
       "      <td>0.003843</td>\n",
       "      <td>0.003798</td>\n",
       "      <td>0.003439</td>\n",
       "      <td>0.003090</td>\n",
       "      <td>0.002971</td>\n",
       "      <td>0.507577</td>\n",
       "      <td>0.514554</td>\n",
       "      <td>0.443685</td>\n",
       "    </tr>\n",
       "    <tr>\n",
       "      <th>109</th>\n",
       "      <td>0.003831</td>\n",
       "      <td>0.003862</td>\n",
       "      <td>0.004017</td>\n",
       "      <td>0.003943</td>\n",
       "      <td>0.004234</td>\n",
       "      <td>0.002294</td>\n",
       "      <td>0.002923</td>\n",
       "      <td>0.634965</td>\n",
       "      <td>0.003668</td>\n",
       "      <td>0.003791</td>\n",
       "      <td>0.003877</td>\n",
       "      <td>0.003815</td>\n",
       "      <td>0.003466</td>\n",
       "      <td>0.003103</td>\n",
       "      <td>0.002979</td>\n",
       "      <td>0.507490</td>\n",
       "      <td>0.514488</td>\n",
       "      <td>0.443621</td>\n",
       "    </tr>\n",
       "  </tbody>\n",
       "</table>\n",
       "</div>"
      ],
      "text/plain": [
       "         open      high       low     close    volume  number_of_trades  \\\n",
       "100  0.004070  0.004106  0.004155  0.003988  0.023472          0.005843   \n",
       "101  0.003985  0.003938  0.003963  0.003891  0.009838          0.004210   \n",
       "102  0.003889  0.003824  0.003947  0.003825  0.009466          0.003744   \n",
       "103  0.003845  0.003851  0.004013  0.003897  0.009093          0.003796   \n",
       "104  0.003901  0.003937  0.004042  0.003881  0.008321          0.003099   \n",
       "105  0.003875  0.003858  0.004041  0.003917  0.003850          0.002126   \n",
       "106  0.003920  0.003882  0.004103  0.003928  0.003084          0.002301   \n",
       "107  0.003926  0.003844  0.003967  0.003822  0.007355          0.002717   \n",
       "108  0.003819  0.003781  0.003988  0.003839  0.005603          0.002200   \n",
       "109  0.003831  0.003862  0.004017  0.003943  0.004234          0.002294   \n",
       "\n",
       "       return       RSI  upper_band  middle_band  lower_band      MA_7  \\\n",
       "100 -0.002531  0.707136    0.004013     0.003468    0.002873  0.003654   \n",
       "101 -0.002686  0.658770    0.004063     0.003534    0.002954  0.003742   \n",
       "102 -0.001858  0.626677    0.004072     0.003597    0.003071  0.003822   \n",
       "103  0.002027  0.646516    0.004060     0.003669    0.003228  0.003894   \n",
       "104 -0.000458  0.638055    0.004029     0.003729    0.003381  0.003859   \n",
       "105  0.000995  0.648598    0.003938     0.003795    0.003606  0.003851   \n",
       "106  0.000320  0.652116    0.003795     0.003848    0.003861  0.003830   \n",
       "107 -0.002982  0.591185    0.003737     0.003818    0.003859  0.003806   \n",
       "108  0.000485  0.597597    0.003728     0.003805    0.003843  0.003798   \n",
       "109  0.002923  0.634965    0.003668     0.003791    0.003877  0.003815   \n",
       "\n",
       "        MA_25     MA_50    MA_100      MACD  MACD_signal  MACD_hist  \n",
       "100  0.003129  0.002991  0.002911  0.508652     0.512247   0.450707  \n",
       "101  0.003170  0.003005  0.002918  0.508802     0.512939   0.449665  \n",
       "102  0.003207  0.003016  0.002926  0.508672     0.513464   0.448328  \n",
       "103  0.003253  0.003029  0.002933  0.508675     0.513884   0.447496  \n",
       "104  0.003298  0.003042  0.002941  0.508557     0.514193   0.446614  \n",
       "105  0.003339  0.003054  0.002949  0.508478     0.514423   0.445977  \n",
       "106  0.003379  0.003067  0.002957  0.508368     0.514582   0.445414  \n",
       "107  0.003410  0.003078  0.002964  0.507940     0.514612   0.444387  \n",
       "108  0.003439  0.003090  0.002971  0.507577     0.514554   0.443685  \n",
       "109  0.003466  0.003103  0.002979  0.507490     0.514488   0.443621  "
      ]
     },
     "execution_count": 4,
     "metadata": {},
     "output_type": "execute_result"
    }
   ],
   "source": [
    "df.head(10)"
   ]
  },
  {
   "cell_type": "code",
   "execution_count": 14,
   "metadata": {},
   "outputs": [
    {
     "name": "stdout",
     "output_type": "stream",
     "text": [
      "Train shape: (170836, 10, 17), Test shape: (42710, 10, 17)\n"
     ]
    }
   ],
   "source": [
    "# df = df.replace([np.inf, -np.inf], np.nan)  # Replace inf with NaN\n",
    "# df = df.fillna(df.mean())\n",
    "\n",
    "X = df.drop(columns=[\"return\"]).values  # Features\n",
    "y = df[\"return\"].values  # Target variable\n",
    "\n",
    "\n",
    "# Reshape the data into sequences (timesteps)\n",
    "timesteps = 10  # Number of timesteps for the RNN\n",
    "X_sequences = []\n",
    "y_sequences = []\n",
    "\n",
    "for i in range(len(X) - timesteps):\n",
    "    X_sequences.append(X[i : i + timesteps])\n",
    "    y_sequences.append(y[i + timesteps])\n",
    "\n",
    "X_sequences = np.array(X_sequences)\n",
    "y_sequences = np.array(y_sequences)\n",
    "\n",
    "split_index = int(len(X_sequences) * 0.8)  # 80% train, 20% test\n",
    "X_train, X_test = X_sequences[:split_index], X_sequences[split_index:]\n",
    "y_train, y_test = y_sequences[:split_index], y_sequences[split_index:]\n",
    "\n",
    "print(f\"Train shape: {X_train.shape}, Test shape: {X_test.shape}\")"
   ]
  },
  {
   "cell_type": "code",
   "execution_count": 15,
   "metadata": {},
   "outputs": [
    {
     "data": {
      "text/plain": [
       "(170836, 10, 17)"
      ]
     },
     "execution_count": 15,
     "metadata": {},
     "output_type": "execute_result"
    }
   ],
   "source": [
    "X_train.shape"
   ]
  },
  {
   "cell_type": "code",
   "execution_count": 16,
   "metadata": {},
   "outputs": [
    {
     "data": {
      "text/plain": [
       "(170836,)"
      ]
     },
     "execution_count": 16,
     "metadata": {},
     "output_type": "execute_result"
    }
   ],
   "source": [
    "y_train.shape"
   ]
  },
  {
   "cell_type": "code",
   "execution_count": 8,
   "metadata": {},
   "outputs": [
    {
     "name": "stdout",
     "output_type": "stream",
     "text": [
      "False False\n",
      "False False\n"
     ]
    }
   ],
   "source": [
    "print(np.isnan(X).any(), np.isnan(y).any())  # Check for NaN\n",
    "print(np.isinf(X).any(), np.isinf(y).any())"
   ]
  },
  {
   "cell_type": "code",
   "execution_count": null,
   "metadata": {},
   "outputs": [],
   "source": [
    "# dataset = tf.data.Dataset.from_tensor_slices((X1, y))\n",
    "# # Calculate sizes for train and validation sets\n",
    "# dataset_size = len(X1)  # Total number of samples in your dataset\n",
    "# train_size = int(0.8 * dataset_size)\n",
    "\n",
    "# # Shuffle the dataset if needed\n",
    "# dataset = dataset.shuffle(buffer_size=dataset_size)\n",
    "\n",
    "# # Split the dataset\n",
    "# train_dataset = dataset.take(train_size)       # Take the first 80%\n",
    "# val_dataset = dataset.skip(train_size)         # Skip the first 80%, take the remaining 20%\n",
    "\n",
    "# # Batch both datasets if needed\n",
    "# batch_size = 32\n",
    "# train_dataset = train_dataset.batch(batch_size)\n",
    "# val_dataset = val_dataset.batch(batch_size)"
   ]
  },
  {
   "cell_type": "code",
   "execution_count": 17,
   "metadata": {},
   "outputs": [
    {
     "name": "stderr",
     "output_type": "stream",
     "text": [
      "/Users/elouan/anaconda3/envs/Predicting_crypto/lib/python3.11/site-packages/keras/src/layers/rnn/rnn.py:200: UserWarning: Do not pass an `input_shape`/`input_dim` argument to a layer. When using Sequential models, prefer using an `Input(shape)` object as the first layer in the model instead.\n",
      "  super().__init__(**kwargs)\n"
     ]
    }
   ],
   "source": [
    "tf.random.set_seed(1234)  # for consistent results\n",
    "\n",
    "# Simplified GRU Model\n",
    "model1 = Sequential(\n",
    "    [\n",
    "        # Single GRU Layer\n",
    "        GRU(64, input_shape=(10, X_sequences.shape[2]), name=\"GRU_Layer\"),\n",
    "        Dropout(0.2, name=\"Dropout_Layer\"),  # Regularization\n",
    "        # Fully Connected Dense Layer\n",
    "        Dense(32, activation=\"relu\", name=\"Dense_Layer\"),  # Hidden dense layer\n",
    "        # Output Layer for Binary Classification\n",
    "        Dense(1, activation=\"sigmoid\", name=\"Output_Layer\"),  # Predict binary output\n",
    "    ]\n",
    ")"
   ]
  },
  {
   "cell_type": "code",
   "execution_count": 18,
   "metadata": {},
   "outputs": [],
   "source": [
    "tf.random.set_seed(1234)  # for consistent results\n",
    "\n",
    "model2 = Sequential(\n",
    "    [\n",
    "        LSTM(64, return_sequences=True, input_shape=(10, X_sequences.shape[2])),\n",
    "        Dropout(0.2),\n",
    "        LSTM(32, return_sequences=False),\n",
    "        Dropout(0.2),\n",
    "        Dense(16, activation=\"relu\"),\n",
    "        Dense(1, activation=\"linear\"),  # Output = return prediction\n",
    "    ]\n",
    ")"
   ]
  },
  {
   "cell_type": "code",
   "execution_count": 19,
   "metadata": {},
   "outputs": [
    {
     "data": {
      "text/html": [
       "<pre style=\"white-space:pre;overflow-x:auto;line-height:normal;font-family:Menlo,'DejaVu Sans Mono',consolas,'Courier New',monospace\"><span style=\"font-weight: bold\">Model: \"sequential_1\"</span>\n",
       "</pre>\n"
      ],
      "text/plain": [
       "\u001b[1mModel: \"sequential_1\"\u001b[0m\n"
      ]
     },
     "metadata": {},
     "output_type": "display_data"
    },
    {
     "data": {
      "text/html": [
       "<pre style=\"white-space:pre;overflow-x:auto;line-height:normal;font-family:Menlo,'DejaVu Sans Mono',consolas,'Courier New',monospace\">┏━━━━━━━━━━━━━━━━━━━━━━━━━━━━━━━━━┳━━━━━━━━━━━━━━━━━━━━━━━━┳━━━━━━━━━━━━━━━┓\n",
       "┃<span style=\"font-weight: bold\"> Layer (type)                    </span>┃<span style=\"font-weight: bold\"> Output Shape           </span>┃<span style=\"font-weight: bold\">       Param # </span>┃\n",
       "┡━━━━━━━━━━━━━━━━━━━━━━━━━━━━━━━━━╇━━━━━━━━━━━━━━━━━━━━━━━━╇━━━━━━━━━━━━━━━┩\n",
       "│ lstm (<span style=\"color: #0087ff; text-decoration-color: #0087ff\">LSTM</span>)                     │ (<span style=\"color: #00d7ff; text-decoration-color: #00d7ff\">None</span>, <span style=\"color: #00af00; text-decoration-color: #00af00\">10</span>, <span style=\"color: #00af00; text-decoration-color: #00af00\">64</span>)         │        <span style=\"color: #00af00; text-decoration-color: #00af00\">20,992</span> │\n",
       "├─────────────────────────────────┼────────────────────────┼───────────────┤\n",
       "│ dropout (<span style=\"color: #0087ff; text-decoration-color: #0087ff\">Dropout</span>)               │ (<span style=\"color: #00d7ff; text-decoration-color: #00d7ff\">None</span>, <span style=\"color: #00af00; text-decoration-color: #00af00\">10</span>, <span style=\"color: #00af00; text-decoration-color: #00af00\">64</span>)         │             <span style=\"color: #00af00; text-decoration-color: #00af00\">0</span> │\n",
       "├─────────────────────────────────┼────────────────────────┼───────────────┤\n",
       "│ lstm_1 (<span style=\"color: #0087ff; text-decoration-color: #0087ff\">LSTM</span>)                   │ (<span style=\"color: #00d7ff; text-decoration-color: #00d7ff\">None</span>, <span style=\"color: #00af00; text-decoration-color: #00af00\">32</span>)             │        <span style=\"color: #00af00; text-decoration-color: #00af00\">12,416</span> │\n",
       "├─────────────────────────────────┼────────────────────────┼───────────────┤\n",
       "│ dropout_1 (<span style=\"color: #0087ff; text-decoration-color: #0087ff\">Dropout</span>)             │ (<span style=\"color: #00d7ff; text-decoration-color: #00d7ff\">None</span>, <span style=\"color: #00af00; text-decoration-color: #00af00\">32</span>)             │             <span style=\"color: #00af00; text-decoration-color: #00af00\">0</span> │\n",
       "├─────────────────────────────────┼────────────────────────┼───────────────┤\n",
       "│ dense (<span style=\"color: #0087ff; text-decoration-color: #0087ff\">Dense</span>)                   │ (<span style=\"color: #00d7ff; text-decoration-color: #00d7ff\">None</span>, <span style=\"color: #00af00; text-decoration-color: #00af00\">16</span>)             │           <span style=\"color: #00af00; text-decoration-color: #00af00\">528</span> │\n",
       "├─────────────────────────────────┼────────────────────────┼───────────────┤\n",
       "│ dense_1 (<span style=\"color: #0087ff; text-decoration-color: #0087ff\">Dense</span>)                 │ (<span style=\"color: #00d7ff; text-decoration-color: #00d7ff\">None</span>, <span style=\"color: #00af00; text-decoration-color: #00af00\">1</span>)              │            <span style=\"color: #00af00; text-decoration-color: #00af00\">17</span> │\n",
       "└─────────────────────────────────┴────────────────────────┴───────────────┘\n",
       "</pre>\n"
      ],
      "text/plain": [
       "┏━━━━━━━━━━━━━━━━━━━━━━━━━━━━━━━━━┳━━━━━━━━━━━━━━━━━━━━━━━━┳━━━━━━━━━━━━━━━┓\n",
       "┃\u001b[1m \u001b[0m\u001b[1mLayer (type)                   \u001b[0m\u001b[1m \u001b[0m┃\u001b[1m \u001b[0m\u001b[1mOutput Shape          \u001b[0m\u001b[1m \u001b[0m┃\u001b[1m \u001b[0m\u001b[1m      Param #\u001b[0m\u001b[1m \u001b[0m┃\n",
       "┡━━━━━━━━━━━━━━━━━━━━━━━━━━━━━━━━━╇━━━━━━━━━━━━━━━━━━━━━━━━╇━━━━━━━━━━━━━━━┩\n",
       "│ lstm (\u001b[38;5;33mLSTM\u001b[0m)                     │ (\u001b[38;5;45mNone\u001b[0m, \u001b[38;5;34m10\u001b[0m, \u001b[38;5;34m64\u001b[0m)         │        \u001b[38;5;34m20,992\u001b[0m │\n",
       "├─────────────────────────────────┼────────────────────────┼───────────────┤\n",
       "│ dropout (\u001b[38;5;33mDropout\u001b[0m)               │ (\u001b[38;5;45mNone\u001b[0m, \u001b[38;5;34m10\u001b[0m, \u001b[38;5;34m64\u001b[0m)         │             \u001b[38;5;34m0\u001b[0m │\n",
       "├─────────────────────────────────┼────────────────────────┼───────────────┤\n",
       "│ lstm_1 (\u001b[38;5;33mLSTM\u001b[0m)                   │ (\u001b[38;5;45mNone\u001b[0m, \u001b[38;5;34m32\u001b[0m)             │        \u001b[38;5;34m12,416\u001b[0m │\n",
       "├─────────────────────────────────┼────────────────────────┼───────────────┤\n",
       "│ dropout_1 (\u001b[38;5;33mDropout\u001b[0m)             │ (\u001b[38;5;45mNone\u001b[0m, \u001b[38;5;34m32\u001b[0m)             │             \u001b[38;5;34m0\u001b[0m │\n",
       "├─────────────────────────────────┼────────────────────────┼───────────────┤\n",
       "│ dense (\u001b[38;5;33mDense\u001b[0m)                   │ (\u001b[38;5;45mNone\u001b[0m, \u001b[38;5;34m16\u001b[0m)             │           \u001b[38;5;34m528\u001b[0m │\n",
       "├─────────────────────────────────┼────────────────────────┼───────────────┤\n",
       "│ dense_1 (\u001b[38;5;33mDense\u001b[0m)                 │ (\u001b[38;5;45mNone\u001b[0m, \u001b[38;5;34m1\u001b[0m)              │            \u001b[38;5;34m17\u001b[0m │\n",
       "└─────────────────────────────────┴────────────────────────┴───────────────┘\n"
      ]
     },
     "metadata": {},
     "output_type": "display_data"
    },
    {
     "data": {
      "text/html": [
       "<pre style=\"white-space:pre;overflow-x:auto;line-height:normal;font-family:Menlo,'DejaVu Sans Mono',consolas,'Courier New',monospace\"><span style=\"font-weight: bold\"> Total params: </span><span style=\"color: #00af00; text-decoration-color: #00af00\">33,953</span> (132.63 KB)\n",
       "</pre>\n"
      ],
      "text/plain": [
       "\u001b[1m Total params: \u001b[0m\u001b[38;5;34m33,953\u001b[0m (132.63 KB)\n"
      ]
     },
     "metadata": {},
     "output_type": "display_data"
    },
    {
     "data": {
      "text/html": [
       "<pre style=\"white-space:pre;overflow-x:auto;line-height:normal;font-family:Menlo,'DejaVu Sans Mono',consolas,'Courier New',monospace\"><span style=\"font-weight: bold\"> Trainable params: </span><span style=\"color: #00af00; text-decoration-color: #00af00\">33,953</span> (132.63 KB)\n",
       "</pre>\n"
      ],
      "text/plain": [
       "\u001b[1m Trainable params: \u001b[0m\u001b[38;5;34m33,953\u001b[0m (132.63 KB)\n"
      ]
     },
     "metadata": {},
     "output_type": "display_data"
    },
    {
     "data": {
      "text/html": [
       "<pre style=\"white-space:pre;overflow-x:auto;line-height:normal;font-family:Menlo,'DejaVu Sans Mono',consolas,'Courier New',monospace\"><span style=\"font-weight: bold\"> Non-trainable params: </span><span style=\"color: #00af00; text-decoration-color: #00af00\">0</span> (0.00 B)\n",
       "</pre>\n"
      ],
      "text/plain": [
       "\u001b[1m Non-trainable params: \u001b[0m\u001b[38;5;34m0\u001b[0m (0.00 B)\n"
      ]
     },
     "metadata": {},
     "output_type": "display_data"
    }
   ],
   "source": [
    "model2.summary()"
   ]
  },
  {
   "cell_type": "code",
   "execution_count": null,
   "metadata": {},
   "outputs": [],
   "source": [
    "# model = tf.keras.models.load_model(\"../models/\")"
   ]
  },
  {
   "cell_type": "code",
   "execution_count": null,
   "metadata": {},
   "outputs": [],
   "source": [
    "# Compile the model\n",
    "model2.compile(\n",
    "    loss=tf.keras.losses.MeanAbsoluteError(),  # For regression\n",
    "    # loss=tf.keras.losses.BinaryCrossentropy(from_logits=False),  # Binary classification loss\n",
    "    optimizer=tf.keras.optimizers.Adam(learning_rate=0.001),  # Adam optimizer\n",
    "    metrics=[\"mae\"],  # Track accuracy\n",
    ")\n",
    "\n",
    "# Learning rate reduction callback\n",
    "reduce_lr = ReduceLROnPlateau(\n",
    "    monitor=\"val_loss\",\n",
    "    factor=0.1,  # Reduce LR by 90% instead of 50%\n",
    "    patience=3,\n",
    "    min_lr=1e-6,  # Set a minimum learning rate\n",
    ")\n",
    "\n",
    "# Model checkpoint callback\n",
    "checkpoint = ModelCheckpoint(\n",
    "    filepath=\"../models/RNN_LTSM_1.keras\",  # Save the model to this path\n",
    "    # monitor='val_accuracy',                 # Monitor validation accuracy\n",
    "    # mode='max',\n",
    "    monitor=\"val_loss\",  # Track loss for regression\n",
    "    mode=\"min\",  # Lower loss is better                             # Save when accuracy is maximized\n",
    "    save_best_only=True,  # Save only if the model improves\n",
    "    verbose=1,  # Display a message when saving\n",
    ")\n",
    "early_stop = EarlyStopping(monitor=\"val_loss\", patience=5, restore_best_weights=True)\n",
    "\n",
    "# Train the model\n",
    "history = model2.fit(\n",
    "    X_train,\n",
    "    y_train,\n",
    "    validation_data=(X_test, y_test),\n",
    "    epochs=100,  # Increase epochs for better training\n",
    "    batch_size=32,\n",
    "    callbacks=[reduce_lr, checkpoint, early_stop],  # Add early stopping\n",
    ")"
   ]
  },
  {
   "cell_type": "code",
   "execution_count": null,
   "metadata": {},
   "outputs": [],
   "source": [
    "from xgboost import XGBClassifier\n",
    "\n",
    "xgb = XGBClassifier()\n",
    "xgb.fit(X_train.reshape(X_train.shape[0], -1), y_train)\n",
    "print(xgb.score(X_test.reshape(X_test.shape[0], -1), y_test))"
   ]
  }
 ],
 "metadata": {
  "kernelspec": {
   "display_name": "challenge_ENS_env_CFM",
   "language": "python",
   "name": "python3"
  },
  "language_info": {
   "codemirror_mode": {
    "name": "ipython",
    "version": 3
   },
   "file_extension": ".py",
   "mimetype": "text/x-python",
   "name": "python",
   "nbconvert_exporter": "python",
   "pygments_lexer": "ipython3",
   "version": "3.11.10"
  }
 },
 "nbformat": 4,
 "nbformat_minor": 2
}
