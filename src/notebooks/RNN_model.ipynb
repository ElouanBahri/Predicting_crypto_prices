{
 "cells": [
  {
   "cell_type": "code",
   "execution_count": 35,
   "metadata": {},
   "outputs": [],
   "source": [
    "import pandas as pd \n",
    "import numpy as np \n",
    "import tensorflow as tf\n",
    "\n",
    "from tensorflow.keras.callbacks import ReduceLROnPlateau, ModelCheckpoint\n",
    "from tensorflow.keras.models import Sequential\n",
    "from tensorflow.keras.layers import Dense, GRU, Dropout, Bidirectional\n",
    "from tensorflow.keras.activations import linear, relu, sigmoid\n",
    "from modules.utils import filter_data_by_year_month, prep_for_RNN"
   ]
  },
  {
   "cell_type": "code",
   "execution_count": 36,
   "metadata": {},
   "outputs": [],
   "source": [
    "X = pd.read_csv('/Users/elouan/Repo Github ElouanBahri/Predicting_crypto_prices/Historical Prices for BTCUSDT')\n"
   ]
  },
  {
   "cell_type": "code",
   "execution_count": 37,
   "metadata": {},
   "outputs": [],
   "source": [
    "YEARS = [2019,2021,2022,2023,2024]\n",
    "\n",
    "Data = filter_data_by_year_month(X, YEARS)\n",
    "\n",
    "X1, y = prep_for_RNN(Data, \"close\", 3)\n",
    "\n"
   ]
  },
  {
   "cell_type": "code",
   "execution_count": 6,
   "metadata": {},
   "outputs": [
    {
     "data": {
      "text/plain": [
       "array([[3701.23    , 3703.72    , 3689.88    , 3697.31    ,  190.974095],\n",
       "       [3697.91    , 3698.75    , 3690.56    , 3694.2     ,  131.742721],\n",
       "       [3693.96    , 3705.      , 3693.      , 3702.39    ,  171.877714]])"
      ]
     },
     "execution_count": 6,
     "metadata": {},
     "output_type": "execute_result"
    }
   ],
   "source": [
    "X1[0]"
   ]
  },
  {
   "cell_type": "code",
   "execution_count": 5,
   "metadata": {},
   "outputs": [
    {
     "data": {
      "text/plain": [
       "3700.31"
      ]
     },
     "execution_count": 5,
     "metadata": {},
     "output_type": "execute_result"
    }
   ],
   "source": [
    "y[0]"
   ]
  },
  {
   "cell_type": "code",
   "execution_count": 11,
   "metadata": {},
   "outputs": [
    {
     "name": "stdout",
     "output_type": "stream",
     "text": [
      "False\n",
      "False\n"
     ]
    }
   ],
   "source": [
    "print(np.any(np.isnan(X1)))  # Check features for NaNs\n",
    "print(np.any(np.isnan(y)))"
   ]
  },
  {
   "cell_type": "code",
   "execution_count": 38,
   "metadata": {},
   "outputs": [],
   "source": [
    "dataset = tf.data.Dataset.from_tensor_slices((X1, y))"
   ]
  },
  {
   "cell_type": "code",
   "execution_count": 39,
   "metadata": {},
   "outputs": [],
   "source": [
    "# Calculate sizes for train and validation sets\n",
    "dataset_size = len(X1)  # Total number of samples in your dataset\n",
    "train_size = int(0.8 * dataset_size)\n",
    "\n",
    "# Shuffle the dataset if needed\n",
    "dataset = dataset.shuffle(buffer_size=dataset_size)\n",
    "\n",
    "# Split the dataset\n",
    "train_dataset = dataset.take(train_size)       # Take the first 80%\n",
    "val_dataset = dataset.skip(train_size)         # Skip the first 80%, take the remaining 20%\n",
    "\n",
    "# Batch both datasets if needed\n",
    "batch_size = 32\n",
    "train_dataset = train_dataset.batch(batch_size)\n",
    "val_dataset = val_dataset.batch(batch_size)"
   ]
  },
  {
   "cell_type": "code",
   "execution_count": 40,
   "metadata": {},
   "outputs": [
    {
     "name": "stdout",
     "output_type": "stream",
     "text": [
      "Batch input shape: (3, 5)\n",
      "Batch target shape: ()\n"
     ]
    },
    {
     "name": "stderr",
     "output_type": "stream",
     "text": [
      "2025-01-22 14:09:25.859923: I tensorflow/core/framework/local_rendezvous.cc:405] Local rendezvous is aborting with status: OUT_OF_RANGE: End of sequence\n"
     ]
    }
   ],
   "source": [
    "for X_batch, y_batch in dataset.take(1):\n",
    "    print(\"Batch input shape:\", X_batch.shape)  # Expected: (batch_size, 3, 4)\n",
    "    print(\"Batch target shape:\", y_batch.shape)"
   ]
  },
  {
   "cell_type": "code",
   "execution_count": 43,
   "metadata": {},
   "outputs": [],
   "source": [
    "tf.random.set_seed(1234) # for consistent results\n",
    "model = Sequential([\n",
    "    GRU(64, input_shape=(3, 5), return_sequences=False),\n",
    "    Dropout(0.2),\n",
    "    Dense(32, activation='relu'),\n",
    "    Dense(1, activation='linear')  # Single output for regression\n",
    "])"
   ]
  },
  {
   "cell_type": "code",
   "execution_count": 23,
   "metadata": {},
   "outputs": [
    {
     "data": {
      "text/html": [
       "<pre style=\"white-space:pre;overflow-x:auto;line-height:normal;font-family:Menlo,'DejaVu Sans Mono',consolas,'Courier New',monospace\"><span style=\"font-weight: bold\">Model: \"simplified_model\"</span>\n",
       "</pre>\n"
      ],
      "text/plain": [
       "\u001b[1mModel: \"simplified_model\"\u001b[0m\n"
      ]
     },
     "metadata": {},
     "output_type": "display_data"
    },
    {
     "data": {
      "text/html": [
       "<pre style=\"white-space:pre;overflow-x:auto;line-height:normal;font-family:Menlo,'DejaVu Sans Mono',consolas,'Courier New',monospace\">┏━━━━━━━━━━━━━━━━━━━━━━━━━━━━━━━━━┳━━━━━━━━━━━━━━━━━━━━━━━━┳━━━━━━━━━━━━━━━┓\n",
       "┃<span style=\"font-weight: bold\"> Layer (type)                    </span>┃<span style=\"font-weight: bold\"> Output Shape           </span>┃<span style=\"font-weight: bold\">       Param # </span>┃\n",
       "┡━━━━━━━━━━━━━━━━━━━━━━━━━━━━━━━━━╇━━━━━━━━━━━━━━━━━━━━━━━━╇━━━━━━━━━━━━━━━┩\n",
       "│ gru_4 (<span style=\"color: #0087ff; text-decoration-color: #0087ff\">GRU</span>)                     │ (<span style=\"color: #00d7ff; text-decoration-color: #00d7ff\">None</span>, <span style=\"color: #00af00; text-decoration-color: #00af00\">3</span>, <span style=\"color: #00af00; text-decoration-color: #00af00\">64</span>)          │        <span style=\"color: #00af00; text-decoration-color: #00af00\">13,440</span> │\n",
       "├─────────────────────────────────┼────────────────────────┼───────────────┤\n",
       "│ dropout_4 (<span style=\"color: #0087ff; text-decoration-color: #0087ff\">Dropout</span>)             │ (<span style=\"color: #00d7ff; text-decoration-color: #00d7ff\">None</span>, <span style=\"color: #00af00; text-decoration-color: #00af00\">3</span>, <span style=\"color: #00af00; text-decoration-color: #00af00\">64</span>)          │             <span style=\"color: #00af00; text-decoration-color: #00af00\">0</span> │\n",
       "├─────────────────────────────────┼────────────────────────┼───────────────┤\n",
       "│ gru_5 (<span style=\"color: #0087ff; text-decoration-color: #0087ff\">GRU</span>)                     │ (<span style=\"color: #00d7ff; text-decoration-color: #00d7ff\">None</span>, <span style=\"color: #00af00; text-decoration-color: #00af00\">32</span>)             │         <span style=\"color: #00af00; text-decoration-color: #00af00\">9,408</span> │\n",
       "├─────────────────────────────────┼────────────────────────┼───────────────┤\n",
       "│ dropout_5 (<span style=\"color: #0087ff; text-decoration-color: #0087ff\">Dropout</span>)             │ (<span style=\"color: #00d7ff; text-decoration-color: #00d7ff\">None</span>, <span style=\"color: #00af00; text-decoration-color: #00af00\">32</span>)             │             <span style=\"color: #00af00; text-decoration-color: #00af00\">0</span> │\n",
       "├─────────────────────────────────┼────────────────────────┼───────────────┤\n",
       "│ Dense_Layer (<span style=\"color: #0087ff; text-decoration-color: #0087ff\">Dense</span>)             │ (<span style=\"color: #00d7ff; text-decoration-color: #00d7ff\">None</span>, <span style=\"color: #00af00; text-decoration-color: #00af00\">32</span>)             │         <span style=\"color: #00af00; text-decoration-color: #00af00\">1,056</span> │\n",
       "├─────────────────────────────────┼────────────────────────┼───────────────┤\n",
       "│ Output_Layer (<span style=\"color: #0087ff; text-decoration-color: #0087ff\">Dense</span>)            │ (<span style=\"color: #00d7ff; text-decoration-color: #00d7ff\">None</span>, <span style=\"color: #00af00; text-decoration-color: #00af00\">1</span>)              │            <span style=\"color: #00af00; text-decoration-color: #00af00\">33</span> │\n",
       "└─────────────────────────────────┴────────────────────────┴───────────────┘\n",
       "</pre>\n"
      ],
      "text/plain": [
       "┏━━━━━━━━━━━━━━━━━━━━━━━━━━━━━━━━━┳━━━━━━━━━━━━━━━━━━━━━━━━┳━━━━━━━━━━━━━━━┓\n",
       "┃\u001b[1m \u001b[0m\u001b[1mLayer (type)                   \u001b[0m\u001b[1m \u001b[0m┃\u001b[1m \u001b[0m\u001b[1mOutput Shape          \u001b[0m\u001b[1m \u001b[0m┃\u001b[1m \u001b[0m\u001b[1m      Param #\u001b[0m\u001b[1m \u001b[0m┃\n",
       "┡━━━━━━━━━━━━━━━━━━━━━━━━━━━━━━━━━╇━━━━━━━━━━━━━━━━━━━━━━━━╇━━━━━━━━━━━━━━━┩\n",
       "│ gru_4 (\u001b[38;5;33mGRU\u001b[0m)                     │ (\u001b[38;5;45mNone\u001b[0m, \u001b[38;5;34m3\u001b[0m, \u001b[38;5;34m64\u001b[0m)          │        \u001b[38;5;34m13,440\u001b[0m │\n",
       "├─────────────────────────────────┼────────────────────────┼───────────────┤\n",
       "│ dropout_4 (\u001b[38;5;33mDropout\u001b[0m)             │ (\u001b[38;5;45mNone\u001b[0m, \u001b[38;5;34m3\u001b[0m, \u001b[38;5;34m64\u001b[0m)          │             \u001b[38;5;34m0\u001b[0m │\n",
       "├─────────────────────────────────┼────────────────────────┼───────────────┤\n",
       "│ gru_5 (\u001b[38;5;33mGRU\u001b[0m)                     │ (\u001b[38;5;45mNone\u001b[0m, \u001b[38;5;34m32\u001b[0m)             │         \u001b[38;5;34m9,408\u001b[0m │\n",
       "├─────────────────────────────────┼────────────────────────┼───────────────┤\n",
       "│ dropout_5 (\u001b[38;5;33mDropout\u001b[0m)             │ (\u001b[38;5;45mNone\u001b[0m, \u001b[38;5;34m32\u001b[0m)             │             \u001b[38;5;34m0\u001b[0m │\n",
       "├─────────────────────────────────┼────────────────────────┼───────────────┤\n",
       "│ Dense_Layer (\u001b[38;5;33mDense\u001b[0m)             │ (\u001b[38;5;45mNone\u001b[0m, \u001b[38;5;34m32\u001b[0m)             │         \u001b[38;5;34m1,056\u001b[0m │\n",
       "├─────────────────────────────────┼────────────────────────┼───────────────┤\n",
       "│ Output_Layer (\u001b[38;5;33mDense\u001b[0m)            │ (\u001b[38;5;45mNone\u001b[0m, \u001b[38;5;34m1\u001b[0m)              │            \u001b[38;5;34m33\u001b[0m │\n",
       "└─────────────────────────────────┴────────────────────────┴───────────────┘\n"
      ]
     },
     "metadata": {},
     "output_type": "display_data"
    },
    {
     "data": {
      "text/html": [
       "<pre style=\"white-space:pre;overflow-x:auto;line-height:normal;font-family:Menlo,'DejaVu Sans Mono',consolas,'Courier New',monospace\"><span style=\"font-weight: bold\"> Total params: </span><span style=\"color: #00af00; text-decoration-color: #00af00\">23,937</span> (93.50 KB)\n",
       "</pre>\n"
      ],
      "text/plain": [
       "\u001b[1m Total params: \u001b[0m\u001b[38;5;34m23,937\u001b[0m (93.50 KB)\n"
      ]
     },
     "metadata": {},
     "output_type": "display_data"
    },
    {
     "data": {
      "text/html": [
       "<pre style=\"white-space:pre;overflow-x:auto;line-height:normal;font-family:Menlo,'DejaVu Sans Mono',consolas,'Courier New',monospace\"><span style=\"font-weight: bold\"> Trainable params: </span><span style=\"color: #00af00; text-decoration-color: #00af00\">23,937</span> (93.50 KB)\n",
       "</pre>\n"
      ],
      "text/plain": [
       "\u001b[1m Trainable params: \u001b[0m\u001b[38;5;34m23,937\u001b[0m (93.50 KB)\n"
      ]
     },
     "metadata": {},
     "output_type": "display_data"
    },
    {
     "data": {
      "text/html": [
       "<pre style=\"white-space:pre;overflow-x:auto;line-height:normal;font-family:Menlo,'DejaVu Sans Mono',consolas,'Courier New',monospace\"><span style=\"font-weight: bold\"> Non-trainable params: </span><span style=\"color: #00af00; text-decoration-color: #00af00\">0</span> (0.00 B)\n",
       "</pre>\n"
      ],
      "text/plain": [
       "\u001b[1m Non-trainable params: \u001b[0m\u001b[38;5;34m0\u001b[0m (0.00 B)\n"
      ]
     },
     "metadata": {},
     "output_type": "display_data"
    }
   ],
   "source": [
    "model.summary()"
   ]
  },
  {
   "cell_type": "code",
   "execution_count": null,
   "metadata": {},
   "outputs": [],
   "source": [
    "model = tf.keras.models.load_model(\"../models/\")"
   ]
  },
  {
   "cell_type": "code",
   "execution_count": 44,
   "metadata": {},
   "outputs": [
    {
     "name": "stdout",
     "output_type": "stream",
     "text": [
      "Epoch 1/50\n"
     ]
    },
    {
     "name": "stdout",
     "output_type": "stream",
     "text": [
      "\u001b[1m4378/4378\u001b[0m \u001b[32m━━━━━━━━━━━━━━━━━━━━\u001b[0m\u001b[37m\u001b[0m \u001b[1m0s\u001b[0m 2ms/step - loss: 815382016.0000 - mae: 22525.7578\n",
      "Epoch 1: val_mae improved from inf to 18114.63672, saving model to ../models/DNN_model_1.keras\n",
      "\u001b[1m4378/4378\u001b[0m \u001b[32m━━━━━━━━━━━━━━━━━━━━\u001b[0m\u001b[37m\u001b[0m \u001b[1m11s\u001b[0m 2ms/step - loss: 815329920.0000 - mae: 22525.0566 - val_loss: 486960032.0000 - val_mae: 18114.6367 - learning_rate: 0.0100\n",
      "Epoch 2/50\n",
      "\u001b[1m4378/4378\u001b[0m \u001b[32m━━━━━━━━━━━━━━━━━━━━\u001b[0m\u001b[37m\u001b[0m \u001b[1m0s\u001b[0m 2ms/step - loss: 494783072.0000 - mae: 18226.8184\n",
      "Epoch 2: val_mae improved from 18114.63672 to 18067.81055, saving model to ../models/DNN_model_1.keras\n",
      "\u001b[1m4378/4378\u001b[0m \u001b[32m━━━━━━━━━━━━━━━━━━━━\u001b[0m\u001b[37m\u001b[0m \u001b[1m9s\u001b[0m 2ms/step - loss: 494783328.0000 - mae: 18226.8242 - val_loss: 480259680.0000 - val_mae: 18067.8105 - learning_rate: 0.0100\n",
      "Epoch 3/50\n",
      "\u001b[1m4370/4378\u001b[0m \u001b[32m━━━━━━━━━━━━━━━━━━━\u001b[0m\u001b[37m━\u001b[0m \u001b[1m0s\u001b[0m 2ms/step - loss: 495453632.0000 - mae: 18240.3691\n",
      "Epoch 3: val_mae improved from 18067.81055 to 18065.70703, saving model to ../models/DNN_model_1.keras\n",
      "\u001b[1m4378/4378\u001b[0m \u001b[32m━━━━━━━━━━━━━━━━━━━━\u001b[0m\u001b[37m\u001b[0m \u001b[1m10s\u001b[0m 2ms/step - loss: 495447680.0000 - mae: 18240.2969 - val_loss: 481753088.0000 - val_mae: 18065.7070 - learning_rate: 0.0100\n",
      "Epoch 4/50\n",
      "\u001b[1m4378/4378\u001b[0m \u001b[32m━━━━━━━━━━━━━━━━━━━━\u001b[0m\u001b[37m\u001b[0m \u001b[1m0s\u001b[0m 2ms/step - loss: 493867712.0000 - mae: 18250.9941\n",
      "Epoch 4: val_mae improved from 18065.70703 to 17960.70312, saving model to ../models/DNN_model_1.keras\n",
      "\u001b[1m4378/4378\u001b[0m \u001b[32m━━━━━━━━━━━━━━━━━━━━\u001b[0m\u001b[37m\u001b[0m \u001b[1m9s\u001b[0m 2ms/step - loss: 493867552.0000 - mae: 18250.9863 - val_loss: 474552800.0000 - val_mae: 17960.7031 - learning_rate: 0.0100\n",
      "Epoch 5/50\n",
      "\u001b[1m4378/4378\u001b[0m \u001b[32m━━━━━━━━━━━━━━━━━━━━\u001b[0m\u001b[37m\u001b[0m \u001b[1m0s\u001b[0m 2ms/step - loss: 489973952.0000 - mae: 18175.3535\n",
      "Epoch 5: val_mae did not improve from 17960.70312\n",
      "\u001b[1m4378/4378\u001b[0m \u001b[32m━━━━━━━━━━━━━━━━━━━━\u001b[0m\u001b[37m\u001b[0m \u001b[1m9s\u001b[0m 2ms/step - loss: 489974112.0000 - mae: 18175.3516 - val_loss: 489190656.0000 - val_mae: 18120.7441 - learning_rate: 0.0100\n",
      "Epoch 6/50\n",
      "\u001b[1m4378/4378\u001b[0m \u001b[32m━━━━━━━━━━━━━━━━━━━━\u001b[0m\u001b[37m\u001b[0m \u001b[1m0s\u001b[0m 2ms/step - loss: 491781920.0000 - mae: 18213.5332\n",
      "Epoch 6: val_mae did not improve from 17960.70312\n",
      "\u001b[1m4378/4378\u001b[0m \u001b[32m━━━━━━━━━━━━━━━━━━━━\u001b[0m\u001b[37m\u001b[0m \u001b[1m9s\u001b[0m 2ms/step - loss: 491781568.0000 - mae: 18213.5254 - val_loss: 479982912.0000 - val_mae: 18063.4219 - learning_rate: 0.0100\n",
      "Epoch 7/50\n",
      "\u001b[1m4378/4378\u001b[0m \u001b[32m━━━━━━━━━━━━━━━━━━━━\u001b[0m\u001b[37m\u001b[0m \u001b[1m0s\u001b[0m 2ms/step - loss: 489592160.0000 - mae: 18142.1406\n",
      "Epoch 7: val_mae did not improve from 17960.70312\n",
      "\u001b[1m4378/4378\u001b[0m \u001b[32m━━━━━━━━━━━━━━━━━━━━\u001b[0m\u001b[37m\u001b[0m \u001b[1m9s\u001b[0m 2ms/step - loss: 489592736.0000 - mae: 18142.1543 - val_loss: 487333888.0000 - val_mae: 18168.2930 - learning_rate: 0.0100\n",
      "Epoch 8/50\n",
      "\u001b[1m4378/4378\u001b[0m \u001b[32m━━━━━━━━━━━━━━━━━━━━\u001b[0m\u001b[37m\u001b[0m \u001b[1m0s\u001b[0m 2ms/step - loss: 489616640.0000 - mae: 18171.4316\n",
      "Epoch 8: val_mae did not improve from 17960.70312\n",
      "\u001b[1m4378/4378\u001b[0m \u001b[32m━━━━━━━━━━━━━━━━━━━━\u001b[0m\u001b[37m\u001b[0m \u001b[1m10s\u001b[0m 2ms/step - loss: 489616960.0000 - mae: 18171.4395 - val_loss: 488057504.0000 - val_mae: 18119.7402 - learning_rate: 0.0050\n",
      "Epoch 9/50\n",
      "\u001b[1m4378/4378\u001b[0m \u001b[32m━━━━━━━━━━━━━━━━━━━━\u001b[0m\u001b[37m\u001b[0m \u001b[1m0s\u001b[0m 2ms/step - loss: 492387104.0000 - mae: 18198.2051\n",
      "Epoch 9: val_mae did not improve from 17960.70312\n",
      "\u001b[1m4378/4378\u001b[0m \u001b[32m━━━━━━━━━━━━━━━━━━━━\u001b[0m\u001b[37m\u001b[0m \u001b[1m9s\u001b[0m 2ms/step - loss: 492386656.0000 - mae: 18198.2012 - val_loss: 483212096.0000 - val_mae: 18067.2969 - learning_rate: 0.0050\n",
      "Epoch 10/50\n",
      "\u001b[1m4376/4378\u001b[0m \u001b[32m━━━━━━━━━━━━━━━━━━━\u001b[0m\u001b[37m━\u001b[0m \u001b[1m0s\u001b[0m 2ms/step - loss: 493787136.0000 - mae: 18237.2461\n",
      "Epoch 10: val_mae did not improve from 17960.70312\n",
      "\u001b[1m4378/4378\u001b[0m \u001b[32m━━━━━━━━━━━━━━━━━━━━\u001b[0m\u001b[37m\u001b[0m \u001b[1m9s\u001b[0m 2ms/step - loss: 493784736.0000 - mae: 18237.2031 - val_loss: 485421440.0000 - val_mae: 18070.5605 - learning_rate: 0.0050\n",
      "Epoch 11/50\n",
      "\u001b[1m4366/4378\u001b[0m \u001b[32m━━━━━━━━━━━━━━━━━━━\u001b[0m\u001b[37m━\u001b[0m \u001b[1m0s\u001b[0m 2ms/step - loss: 490324000.0000 - mae: 18166.4902\n",
      "Epoch 11: val_mae did not improve from 17960.70312\n",
      "\u001b[1m4378/4378\u001b[0m \u001b[32m━━━━━━━━━━━━━━━━━━━━\u001b[0m\u001b[37m\u001b[0m \u001b[1m9s\u001b[0m 2ms/step - loss: 490324832.0000 - mae: 18166.5195 - val_loss: 486701536.0000 - val_mae: 18186.2969 - learning_rate: 0.0025\n",
      "Epoch 12/50\n",
      "\u001b[1m4378/4378\u001b[0m \u001b[32m━━━━━━━━━━━━━━━━━━━━\u001b[0m\u001b[37m\u001b[0m \u001b[1m0s\u001b[0m 2ms/step - loss: 490508160.0000 - mae: 18203.6172\n",
      "Epoch 12: val_mae did not improve from 17960.70312\n",
      "\u001b[1m4378/4378\u001b[0m \u001b[32m━━━━━━━━━━━━━━━━━━━━\u001b[0m\u001b[37m\u001b[0m \u001b[1m11s\u001b[0m 2ms/step - loss: 490508256.0000 - mae: 18203.6172 - val_loss: 481151840.0000 - val_mae: 18069.9199 - learning_rate: 0.0025\n",
      "Epoch 13/50\n",
      "\u001b[1m4373/4378\u001b[0m \u001b[32m━━━━━━━━━━━━━━━━━━━\u001b[0m\u001b[37m━\u001b[0m \u001b[1m0s\u001b[0m 2ms/step - loss: 491057824.0000 - mae: 18201.1035\n",
      "Epoch 13: val_mae did not improve from 17960.70312\n",
      "\u001b[1m4378/4378\u001b[0m \u001b[32m━━━━━━━━━━━━━━━━━━━━\u001b[0m\u001b[37m\u001b[0m \u001b[1m11s\u001b[0m 2ms/step - loss: 491056032.0000 - mae: 18201.0605 - val_loss: 484339168.0000 - val_mae: 18095.7734 - learning_rate: 0.0025\n",
      "Epoch 14/50\n",
      "\u001b[1m4378/4378\u001b[0m \u001b[32m━━━━━━━━━━━━━━━━━━━━\u001b[0m\u001b[37m\u001b[0m \u001b[1m0s\u001b[0m 2ms/step - loss: 490540000.0000 - mae: 18180.1426\n",
      "Epoch 14: val_mae did not improve from 17960.70312\n",
      "\u001b[1m4378/4378\u001b[0m \u001b[32m━━━━━━━━━━━━━━━━━━━━\u001b[0m\u001b[37m\u001b[0m \u001b[1m10s\u001b[0m 2ms/step - loss: 490539808.0000 - mae: 18180.1406 - val_loss: 483186208.0000 - val_mae: 18072.9902 - learning_rate: 0.0012\n",
      "Epoch 15/50\n",
      "\u001b[1m4378/4378\u001b[0m \u001b[32m━━━━━━━━━━━━━━━━━━━━\u001b[0m\u001b[37m\u001b[0m \u001b[1m0s\u001b[0m 2ms/step - loss: 489869824.0000 - mae: 18181.0176\n",
      "Epoch 15: val_mae did not improve from 17960.70312\n",
      "\u001b[1m4378/4378\u001b[0m \u001b[32m━━━━━━━━━━━━━━━━━━━━\u001b[0m\u001b[37m\u001b[0m \u001b[1m10s\u001b[0m 2ms/step - loss: 489869664.0000 - mae: 18181.0137 - val_loss: 482625600.0000 - val_mae: 18126.6543 - learning_rate: 0.0012\n",
      "Epoch 16/50\n",
      "\u001b[1m4378/4378\u001b[0m \u001b[32m━━━━━━━━━━━━━━━━━━━━\u001b[0m\u001b[37m\u001b[0m \u001b[1m0s\u001b[0m 2ms/step - loss: 490655968.0000 - mae: 18179.1660\n",
      "Epoch 16: val_mae did not improve from 17960.70312\n",
      "\u001b[1m4378/4378\u001b[0m \u001b[32m━━━━━━━━━━━━━━━━━━━━\u001b[0m\u001b[37m\u001b[0m \u001b[1m10s\u001b[0m 2ms/step - loss: 490655456.0000 - mae: 18179.1602 - val_loss: 482833184.0000 - val_mae: 18065.7383 - learning_rate: 0.0012\n",
      "Epoch 17/50\n",
      "\u001b[1m4378/4378\u001b[0m \u001b[32m━━━━━━━━━━━━━━━━━━━━\u001b[0m\u001b[37m\u001b[0m \u001b[1m0s\u001b[0m 2ms/step - loss: 490719424.0000 - mae: 18174.3906\n",
      "Epoch 17: val_mae did not improve from 17960.70312\n",
      "\u001b[1m4378/4378\u001b[0m \u001b[32m━━━━━━━━━━━━━━━━━━━━\u001b[0m\u001b[37m\u001b[0m \u001b[1m10s\u001b[0m 2ms/step - loss: 490719232.0000 - mae: 18174.3926 - val_loss: 484410016.0000 - val_mae: 18090.7383 - learning_rate: 6.2500e-04\n",
      "Epoch 18/50\n",
      "\u001b[1m4378/4378\u001b[0m \u001b[32m━━━━━━━━━━━━━━━━━━━━\u001b[0m\u001b[37m\u001b[0m \u001b[1m0s\u001b[0m 2ms/step - loss: 487927712.0000 - mae: 18160.8477\n",
      "Epoch 18: val_mae did not improve from 17960.70312\n",
      "\u001b[1m4378/4378\u001b[0m \u001b[32m━━━━━━━━━━━━━━━━━━━━\u001b[0m\u001b[37m\u001b[0m \u001b[1m9s\u001b[0m 2ms/step - loss: 487928096.0000 - mae: 18160.8516 - val_loss: 479798016.0000 - val_mae: 18035.3691 - learning_rate: 6.2500e-04\n",
      "Epoch 19/50\n",
      "\u001b[1m4374/4378\u001b[0m \u001b[32m━━━━━━━━━━━━━━━━━━━\u001b[0m\u001b[37m━\u001b[0m \u001b[1m0s\u001b[0m 2ms/step - loss: 488603232.0000 - mae: 18188.9824\n",
      "Epoch 19: val_mae did not improve from 17960.70312\n",
      "\u001b[1m4378/4378\u001b[0m \u001b[32m━━━━━━━━━━━━━━━━━━━━\u001b[0m\u001b[37m\u001b[0m \u001b[1m9s\u001b[0m 2ms/step - loss: 488604000.0000 - mae: 18188.9648 - val_loss: 483086624.0000 - val_mae: 18073.3496 - learning_rate: 6.2500e-04\n",
      "Epoch 20/50\n",
      "\u001b[1m4374/4378\u001b[0m \u001b[32m━━━━━━━━━━━━━━━━━━━\u001b[0m\u001b[37m━\u001b[0m \u001b[1m0s\u001b[0m 2ms/step - loss: 490115552.0000 - mae: 18171.4727\n",
      "Epoch 20: val_mae did not improve from 17960.70312\n",
      "\u001b[1m4378/4378\u001b[0m \u001b[32m━━━━━━━━━━━━━━━━━━━━\u001b[0m\u001b[37m\u001b[0m \u001b[1m12s\u001b[0m 3ms/step - loss: 490115168.0000 - mae: 18171.4805 - val_loss: 486204800.0000 - val_mae: 18144.4219 - learning_rate: 3.1250e-04\n",
      "Epoch 21/50\n",
      "\u001b[1m4378/4378\u001b[0m \u001b[32m━━━━━━━━━━━━━━━━━━━━\u001b[0m\u001b[37m\u001b[0m \u001b[1m0s\u001b[0m 4ms/step - loss: 488352000.0000 - mae: 18119.4629\n",
      "Epoch 21: val_mae did not improve from 17960.70312\n",
      "\u001b[1m4378/4378\u001b[0m \u001b[32m━━━━━━━━━━━━━━━━━━━━\u001b[0m\u001b[37m\u001b[0m \u001b[1m20s\u001b[0m 5ms/step - loss: 488352256.0000 - mae: 18119.4727 - val_loss: 482336736.0000 - val_mae: 18046.4883 - learning_rate: 3.1250e-04\n",
      "Epoch 22/50\n",
      "\u001b[1m4378/4378\u001b[0m \u001b[32m━━━━━━━━━━━━━━━━━━━━\u001b[0m\u001b[37m\u001b[0m \u001b[1m0s\u001b[0m 3ms/step - loss: 489552320.0000 - mae: 18155.2559\n",
      "Epoch 22: val_mae did not improve from 17960.70312\n",
      "\u001b[1m4378/4378\u001b[0m \u001b[32m━━━━━━━━━━━━━━━━━━━━\u001b[0m\u001b[37m\u001b[0m \u001b[1m13s\u001b[0m 3ms/step - loss: 489552704.0000 - mae: 18155.2676 - val_loss: 483080512.0000 - val_mae: 18117.4922 - learning_rate: 3.1250e-04\n",
      "Epoch 23/50\n",
      "\u001b[1m4378/4378\u001b[0m \u001b[32m━━━━━━━━━━━━━━━━━━━━\u001b[0m\u001b[37m\u001b[0m \u001b[1m0s\u001b[0m 2ms/step - loss: 489710048.0000 - mae: 18141.5703\n",
      "Epoch 23: val_mae did not improve from 17960.70312\n",
      "\u001b[1m4378/4378\u001b[0m \u001b[32m━━━━━━━━━━━━━━━━━━━━\u001b[0m\u001b[37m\u001b[0m \u001b[1m9s\u001b[0m 2ms/step - loss: 489709824.0000 - mae: 18141.5762 - val_loss: 486889632.0000 - val_mae: 18186.5195 - learning_rate: 1.5625e-04\n",
      "Epoch 24/50\n",
      "\u001b[1m4371/4378\u001b[0m \u001b[32m━━━━━━━━━━━━━━━━━━━\u001b[0m\u001b[37m━\u001b[0m \u001b[1m0s\u001b[0m 2ms/step - loss: 486025312.0000 - mae: 18122.8652\n",
      "Epoch 24: val_mae did not improve from 17960.70312\n",
      "\u001b[1m4378/4378\u001b[0m \u001b[32m━━━━━━━━━━━━━━━━━━━━\u001b[0m\u001b[37m\u001b[0m \u001b[1m9s\u001b[0m 2ms/step - loss: 486029632.0000 - mae: 18122.9258 - val_loss: 483088736.0000 - val_mae: 18078.7520 - learning_rate: 1.5625e-04\n",
      "Epoch 25/50\n",
      "\u001b[1m4376/4378\u001b[0m \u001b[32m━━━━━━━━━━━━━━━━━━━\u001b[0m\u001b[37m━\u001b[0m \u001b[1m0s\u001b[0m 2ms/step - loss: 490733248.0000 - mae: 18214.7246\n",
      "Epoch 25: val_mae did not improve from 17960.70312\n",
      "\u001b[1m4378/4378\u001b[0m \u001b[32m━━━━━━━━━━━━━━━━━━━━\u001b[0m\u001b[37m\u001b[0m \u001b[1m9s\u001b[0m 2ms/step - loss: 490732096.0000 - mae: 18214.6973 - val_loss: 479469280.0000 - val_mae: 18014.2949 - learning_rate: 1.5625e-04\n",
      "Epoch 26/50\n",
      "\u001b[1m4378/4378\u001b[0m \u001b[32m━━━━━━━━━━━━━━━━━━━━\u001b[0m\u001b[37m\u001b[0m \u001b[1m0s\u001b[0m 2ms/step - loss: 489471936.0000 - mae: 18156.5645\n",
      "Epoch 26: val_mae did not improve from 17960.70312\n",
      "\u001b[1m4378/4378\u001b[0m \u001b[32m━━━━━━━━━━━━━━━━━━━━\u001b[0m\u001b[37m\u001b[0m \u001b[1m11s\u001b[0m 2ms/step - loss: 489472256.0000 - mae: 18156.5723 - val_loss: 483367488.0000 - val_mae: 18064.0664 - learning_rate: 7.8125e-05\n",
      "Epoch 27/50\n",
      "\u001b[1m4378/4378\u001b[0m \u001b[32m━━━━━━━━━━━━━━━━━━━━\u001b[0m\u001b[37m\u001b[0m \u001b[1m0s\u001b[0m 2ms/step - loss: 488834720.0000 - mae: 18155.0293\n",
      "Epoch 27: val_mae did not improve from 17960.70312\n",
      "\u001b[1m4378/4378\u001b[0m \u001b[32m━━━━━━━━━━━━━━━━━━━━\u001b[0m\u001b[37m\u001b[0m \u001b[1m9s\u001b[0m 2ms/step - loss: 488834752.0000 - mae: 18155.0312 - val_loss: 483287936.0000 - val_mae: 18094.8066 - learning_rate: 7.8125e-05\n",
      "Epoch 28/50\n",
      "\u001b[1m4375/4378\u001b[0m \u001b[32m━━━━━━━━━━━━━━━━━━━\u001b[0m\u001b[37m━\u001b[0m \u001b[1m0s\u001b[0m 2ms/step - loss: 489197376.0000 - mae: 18163.9492\n",
      "Epoch 28: val_mae did not improve from 17960.70312\n",
      "\u001b[1m4378/4378\u001b[0m \u001b[32m━━━━━━━━━━━━━━━━━━━━\u001b[0m\u001b[37m\u001b[0m \u001b[1m10s\u001b[0m 2ms/step - loss: 489198688.0000 - mae: 18163.9805 - val_loss: 480907776.0000 - val_mae: 18044.5410 - learning_rate: 7.8125e-05\n",
      "Epoch 29/50\n",
      "\u001b[1m4378/4378\u001b[0m \u001b[32m━━━━━━━━━━━━━━━━━━━━\u001b[0m\u001b[37m\u001b[0m \u001b[1m0s\u001b[0m 2ms/step - loss: 489133376.0000 - mae: 18170.3848\n",
      "Epoch 29: val_mae did not improve from 17960.70312\n",
      "\u001b[1m4378/4378\u001b[0m \u001b[32m━━━━━━━━━━━━━━━━━━━━\u001b[0m\u001b[37m\u001b[0m \u001b[1m9s\u001b[0m 2ms/step - loss: 489133664.0000 - mae: 18170.3887 - val_loss: 485169504.0000 - val_mae: 18070.2988 - learning_rate: 3.9062e-05\n",
      "Epoch 30/50\n",
      "\u001b[1m4370/4378\u001b[0m \u001b[32m━━━━━━━━━━━━━━━━━━━\u001b[0m\u001b[37m━\u001b[0m \u001b[1m0s\u001b[0m 2ms/step - loss: 490716032.0000 - mae: 18194.5723\n",
      "Epoch 30: val_mae did not improve from 17960.70312\n",
      "\u001b[1m4378/4378\u001b[0m \u001b[32m━━━━━━━━━━━━━━━━━━━━\u001b[0m\u001b[37m\u001b[0m \u001b[1m9s\u001b[0m 2ms/step - loss: 490715648.0000 - mae: 18194.5566 - val_loss: 479894176.0000 - val_mae: 18026.9570 - learning_rate: 3.9062e-05\n",
      "Epoch 31/50\n",
      "\u001b[1m4374/4378\u001b[0m \u001b[32m━━━━━━━━━━━━━━━━━━━\u001b[0m\u001b[37m━\u001b[0m \u001b[1m0s\u001b[0m 2ms/step - loss: 485297056.0000 - mae: 18090.7441\n",
      "Epoch 31: val_mae did not improve from 17960.70312\n",
      "\u001b[1m4378/4378\u001b[0m \u001b[32m━━━━━━━━━━━━━━━━━━━━\u001b[0m\u001b[37m\u001b[0m \u001b[1m10s\u001b[0m 2ms/step - loss: 485301600.0000 - mae: 18090.8359 - val_loss: 476511008.0000 - val_mae: 17999.6699 - learning_rate: 3.9062e-05\n",
      "Epoch 32/50\n",
      "\u001b[1m4373/4378\u001b[0m \u001b[32m━━━━━━━━━━━━━━━━━━━\u001b[0m\u001b[37m━\u001b[0m \u001b[1m0s\u001b[0m 2ms/step - loss: 490233920.0000 - mae: 18180.6992\n",
      "Epoch 32: val_mae did not improve from 17960.70312\n",
      "\u001b[1m4378/4378\u001b[0m \u001b[32m━━━━━━━━━━━━━━━━━━━━\u001b[0m\u001b[37m\u001b[0m \u001b[1m10s\u001b[0m 2ms/step - loss: 490234080.0000 - mae: 18180.7168 - val_loss: 476613344.0000 - val_mae: 17979.9746 - learning_rate: 1.9531e-05\n",
      "Epoch 33/50\n",
      "\u001b[1m4378/4378\u001b[0m \u001b[32m━━━━━━━━━━━━━━━━━━━━\u001b[0m\u001b[37m\u001b[0m \u001b[1m0s\u001b[0m 2ms/step - loss: 486154848.0000 - mae: 18101.8965\n",
      "Epoch 33: val_mae did not improve from 17960.70312\n",
      "\u001b[1m4378/4378\u001b[0m \u001b[32m━━━━━━━━━━━━━━━━━━━━\u001b[0m\u001b[37m\u001b[0m \u001b[1m10s\u001b[0m 2ms/step - loss: 486155488.0000 - mae: 18101.9102 - val_loss: 488147712.0000 - val_mae: 18203.1113 - learning_rate: 1.9531e-05\n",
      "Epoch 34/50\n",
      "\u001b[1m4378/4378\u001b[0m \u001b[32m━━━━━━━━━━━━━━━━━━━━\u001b[0m\u001b[37m\u001b[0m \u001b[1m0s\u001b[0m 2ms/step - loss: 487540032.0000 - mae: 18128.3535\n",
      "Epoch 34: val_mae did not improve from 17960.70312\n",
      "\u001b[1m4378/4378\u001b[0m \u001b[32m━━━━━━━━━━━━━━━━━━━━\u001b[0m\u001b[37m\u001b[0m \u001b[1m9s\u001b[0m 2ms/step - loss: 487540480.0000 - mae: 18128.3613 - val_loss: 483224864.0000 - val_mae: 18093.6973 - learning_rate: 1.9531e-05\n",
      "Epoch 35/50\n",
      "\u001b[1m4378/4378\u001b[0m \u001b[32m━━━━━━━━━━━━━━━━━━━━\u001b[0m\u001b[37m\u001b[0m \u001b[1m0s\u001b[0m 2ms/step - loss: 487479232.0000 - mae: 18145.6953\n",
      "Epoch 35: val_mae did not improve from 17960.70312\n",
      "\u001b[1m4378/4378\u001b[0m \u001b[32m━━━━━━━━━━━━━━━━━━━━\u001b[0m\u001b[37m\u001b[0m \u001b[1m9s\u001b[0m 2ms/step - loss: 487479648.0000 - mae: 18145.7012 - val_loss: 483743392.0000 - val_mae: 18065.1484 - learning_rate: 9.7656e-06\n",
      "Epoch 36/50\n",
      "\u001b[1m4378/4378\u001b[0m \u001b[32m━━━━━━━━━━━━━━━━━━━━\u001b[0m\u001b[37m\u001b[0m \u001b[1m0s\u001b[0m 2ms/step - loss: 490724960.0000 - mae: 18192.1836\n",
      "Epoch 36: val_mae did not improve from 17960.70312\n",
      "\u001b[1m4378/4378\u001b[0m \u001b[32m━━━━━━━━━━━━━━━━━━━━\u001b[0m\u001b[37m\u001b[0m \u001b[1m11s\u001b[0m 2ms/step - loss: 490724896.0000 - mae: 18192.1836 - val_loss: 480996160.0000 - val_mae: 18095.3867 - learning_rate: 9.7656e-06\n",
      "Epoch 37/50\n",
      "\u001b[1m4370/4378\u001b[0m \u001b[32m━━━━━━━━━━━━━━━━━━━\u001b[0m\u001b[37m━\u001b[0m \u001b[1m0s\u001b[0m 2ms/step - loss: 491043328.0000 - mae: 18207.2363\n",
      "Epoch 37: val_mae did not improve from 17960.70312\n",
      "\u001b[1m4378/4378\u001b[0m \u001b[32m━━━━━━━━━━━━━━━━━━━━\u001b[0m\u001b[37m\u001b[0m \u001b[1m13s\u001b[0m 3ms/step - loss: 491042976.0000 - mae: 18207.2168 - val_loss: 476519360.0000 - val_mae: 17997.8945 - learning_rate: 9.7656e-06\n",
      "Epoch 38/50\n",
      "\u001b[1m4378/4378\u001b[0m \u001b[32m━━━━━━━━━━━━━━━━━━━━\u001b[0m\u001b[37m\u001b[0m \u001b[1m0s\u001b[0m 2ms/step - loss: 490268704.0000 - mae: 18191.0469\n",
      "Epoch 38: val_mae did not improve from 17960.70312\n",
      "\u001b[1m4378/4378\u001b[0m \u001b[32m━━━━━━━━━━━━━━━━━━━━\u001b[0m\u001b[37m\u001b[0m \u001b[1m9s\u001b[0m 2ms/step - loss: 490268576.0000 - mae: 18191.0430 - val_loss: 485545984.0000 - val_mae: 18172.1621 - learning_rate: 4.8828e-06\n",
      "Epoch 39/50\n",
      "\u001b[1m4374/4378\u001b[0m \u001b[32m━━━━━━━━━━━━━━━━━━━\u001b[0m\u001b[37m━\u001b[0m \u001b[1m0s\u001b[0m 2ms/step - loss: 490438336.0000 - mae: 18180.4121\n",
      "Epoch 39: val_mae did not improve from 17960.70312\n",
      "\u001b[1m4378/4378\u001b[0m \u001b[32m━━━━━━━━━━━━━━━━━━━━\u001b[0m\u001b[37m\u001b[0m \u001b[1m9s\u001b[0m 2ms/step - loss: 490437216.0000 - mae: 18180.3906 - val_loss: 481084640.0000 - val_mae: 18031.6602 - learning_rate: 4.8828e-06\n",
      "Epoch 40/50\n",
      "\u001b[1m4378/4378\u001b[0m \u001b[32m━━━━━━━━━━━━━━━━━━━━\u001b[0m\u001b[37m\u001b[0m \u001b[1m0s\u001b[0m 2ms/step - loss: 492513920.0000 - mae: 18220.5898\n",
      "Epoch 40: val_mae did not improve from 17960.70312\n",
      "\u001b[1m4378/4378\u001b[0m \u001b[32m━━━━━━━━━━━━━━━━━━━━\u001b[0m\u001b[37m\u001b[0m \u001b[1m10s\u001b[0m 2ms/step - loss: 492513504.0000 - mae: 18220.5840 - val_loss: 483875904.0000 - val_mae: 18082.4648 - learning_rate: 4.8828e-06\n",
      "Epoch 41/50\n",
      "\u001b[1m4369/4378\u001b[0m \u001b[32m━━━━━━━━━━━━━━━━━━━\u001b[0m\u001b[37m━\u001b[0m \u001b[1m0s\u001b[0m 2ms/step - loss: 489795936.0000 - mae: 18185.8359\n",
      "Epoch 41: val_mae did not improve from 17960.70312\n",
      "\u001b[1m4378/4378\u001b[0m \u001b[32m━━━━━━━━━━━━━━━━━━━━\u001b[0m\u001b[37m\u001b[0m \u001b[1m10s\u001b[0m 2ms/step - loss: 489794432.0000 - mae: 18185.8066 - val_loss: 483535424.0000 - val_mae: 18094.4629 - learning_rate: 2.4414e-06\n",
      "Epoch 42/50\n",
      "\u001b[1m4378/4378\u001b[0m \u001b[32m━━━━━━━━━━━━━━━━━━━━\u001b[0m\u001b[37m\u001b[0m \u001b[1m0s\u001b[0m 2ms/step - loss: 489617984.0000 - mae: 18163.0684\n",
      "Epoch 42: val_mae did not improve from 17960.70312\n",
      "\u001b[1m4378/4378\u001b[0m \u001b[32m━━━━━━━━━━━━━━━━━━━━\u001b[0m\u001b[37m\u001b[0m \u001b[1m10s\u001b[0m 2ms/step - loss: 489618144.0000 - mae: 18163.0703 - val_loss: 490878496.0000 - val_mae: 18232.9453 - learning_rate: 2.4414e-06\n",
      "Epoch 43/50\n",
      "\u001b[1m4370/4378\u001b[0m \u001b[32m━━━━━━━━━━━━━━━━━━━\u001b[0m\u001b[37m━\u001b[0m \u001b[1m0s\u001b[0m 2ms/step - loss: 490764128.0000 - mae: 18193.0137\n",
      "Epoch 43: val_mae did not improve from 17960.70312\n",
      "\u001b[1m4378/4378\u001b[0m \u001b[32m━━━━━━━━━━━━━━━━━━━━\u001b[0m\u001b[37m\u001b[0m \u001b[1m10s\u001b[0m 2ms/step - loss: 490761312.0000 - mae: 18192.9590 - val_loss: 481459680.0000 - val_mae: 18062.9414 - learning_rate: 2.4414e-06\n",
      "Epoch 44/50\n",
      "\u001b[1m4367/4378\u001b[0m \u001b[32m━━━━━━━━━━━━━━━━━━━\u001b[0m\u001b[37m━\u001b[0m \u001b[1m0s\u001b[0m 2ms/step - loss: 487796800.0000 - mae: 18154.1992\n",
      "Epoch 44: val_mae did not improve from 17960.70312\n",
      "\u001b[1m4378/4378\u001b[0m \u001b[32m━━━━━━━━━━━━━━━━━━━━\u001b[0m\u001b[37m\u001b[0m \u001b[1m9s\u001b[0m 2ms/step - loss: 487802880.0000 - mae: 18154.2715 - val_loss: 481401696.0000 - val_mae: 18068.8652 - learning_rate: 1.2207e-06\n",
      "Epoch 45/50\n",
      "\u001b[1m4371/4378\u001b[0m \u001b[32m━━━━━━━━━━━━━━━━━━━\u001b[0m\u001b[37m━\u001b[0m \u001b[1m0s\u001b[0m 2ms/step - loss: 489875744.0000 - mae: 18199.1289\n",
      "Epoch 45: val_mae did not improve from 17960.70312\n",
      "\u001b[1m4378/4378\u001b[0m \u001b[32m━━━━━━━━━━━━━━━━━━━━\u001b[0m\u001b[37m\u001b[0m \u001b[1m9s\u001b[0m 2ms/step - loss: 489875360.0000 - mae: 18199.0996 - val_loss: 485638848.0000 - val_mae: 18072.4043 - learning_rate: 1.2207e-06\n",
      "Epoch 46/50\n",
      "\u001b[1m4378/4378\u001b[0m \u001b[32m━━━━━━━━━━━━━━━━━━━━\u001b[0m\u001b[37m\u001b[0m \u001b[1m0s\u001b[0m 2ms/step - loss: 493345408.0000 - mae: 18253.7480\n",
      "Epoch 46: val_mae did not improve from 17960.70312\n",
      "\u001b[1m4378/4378\u001b[0m \u001b[32m━━━━━━━━━━━━━━━━━━━━\u001b[0m\u001b[37m\u001b[0m \u001b[1m10s\u001b[0m 2ms/step - loss: 493344832.0000 - mae: 18253.7383 - val_loss: 486662368.0000 - val_mae: 18121.1016 - learning_rate: 1.2207e-06\n",
      "Epoch 47/50\n",
      "\u001b[1m4361/4378\u001b[0m \u001b[32m━━━━━━━━━━━━━━━━━━━\u001b[0m\u001b[37m━\u001b[0m \u001b[1m0s\u001b[0m 2ms/step - loss: 491356960.0000 - mae: 18184.8672\n",
      "Epoch 47: val_mae did not improve from 17960.70312\n",
      "\u001b[1m4378/4378\u001b[0m \u001b[32m━━━━━━━━━━━━━━━━━━━━\u001b[0m\u001b[37m\u001b[0m \u001b[1m10s\u001b[0m 2ms/step - loss: 491350336.0000 - mae: 18184.8145 - val_loss: 482110912.0000 - val_mae: 18091.1953 - learning_rate: 1.0000e-06\n",
      "Epoch 48/50\n",
      "\u001b[1m4378/4378\u001b[0m \u001b[32m━━━━━━━━━━━━━━━━━━━━\u001b[0m\u001b[37m\u001b[0m \u001b[1m0s\u001b[0m 2ms/step - loss: 492204672.0000 - mae: 18211.5098\n",
      "Epoch 48: val_mae did not improve from 17960.70312\n",
      "\u001b[1m4378/4378\u001b[0m \u001b[32m━━━━━━━━━━━━━━━━━━━━\u001b[0m\u001b[37m\u001b[0m \u001b[1m9s\u001b[0m 2ms/step - loss: 492204064.0000 - mae: 18211.5020 - val_loss: 487442976.0000 - val_mae: 18204.7129 - learning_rate: 1.0000e-06\n",
      "Epoch 49/50\n",
      "\u001b[1m4372/4378\u001b[0m \u001b[32m━━━━━━━━━━━━━━━━━━━\u001b[0m\u001b[37m━\u001b[0m \u001b[1m0s\u001b[0m 2ms/step - loss: 489332960.0000 - mae: 18177.1016\n",
      "Epoch 49: val_mae did not improve from 17960.70312\n",
      "\u001b[1m4378/4378\u001b[0m \u001b[32m━━━━━━━━━━━━━━━━━━━━\u001b[0m\u001b[37m\u001b[0m \u001b[1m10s\u001b[0m 2ms/step - loss: 489334912.0000 - mae: 18177.1348 - val_loss: 482842912.0000 - val_mae: 18053.2012 - learning_rate: 1.0000e-06\n",
      "Epoch 50/50\n",
      "\u001b[1m4359/4378\u001b[0m \u001b[32m━━━━━━━━━━━━━━━━━━━\u001b[0m\u001b[37m━\u001b[0m \u001b[1m0s\u001b[0m 2ms/step - loss: 491679040.0000 - mae: 18223.5957\n",
      "Epoch 50: val_mae did not improve from 17960.70312\n",
      "\u001b[1m4378/4378\u001b[0m \u001b[32m━━━━━━━━━━━━━━━━━━━━\u001b[0m\u001b[37m\u001b[0m \u001b[1m10s\u001b[0m 2ms/step - loss: 491668256.0000 - mae: 18223.3711 - val_loss: 478670272.0000 - val_mae: 18007.8340 - learning_rate: 1.0000e-06\n"
     ]
    }
   ],
   "source": [
    "model.compile(\n",
    "    loss='mse',\n",
    "    optimizer=tf.keras.optimizers.Adam(learning_rate=0.01),\n",
    "    metrics=['mae']\n",
    ")\n",
    "\n",
    "\n",
    "reduce_lr = ReduceLROnPlateau(\n",
    "    monitor='val_mae',  # Choose the metric to monitor\n",
    "    factor=0.5,          # Factor by which to reduce the learning rate\n",
    "    patience=3,          # Number of epochs with no improvement before reducing\n",
    "    min_lr=1e-6          # Minimum learning rate\n",
    ")\n",
    "\n",
    "checkpoint = ModelCheckpoint(\n",
    "    '../models/DNN_model_1.keras',             # File to save the best model\n",
    "    monitor='val_mae',       # Metric to monitor for improvement\n",
    "    mode='min',                   # Mode 'min' for mae (since lower is better)\n",
    "    save_best_only=True,          # Save only when there is an improvement\n",
    "    verbose=1,                    # Print message when saving\n",
    "                    \n",
    ")\n",
    "\n",
    "\n",
    "history = model.fit(\n",
    "    train_dataset,\n",
    "    validation_data = val_dataset,\n",
    "    epochs=50,\n",
    "    callbacks=[reduce_lr, checkpoint]\n",
    ")"
   ]
  }
 ],
 "metadata": {
  "kernelspec": {
   "display_name": "challenge_ENS_env_CFM",
   "language": "python",
   "name": "python3"
  },
  "language_info": {
   "codemirror_mode": {
    "name": "ipython",
    "version": 3
   },
   "file_extension": ".py",
   "mimetype": "text/x-python",
   "name": "python",
   "nbconvert_exporter": "python",
   "pygments_lexer": "ipython3",
   "version": "3.11.10"
  }
 },
 "nbformat": 4,
 "nbformat_minor": 2
}
