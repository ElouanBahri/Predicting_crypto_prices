{
 "cells": [
  {
   "cell_type": "markdown",
   "metadata": {},
   "source": [
    "------------"
   ]
  },
  {
   "cell_type": "markdown",
   "metadata": {},
   "source": [
    "XGBoost model"
   ]
  },
  {
   "cell_type": "code",
   "execution_count": 1,
   "metadata": {
    "execution": {
     "iopub.execute_input": "2025-01-22T18:47:28.111856Z",
     "iopub.status.busy": "2025-01-22T18:47:28.111421Z",
     "iopub.status.idle": "2025-01-22T18:47:33.214137Z",
     "shell.execute_reply": "2025-01-22T18:47:33.213754Z"
    }
   },
   "outputs": [],
   "source": [
    "import pandas as pd \n",
    "import numpy as np \n",
    "from xgboost import XGBRegressor\n",
    "from sklearn.metrics import mean_absolute_error\n",
    "import matplotlib.pyplot as plt\n",
    "\n",
    "from modules.utils import filter_data_by_year_month, create_features_for_next_prediction\n",
    "\n",
    "import time\n",
    "\n",
    "\n"
   ]
  },
  {
   "cell_type": "code",
   "execution_count": 2,
   "metadata": {
    "execution": {
     "iopub.execute_input": "2025-01-22T18:47:33.216196Z",
     "iopub.status.busy": "2025-01-22T18:47:33.215940Z",
     "iopub.status.idle": "2025-01-22T18:47:43.228100Z",
     "shell.execute_reply": "2025-01-22T18:47:43.227284Z"
    }
   },
   "outputs": [
    {
     "name": "stdout",
     "output_type": "stream",
     "text": [
      "Execution started after a 10-second delay.\n"
     ]
    }
   ],
   "source": [
    "\n",
    "\n",
    "# Delay for 10 seconds\n",
    "time.sleep(10)\n",
    "\n",
    "print(\"Execution started after a 10-second delay.\")\n"
   ]
  },
  {
   "cell_type": "code",
   "execution_count": 3,
   "metadata": {
    "execution": {
     "iopub.execute_input": "2025-01-22T18:47:43.271953Z",
     "iopub.status.busy": "2025-01-22T18:47:43.271701Z",
     "iopub.status.idle": "2025-01-22T18:47:45.928763Z",
     "shell.execute_reply": "2025-01-22T18:47:45.928391Z"
    }
   },
   "outputs": [
    {
     "name": "stdout",
     "output_type": "stream",
     "text": [
      "Retrieve historical data for BTCUSDT\n",
      "Retrieving data from 2025-01-01 00:00:00\n"
     ]
    },
    {
     "name": "stdout",
     "output_type": "stream",
     "text": [
      "Retrieving data from 2025-01-11 09:45:00.001000\n"
     ]
    },
    {
     "name": "stdout",
     "output_type": "stream",
     "text": [
      "Retrieving data from 2025-01-21 19:45:00.001000\n"
     ]
    },
    {
     "name": "stdout",
     "output_type": "stream",
     "text": [
      "Retrieving data from 2025-01-22 19:45:00.001000\n"
     ]
    },
    {
     "name": "stdout",
     "output_type": "stream",
     "text": [
      "Retrieving data from 2025-01-22 00:00:00\n"
     ]
    },
    {
     "name": "stdout",
     "output_type": "stream",
     "text": [
      "Retrieving data from 2025-01-22 19:45:00.001000\n"
     ]
    },
    {
     "name": "stdout",
     "output_type": "stream",
     "text": [
      "No missing data\n"
     ]
    }
   ],
   "source": [
    "## Update Historical Prices for BTCUSDT\n",
    "\n",
    "%run ../data/playground_data.py\n"
   ]
  },
  {
   "cell_type": "code",
   "execution_count": 4,
   "metadata": {
    "execution": {
     "iopub.execute_input": "2025-01-22T18:47:45.930523Z",
     "iopub.status.busy": "2025-01-22T18:47:45.930362Z",
     "iopub.status.idle": "2025-01-22T18:47:45.942122Z",
     "shell.execute_reply": "2025-01-22T18:47:45.941799Z"
    }
   },
   "outputs": [],
   "source": [
    "X = pd.read_csv('/Users/elouan/Repo Github ElouanBahri/Predicting_crypto_prices/src/notebooks/Historical Prices for BTCUSDT')\n",
    "X[\"timestamp\"] = pd.to_datetime(X[\"timestamp\"])\n",
    "\n",
    "# Add 1 hour to all timestamps\n",
    "X[\"timestamp\"] = X[\"timestamp\"] + pd.Timedelta(hours=1)\n",
    "# Remove the last two rows\n",
    "X = X.iloc[:-1]\n",
    "\n",
    "\n",
    "\n",
    "YEARS = [2025]\n",
    "\n",
    "Data = filter_data_by_year_month(X, YEARS)\n",
    "\n",
    "Data1 = create_features_for_next_prediction(Data,['close', 'open', 'high', 'low', 'volume'], 4)\n",
    "\n"
   ]
  },
  {
   "cell_type": "code",
   "execution_count": 5,
   "metadata": {
    "execution": {
     "iopub.execute_input": "2025-01-22T18:47:45.943709Z",
     "iopub.status.busy": "2025-01-22T18:47:45.943593Z",
     "iopub.status.idle": "2025-01-22T18:47:45.946180Z",
     "shell.execute_reply": "2025-01-22T18:47:45.945843Z"
    }
   },
   "outputs": [
    {
     "name": "stdout",
     "output_type": "stream",
     "text": [
      "Last Timestamp: 2025-01-22 19:30:00\n"
     ]
    }
   ],
   "source": [
    "# Assuming `X` is your DataFrame with a \"timestamp\" column\n",
    "last_timestamp = pd.to_datetime(X[\"timestamp\"].iloc[-1])  # Convert to datetime\n",
    "print(\"Last Timestamp:\", last_timestamp)\n"
   ]
  },
  {
   "cell_type": "code",
   "execution_count": 6,
   "metadata": {
    "execution": {
     "iopub.execute_input": "2025-01-22T18:47:45.947672Z",
     "iopub.status.busy": "2025-01-22T18:47:45.947530Z",
     "iopub.status.idle": "2025-01-22T18:47:45.951264Z",
     "shell.execute_reply": "2025-01-22T18:47:45.950937Z"
    }
   },
   "outputs": [
    {
     "data": {
      "text/plain": [
       "(1, 20)"
      ]
     },
     "execution_count": 6,
     "metadata": {},
     "output_type": "execute_result"
    }
   ],
   "source": [
    "Data1.shape"
   ]
  },
  {
   "cell_type": "code",
   "execution_count": 7,
   "metadata": {
    "execution": {
     "iopub.execute_input": "2025-01-22T18:47:45.952689Z",
     "iopub.status.busy": "2025-01-22T18:47:45.952586Z",
     "iopub.status.idle": "2025-01-22T18:47:45.961072Z",
     "shell.execute_reply": "2025-01-22T18:47:45.960772Z"
    }
   },
   "outputs": [
    {
     "data": {
      "text/html": [
       "<div>\n",
       "<style scoped>\n",
       "    .dataframe tbody tr th:only-of-type {\n",
       "        vertical-align: middle;\n",
       "    }\n",
       "\n",
       "    .dataframe tbody tr th {\n",
       "        vertical-align: top;\n",
       "    }\n",
       "\n",
       "    .dataframe thead th {\n",
       "        text-align: right;\n",
       "    }\n",
       "</style>\n",
       "<table border=\"1\" class=\"dataframe\">\n",
       "  <thead>\n",
       "    <tr style=\"text-align: right;\">\n",
       "      <th></th>\n",
       "      <th>lag_close1</th>\n",
       "      <th>lag_open1</th>\n",
       "      <th>lag_high1</th>\n",
       "      <th>lag_low1</th>\n",
       "      <th>lag_volume1</th>\n",
       "      <th>lag_close2</th>\n",
       "      <th>lag_open2</th>\n",
       "      <th>lag_high2</th>\n",
       "      <th>lag_low2</th>\n",
       "      <th>lag_volume2</th>\n",
       "      <th>lag_close3</th>\n",
       "      <th>lag_open3</th>\n",
       "      <th>lag_high3</th>\n",
       "      <th>lag_low3</th>\n",
       "      <th>lag_volume3</th>\n",
       "      <th>lag_close4</th>\n",
       "      <th>lag_open4</th>\n",
       "      <th>lag_high4</th>\n",
       "      <th>lag_low4</th>\n",
       "      <th>lag_volume4</th>\n",
       "    </tr>\n",
       "  </thead>\n",
       "  <tbody>\n",
       "    <tr>\n",
       "      <th>0</th>\n",
       "      <td>104374.94</td>\n",
       "      <td>104310.01</td>\n",
       "      <td>104572.12</td>\n",
       "      <td>104284.48</td>\n",
       "      <td>159.18458</td>\n",
       "      <td>104310.0</td>\n",
       "      <td>104516.0</td>\n",
       "      <td>104535.99</td>\n",
       "      <td>104068.96</td>\n",
       "      <td>158.87101</td>\n",
       "      <td>104516.0</td>\n",
       "      <td>104345.8</td>\n",
       "      <td>104684.0</td>\n",
       "      <td>104273.57</td>\n",
       "      <td>227.54667</td>\n",
       "      <td>104345.8</td>\n",
       "      <td>104426.0</td>\n",
       "      <td>104583.0</td>\n",
       "      <td>104127.44</td>\n",
       "      <td>234.98867</td>\n",
       "    </tr>\n",
       "  </tbody>\n",
       "</table>\n",
       "</div>"
      ],
      "text/plain": [
       "   lag_close1  lag_open1  lag_high1   lag_low1  lag_volume1  lag_close2  \\\n",
       "0   104374.94  104310.01  104572.12  104284.48    159.18458    104310.0   \n",
       "\n",
       "   lag_open2  lag_high2   lag_low2  lag_volume2  lag_close3  lag_open3  \\\n",
       "0   104516.0  104535.99  104068.96    158.87101    104516.0   104345.8   \n",
       "\n",
       "   lag_high3   lag_low3  lag_volume3  lag_close4  lag_open4  lag_high4  \\\n",
       "0   104684.0  104273.57    227.54667    104345.8   104426.0   104583.0   \n",
       "\n",
       "    lag_low4  lag_volume4  \n",
       "0  104127.44    234.98867  "
      ]
     },
     "execution_count": 7,
     "metadata": {},
     "output_type": "execute_result"
    }
   ],
   "source": [
    "Data1"
   ]
  },
  {
   "cell_type": "code",
   "execution_count": 8,
   "metadata": {
    "execution": {
     "iopub.execute_input": "2025-01-22T18:47:45.962489Z",
     "iopub.status.busy": "2025-01-22T18:47:45.962358Z",
     "iopub.status.idle": "2025-01-22T18:47:45.982522Z",
     "shell.execute_reply": "2025-01-22T18:47:45.982104Z"
    }
   },
   "outputs": [],
   "source": [
    "model = XGBRegressor()\n",
    "model.load_model('../models/xgboost_model_1.json')"
   ]
  },
  {
   "cell_type": "code",
   "execution_count": 9,
   "metadata": {
    "execution": {
     "iopub.execute_input": "2025-01-22T18:47:45.984598Z",
     "iopub.status.busy": "2025-01-22T18:47:45.984463Z",
     "iopub.status.idle": "2025-01-22T18:47:45.989328Z",
     "shell.execute_reply": "2025-01-22T18:47:45.988839Z"
    }
   },
   "outputs": [
    {
     "name": "stdout",
     "output_type": "stream",
     "text": [
      "the next price for 2025-01-22 20:00:00 will be  : [104652.56]\n"
     ]
    }
   ],
   "source": [
    "# Make predictions\n",
    "y_pred = model.predict(Data1)\n",
    "\n",
    "next_timestamp = last_timestamp + pd.Timedelta(minutes=30)\n",
    "\n",
    "print(f\"the next price for {next_timestamp} will be  :\", y_pred)"
   ]
  },
  {
   "cell_type": "code",
   "execution_count": 10,
   "metadata": {
    "execution": {
     "iopub.execute_input": "2025-01-22T18:47:45.991165Z",
     "iopub.status.busy": "2025-01-22T18:47:45.991023Z",
     "iopub.status.idle": "2025-01-22T18:47:45.993296Z",
     "shell.execute_reply": "2025-01-22T18:47:45.992943Z"
    }
   },
   "outputs": [],
   "source": [
    "# predictions_df = pd.read_csv(\"tableau des predictions\")\n",
    "\n",
    "# next_timestamp = last_timestamp + pd.Timedelta(minutes=45)\n",
    "# predictions_df = predictions_df.iloc[2:]\n",
    "# # Nouvelle ligne à ajouter\n",
    "# new_row = {\n",
    "#     'time': next_timestamp,\n",
    "#     'predicted_price': 103734.60,\n",
    "#     'actual_price':103704.65\n",
    "# }\n",
    "\n",
    "# new_row_df = pd.DataFrame([new_row])\n",
    "# predictions_df = pd.concat([predictions_df, new_row_df], ignore_index=True)\n",
    "\n",
    "# predictions_df.to_csv(\"tableau des predictions\", index=False)"
   ]
  },
  {
   "cell_type": "code",
   "execution_count": 11,
   "metadata": {
    "execution": {
     "iopub.execute_input": "2025-01-22T18:47:45.994953Z",
     "iopub.status.busy": "2025-01-22T18:47:45.994821Z",
     "iopub.status.idle": "2025-01-22T18:47:46.001936Z",
     "shell.execute_reply": "2025-01-22T18:47:46.001557Z"
    }
   },
   "outputs": [
    {
     "name": "stderr",
     "output_type": "stream",
     "text": [
      "/var/folders/41/lv7xy5r91x7ckkgx5zqmgpxh0000gn/T/ipykernel_38854/624879874.py:8: DeprecationWarning: Conversion of an array with ndim > 0 to a scalar is deprecated, and will error in future. Ensure you extract a single element from your array before performing this operation. (Deprecated NumPy 1.25.)\n",
      "  'predicted_price': float(y_pred),\n",
      "/var/folders/41/lv7xy5r91x7ckkgx5zqmgpxh0000gn/T/ipykernel_38854/624879874.py:13: FutureWarning: The behavior of DataFrame concatenation with empty or all-NA entries is deprecated. In a future version, this will no longer exclude empty or all-NA columns when determining the result dtypes. To retain the old behavior, exclude the relevant entries before the concat operation.\n",
      "  predictions_df = pd.concat([predictions_df, new_row_df], ignore_index=True)\n"
     ]
    }
   ],
   "source": [
    "predictions_df = pd.read_csv(\"tableau des predictions\")\n",
    "\n",
    "predictions_df.iloc[-1, predictions_df.columns.get_loc('actual_price')] = Data[\"close\"].iloc[-1]\n",
    "\n",
    "# Nouvelle ligne à ajouter\n",
    "new_row = {\n",
    "    'time': next_timestamp,\n",
    "    'predicted_price': float(y_pred),\n",
    "    'actual_price': None\n",
    "}\n",
    "\n",
    "new_row_df = pd.DataFrame([new_row])\n",
    "predictions_df = pd.concat([predictions_df, new_row_df], ignore_index=True)\n",
    "\n",
    "\n",
    "predictions_df.to_csv(\"tableau des predictions\", index=False)\n",
    "\n",
    "predictions_df.to_csv(\"tableau des predictions.csv\", sep=\";\", index=False)"
   ]
  }
 ],
 "metadata": {
  "kernelspec": {
   "display_name": "challenge_ENS_env_CFM",
   "language": "python",
   "name": "python3"
  },
  "language_info": {
   "codemirror_mode": {
    "name": "ipython",
    "version": 3
   },
   "file_extension": ".py",
   "mimetype": "text/x-python",
   "name": "python",
   "nbconvert_exporter": "python",
   "pygments_lexer": "ipython3",
   "version": "3.11.11"
  }
 },
 "nbformat": 4,
 "nbformat_minor": 2
}
