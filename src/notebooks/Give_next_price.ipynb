{
 "cells": [
  {
   "cell_type": "markdown",
   "metadata": {},
   "source": [
    "------------"
   ]
  },
  {
   "cell_type": "markdown",
   "metadata": {},
   "source": [
    "XGBoost model"
   ]
  },
  {
   "cell_type": "code",
   "execution_count": 1,
   "metadata": {
    "execution": {
     "iopub.execute_input": "2025-01-22T21:45:04.454966Z",
     "iopub.status.busy": "2025-01-22T21:45:04.454602Z",
     "iopub.status.idle": "2025-01-22T21:45:16.492802Z",
     "shell.execute_reply": "2025-01-22T21:45:16.491882Z"
    }
   },
   "outputs": [],
   "source": [
    "import pandas as pd \n",
    "import numpy as np \n",
    "from xgboost import XGBRegressor\n",
    "from sklearn.metrics import mean_absolute_error\n",
    "import matplotlib.pyplot as plt\n",
    "\n",
    "from modules.utils import filter_data_by_year_month, create_features_for_next_prediction\n",
    "\n",
    "import time\n",
    "\n",
    "\n"
   ]
  },
  {
   "cell_type": "code",
   "execution_count": 2,
   "metadata": {
    "execution": {
     "iopub.execute_input": "2025-01-22T21:45:16.499373Z",
     "iopub.status.busy": "2025-01-22T21:45:16.498798Z",
     "iopub.status.idle": "2025-01-22T21:45:26.569536Z",
     "shell.execute_reply": "2025-01-22T21:45:26.568195Z"
    }
   },
   "outputs": [
    {
     "name": "stdout",
     "output_type": "stream",
     "text": [
      "Execution started after a 10-second delay.\n"
     ]
    }
   ],
   "source": [
    "\n",
    "\n",
    "# Delay for 10 seconds\n",
    "time.sleep(10)\n",
    "\n",
    "print(\"Execution started after a 10-second delay.\")\n"
   ]
  },
  {
   "cell_type": "code",
   "execution_count": 3,
   "metadata": {
    "execution": {
     "iopub.execute_input": "2025-01-22T21:45:26.639219Z",
     "iopub.status.busy": "2025-01-22T21:45:26.638877Z",
     "iopub.status.idle": "2025-01-22T21:45:29.533653Z",
     "shell.execute_reply": "2025-01-22T21:45:29.532974Z"
    }
   },
   "outputs": [
    {
     "name": "stdout",
     "output_type": "stream",
     "text": [
      "Retrieve historical data for BTCUSDT\n",
      "Retrieving data from 2025-01-01 00:00:00\n"
     ]
    },
    {
     "name": "stdout",
     "output_type": "stream",
     "text": [
      "Retrieving data from 2025-01-11 09:45:00.001000\n"
     ]
    },
    {
     "name": "stdout",
     "output_type": "stream",
     "text": [
      "Retrieving data from 2025-01-21 19:45:00.001000\n"
     ]
    },
    {
     "name": "stdout",
     "output_type": "stream",
     "text": [
      "Retrieving data from 2025-01-22 22:45:00.001000\n"
     ]
    },
    {
     "name": "stdout",
     "output_type": "stream",
     "text": [
      "Retrieving data from 2025-01-22 00:00:00\n"
     ]
    },
    {
     "name": "stdout",
     "output_type": "stream",
     "text": [
      "Retrieving data from 2025-01-22 22:45:00.001000\n"
     ]
    },
    {
     "name": "stdout",
     "output_type": "stream",
     "text": [
      "No missing data\n"
     ]
    }
   ],
   "source": [
    "## Update Historical Prices for BTCUSDT\n",
    "\n",
    "%run ../data/playground_data.py\n"
   ]
  },
  {
   "cell_type": "code",
   "execution_count": 4,
   "metadata": {
    "execution": {
     "iopub.execute_input": "2025-01-22T21:45:29.537201Z",
     "iopub.status.busy": "2025-01-22T21:45:29.536916Z",
     "iopub.status.idle": "2025-01-22T21:45:29.562604Z",
     "shell.execute_reply": "2025-01-22T21:45:29.561908Z"
    }
   },
   "outputs": [],
   "source": [
    "X = pd.read_csv('/Users/elouan/Repo Github ElouanBahri/Predicting_crypto_prices/src/notebooks/Historical Prices for BTCUSDT')\n",
    "X[\"timestamp\"] = pd.to_datetime(X[\"timestamp\"])\n",
    "\n",
    "# Add 1 hour to all timestamps\n",
    "X[\"timestamp\"] = X[\"timestamp\"] + pd.Timedelta(hours=1)\n",
    "# Remove the last two rows\n",
    "X = X.iloc[:-1]\n",
    "\n",
    "\n",
    "\n",
    "YEARS = [2025]\n",
    "\n",
    "Data = filter_data_by_year_month(X, YEARS)\n",
    "\n",
    "Data1 = create_features_for_next_prediction(Data,['close', 'open', 'high', 'low', 'volume'], 4)\n",
    "\n"
   ]
  },
  {
   "cell_type": "code",
   "execution_count": 5,
   "metadata": {
    "execution": {
     "iopub.execute_input": "2025-01-22T21:45:29.565654Z",
     "iopub.status.busy": "2025-01-22T21:45:29.565396Z",
     "iopub.status.idle": "2025-01-22T21:45:29.571069Z",
     "shell.execute_reply": "2025-01-22T21:45:29.570539Z"
    }
   },
   "outputs": [
    {
     "name": "stdout",
     "output_type": "stream",
     "text": [
      "Last Timestamp: 2025-01-22 22:30:00\n"
     ]
    }
   ],
   "source": [
    "# Assuming `X` is your DataFrame with a \"timestamp\" column\n",
    "last_timestamp = pd.to_datetime(X[\"timestamp\"].iloc[-1])  # Convert to datetime\n",
    "print(\"Last Timestamp:\", last_timestamp)\n"
   ]
  },
  {
   "cell_type": "code",
   "execution_count": 6,
   "metadata": {
    "execution": {
     "iopub.execute_input": "2025-01-22T21:45:29.573259Z",
     "iopub.status.busy": "2025-01-22T21:45:29.573071Z",
     "iopub.status.idle": "2025-01-22T21:45:29.580669Z",
     "shell.execute_reply": "2025-01-22T21:45:29.580055Z"
    }
   },
   "outputs": [
    {
     "data": {
      "text/plain": [
       "(1, 20)"
      ]
     },
     "execution_count": 6,
     "metadata": {},
     "output_type": "execute_result"
    }
   ],
   "source": [
    "Data1.shape"
   ]
  },
  {
   "cell_type": "code",
   "execution_count": 7,
   "metadata": {
    "execution": {
     "iopub.execute_input": "2025-01-22T21:45:29.582905Z",
     "iopub.status.busy": "2025-01-22T21:45:29.582712Z",
     "iopub.status.idle": "2025-01-22T21:45:29.600508Z",
     "shell.execute_reply": "2025-01-22T21:45:29.599838Z"
    }
   },
   "outputs": [
    {
     "data": {
      "text/html": [
       "<div>\n",
       "<style scoped>\n",
       "    .dataframe tbody tr th:only-of-type {\n",
       "        vertical-align: middle;\n",
       "    }\n",
       "\n",
       "    .dataframe tbody tr th {\n",
       "        vertical-align: top;\n",
       "    }\n",
       "\n",
       "    .dataframe thead th {\n",
       "        text-align: right;\n",
       "    }\n",
       "</style>\n",
       "<table border=\"1\" class=\"dataframe\">\n",
       "  <thead>\n",
       "    <tr style=\"text-align: right;\">\n",
       "      <th></th>\n",
       "      <th>lag_close1</th>\n",
       "      <th>lag_open1</th>\n",
       "      <th>lag_high1</th>\n",
       "      <th>lag_low1</th>\n",
       "      <th>lag_volume1</th>\n",
       "      <th>lag_close2</th>\n",
       "      <th>lag_open2</th>\n",
       "      <th>lag_high2</th>\n",
       "      <th>lag_low2</th>\n",
       "      <th>lag_volume2</th>\n",
       "      <th>lag_close3</th>\n",
       "      <th>lag_open3</th>\n",
       "      <th>lag_high3</th>\n",
       "      <th>lag_low3</th>\n",
       "      <th>lag_volume3</th>\n",
       "      <th>lag_close4</th>\n",
       "      <th>lag_open4</th>\n",
       "      <th>lag_high4</th>\n",
       "      <th>lag_low4</th>\n",
       "      <th>lag_volume4</th>\n",
       "    </tr>\n",
       "  </thead>\n",
       "  <tbody>\n",
       "    <tr>\n",
       "      <th>0</th>\n",
       "      <td>104017.68</td>\n",
       "      <td>103902.28</td>\n",
       "      <td>104133.22</td>\n",
       "      <td>103902.28</td>\n",
       "      <td>148.91529</td>\n",
       "      <td>103902.27</td>\n",
       "      <td>103891.76</td>\n",
       "      <td>103952.11</td>\n",
       "      <td>103611.66</td>\n",
       "      <td>250.53097</td>\n",
       "      <td>103891.76</td>\n",
       "      <td>104321.11</td>\n",
       "      <td>104369.12</td>\n",
       "      <td>103779.84</td>\n",
       "      <td>224.89315</td>\n",
       "      <td>104321.1</td>\n",
       "      <td>104201.35</td>\n",
       "      <td>104524.3</td>\n",
       "      <td>104070.61</td>\n",
       "      <td>319.9467</td>\n",
       "    </tr>\n",
       "  </tbody>\n",
       "</table>\n",
       "</div>"
      ],
      "text/plain": [
       "   lag_close1  lag_open1  lag_high1   lag_low1  lag_volume1  lag_close2  \\\n",
       "0   104017.68  103902.28  104133.22  103902.28    148.91529   103902.27   \n",
       "\n",
       "   lag_open2  lag_high2   lag_low2  lag_volume2  lag_close3  lag_open3  \\\n",
       "0  103891.76  103952.11  103611.66    250.53097   103891.76  104321.11   \n",
       "\n",
       "   lag_high3   lag_low3  lag_volume3  lag_close4  lag_open4  lag_high4  \\\n",
       "0  104369.12  103779.84    224.89315    104321.1  104201.35   104524.3   \n",
       "\n",
       "    lag_low4  lag_volume4  \n",
       "0  104070.61     319.9467  "
      ]
     },
     "execution_count": 7,
     "metadata": {},
     "output_type": "execute_result"
    }
   ],
   "source": [
    "Data1"
   ]
  },
  {
   "cell_type": "code",
   "execution_count": 8,
   "metadata": {
    "execution": {
     "iopub.execute_input": "2025-01-22T21:45:29.603483Z",
     "iopub.status.busy": "2025-01-22T21:45:29.603212Z",
     "iopub.status.idle": "2025-01-22T21:45:29.659792Z",
     "shell.execute_reply": "2025-01-22T21:45:29.658806Z"
    }
   },
   "outputs": [],
   "source": [
    "model = XGBRegressor()\n",
    "model.load_model('../models/xgboost_model_1.json')\n",
    "\n",
    "model3 = XGBRegressor()\n",
    "model3.load_model('../models/xgboost_model_3.json')\n",
    "\n"
   ]
  },
  {
   "cell_type": "code",
   "execution_count": 9,
   "metadata": {
    "execution": {
     "iopub.execute_input": "2025-01-22T21:45:29.663690Z",
     "iopub.status.busy": "2025-01-22T21:45:29.663409Z",
     "iopub.status.idle": "2025-01-22T21:45:29.683558Z",
     "shell.execute_reply": "2025-01-22T21:45:29.682932Z"
    }
   },
   "outputs": [
    {
     "name": "stdout",
     "output_type": "stream",
     "text": [
      "the next price for 2025-01-22 23:00:00 will be (model1)  : [103938.69]\n",
      "the next price for 2025-01-22 23:00:00 will be (model3)  : [104048.64]\n"
     ]
    }
   ],
   "source": [
    "# Make predictions\n",
    "y_pred = model.predict(Data1)\n",
    "\n",
    "y_pred2 = model3.predict(Data1)\n",
    "\n",
    "next_timestamp = last_timestamp + pd.Timedelta(minutes=30)\n",
    "\n",
    "print(f\"the next price for {next_timestamp} will be (model1)  :\", y_pred)\n",
    "print(f\"the next price for {next_timestamp} will be (model3)  :\", y_pred2)"
   ]
  },
  {
   "cell_type": "code",
   "execution_count": 10,
   "metadata": {
    "execution": {
     "iopub.execute_input": "2025-01-22T21:45:29.686545Z",
     "iopub.status.busy": "2025-01-22T21:45:29.686272Z",
     "iopub.status.idle": "2025-01-22T21:45:29.689507Z",
     "shell.execute_reply": "2025-01-22T21:45:29.688896Z"
    }
   },
   "outputs": [],
   "source": [
    "# predictions_df = pd.read_csv(\"tableau des predictions\")\n",
    "\n",
    "# next_timestamp = last_timestamp + pd.Timedelta(minutes=45)\n",
    "# predictions_df = predictions_df.iloc[2:]\n",
    "# # Nouvelle ligne à ajouter\n",
    "# new_row = {\n",
    "#     'time': next_timestamp,\n",
    "#     'predicted_price': 103734.60,\n",
    "#     'actual_price':103704.65\n",
    "# }\n",
    "\n",
    "# new_row_df = pd.DataFrame([new_row])\n",
    "# predictions_df = pd.concat([predictions_df, new_row_df], ignore_index=True)\n",
    "\n",
    "# predictions_df.to_csv(\"tableau des predictions\", index=False)"
   ]
  },
  {
   "cell_type": "code",
   "execution_count": 11,
   "metadata": {
    "execution": {
     "iopub.execute_input": "2025-01-22T21:45:29.691993Z",
     "iopub.status.busy": "2025-01-22T21:45:29.691783Z",
     "iopub.status.idle": "2025-01-22T21:45:29.706013Z",
     "shell.execute_reply": "2025-01-22T21:45:29.705418Z"
    }
   },
   "outputs": [
    {
     "name": "stderr",
     "output_type": "stream",
     "text": [
      "/tmp/ipykernel_41989/624879874.py:8: DeprecationWarning: Conversion of an array with ndim > 0 to a scalar is deprecated, and will error in future. Ensure you extract a single element from your array before performing this operation. (Deprecated NumPy 1.25.)\n",
      "  'predicted_price': float(y_pred),\n",
      "/tmp/ipykernel_41989/624879874.py:13: FutureWarning: The behavior of DataFrame concatenation with empty or all-NA entries is deprecated. In a future version, this will no longer exclude empty or all-NA columns when determining the result dtypes. To retain the old behavior, exclude the relevant entries before the concat operation.\n",
      "  predictions_df = pd.concat([predictions_df, new_row_df], ignore_index=True)\n"
     ]
    }
   ],
   "source": [
    "predictions_df = pd.read_csv(\"tableau des predictions\")\n",
    "\n",
    "predictions_df.iloc[-1, predictions_df.columns.get_loc('actual_price')] = Data[\"close\"].iloc[-1]\n",
    "\n",
    "# Nouvelle ligne à ajouter\n",
    "new_row = {\n",
    "    'time': next_timestamp,\n",
    "    'predicted_price': float(y_pred),\n",
    "    'actual_price': None\n",
    "}\n",
    "\n",
    "new_row_df = pd.DataFrame([new_row])\n",
    "predictions_df = pd.concat([predictions_df, new_row_df], ignore_index=True)\n",
    "\n",
    "\n",
    "predictions_df.to_csv(\"tableau des predictions\", index=False)\n",
    "\n",
    "predictions_df.to_csv(\"tableau des predictions.csv\", sep=\";\", index=False)"
   ]
  },
  {
   "cell_type": "code",
   "execution_count": 12,
   "metadata": {
    "execution": {
     "iopub.execute_input": "2025-01-22T21:45:29.708946Z",
     "iopub.status.busy": "2025-01-22T21:45:29.708534Z",
     "iopub.status.idle": "2025-01-22T21:45:29.721534Z",
     "shell.execute_reply": "2025-01-22T21:45:29.720881Z"
    }
   },
   "outputs": [
    {
     "name": "stderr",
     "output_type": "stream",
     "text": [
      "/tmp/ipykernel_41989/1453533242.py:8: DeprecationWarning: Conversion of an array with ndim > 0 to a scalar is deprecated, and will error in future. Ensure you extract a single element from your array before performing this operation. (Deprecated NumPy 1.25.)\n",
      "  'predicted_price': float(y_pred2),\n",
      "/tmp/ipykernel_41989/1453533242.py:13: FutureWarning: The behavior of DataFrame concatenation with empty or all-NA entries is deprecated. In a future version, this will no longer exclude empty or all-NA columns when determining the result dtypes. To retain the old behavior, exclude the relevant entries before the concat operation.\n",
      "  predictions_df = pd.concat([predictions_df, new_row_df], ignore_index=True)\n"
     ]
    }
   ],
   "source": [
    "predictions_df = pd.read_csv(\"tableau des predictions 2\")\n",
    "\n",
    "predictions_df.iloc[-1, predictions_df.columns.get_loc('actual_price')] = Data[\"close\"].iloc[-1]\n",
    "\n",
    "# Nouvelle ligne à ajouter\n",
    "new_row = {\n",
    "    'time': next_timestamp,\n",
    "    'predicted_price': float(y_pred2),\n",
    "    'actual_price': None\n",
    "}\n",
    "\n",
    "new_row_df = pd.DataFrame([new_row])\n",
    "predictions_df = pd.concat([predictions_df, new_row_df], ignore_index=True)\n",
    "\n",
    "\n",
    "predictions_df.to_csv(\"tableau des predictions 2\", index=False)\n",
    "\n",
    "predictions_df.to_csv(\"tableau des predictions 2.csv\", sep=\";\", index=False)"
   ]
  }
 ],
 "metadata": {
  "kernelspec": {
   "display_name": "challenge_ENS_env_CFM",
   "language": "python",
   "name": "python3"
  },
  "language_info": {
   "codemirror_mode": {
    "name": "ipython",
    "version": 3
   },
   "file_extension": ".py",
   "mimetype": "text/x-python",
   "name": "python",
   "nbconvert_exporter": "python",
   "pygments_lexer": "ipython3",
   "version": "3.11.11"
  }
 },
 "nbformat": 4,
 "nbformat_minor": 2
}
