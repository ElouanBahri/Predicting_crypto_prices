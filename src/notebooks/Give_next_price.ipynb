{
 "cells": [
  {
   "cell_type": "markdown",
   "metadata": {},
   "source": [
    "------------"
   ]
  },
  {
   "cell_type": "markdown",
   "metadata": {},
   "source": [
    "XGBoost model"
   ]
  },
  {
   "cell_type": "code",
   "execution_count": 84,
   "metadata": {},
   "outputs": [],
   "source": [
    "import pandas as pd \n",
    "import numpy as np \n",
    "from xgboost import XGBRegressor\n",
    "from sklearn.metrics import mean_absolute_error\n",
    "import matplotlib.pyplot as plt\n",
    "\n",
    "from modules.utils import filter_data_by_year_month, create_features_for_next_prediction\n",
    "\n",
    "import time\n",
    "\n",
    "\n"
   ]
  },
  {
   "cell_type": "code",
   "execution_count": 85,
   "metadata": {},
   "outputs": [
    {
     "name": "stdout",
     "output_type": "stream",
     "text": [
      "Execution started after a 10-second delay.\n"
     ]
    }
   ],
   "source": [
    "\n",
    "\n",
    "# Delay for 10 seconds\n",
    "time.sleep(10)\n",
    "\n",
    "print(\"Execution started after a 10-second delay.\")\n"
   ]
  },
  {
   "cell_type": "code",
   "execution_count": 86,
   "metadata": {},
   "outputs": [
    {
     "name": "stdout",
     "output_type": "stream",
     "text": [
      "Retrieve historical data for BTCUSDT\n",
      "Retrieving data from 2025-01-01 00:00:00\n",
      "Retrieving data from 2025-01-11 09:45:00.001000\n",
      "Retrieving data from 2025-01-21 19:45:00.001000\n",
      "Retrieving data from 2025-01-22 18:45:00.001000\n",
      "Retrieving data from 2025-01-22 00:00:00\n",
      "Retrieving data from 2025-01-22 18:45:00.001000\n",
      "No missing data\n"
     ]
    }
   ],
   "source": [
    "## Update Historical Prices for BTCUSDT\n",
    "\n",
    "%run ../data/playground_data.py\n"
   ]
  },
  {
   "cell_type": "code",
   "execution_count": 87,
   "metadata": {},
   "outputs": [],
   "source": [
    "X = pd.read_csv('/Users/elouan/Repo Github ElouanBahri/Predicting_crypto_prices/src/notebooks/Historical Prices for BTCUSDT')\n",
    "X[\"timestamp\"] = pd.to_datetime(X[\"timestamp\"])\n",
    "\n",
    "# Add 1 hour to all timestamps\n",
    "X[\"timestamp\"] = X[\"timestamp\"] + pd.Timedelta(hours=1)\n",
    "# Remove the last two rows\n",
    "X = X.iloc[:-1]\n",
    "\n",
    "\n",
    "\n",
    "YEARS = [2025]\n",
    "\n",
    "Data = filter_data_by_year_month(X, YEARS)\n",
    "\n",
    "Data1 = create_features_for_next_prediction(Data,['close', 'open', 'high', 'low', 'volume'], 4)\n",
    "\n"
   ]
  },
  {
   "cell_type": "code",
   "execution_count": 88,
   "metadata": {},
   "outputs": [
    {
     "name": "stdout",
     "output_type": "stream",
     "text": [
      "Last Timestamp: 2025-01-22 18:30:00\n"
     ]
    }
   ],
   "source": [
    "# Assuming `X` is your DataFrame with a \"timestamp\" column\n",
    "last_timestamp = pd.to_datetime(X[\"timestamp\"].iloc[-1])  # Convert to datetime\n",
    "print(\"Last Timestamp:\", last_timestamp)\n"
   ]
  },
  {
   "cell_type": "code",
   "execution_count": 89,
   "metadata": {},
   "outputs": [
    {
     "data": {
      "text/plain": [
       "(1, 20)"
      ]
     },
     "execution_count": 89,
     "metadata": {},
     "output_type": "execute_result"
    }
   ],
   "source": [
    "Data1.shape"
   ]
  },
  {
   "cell_type": "code",
   "execution_count": 90,
   "metadata": {},
   "outputs": [
    {
     "data": {
      "text/html": [
       "<div>\n",
       "<style scoped>\n",
       "    .dataframe tbody tr th:only-of-type {\n",
       "        vertical-align: middle;\n",
       "    }\n",
       "\n",
       "    .dataframe tbody tr th {\n",
       "        vertical-align: top;\n",
       "    }\n",
       "\n",
       "    .dataframe thead th {\n",
       "        text-align: right;\n",
       "    }\n",
       "</style>\n",
       "<table border=\"1\" class=\"dataframe\">\n",
       "  <thead>\n",
       "    <tr style=\"text-align: right;\">\n",
       "      <th></th>\n",
       "      <th>lag_close1</th>\n",
       "      <th>lag_open1</th>\n",
       "      <th>lag_high1</th>\n",
       "      <th>lag_low1</th>\n",
       "      <th>lag_volume1</th>\n",
       "      <th>lag_close2</th>\n",
       "      <th>lag_open2</th>\n",
       "      <th>lag_high2</th>\n",
       "      <th>lag_low2</th>\n",
       "      <th>lag_volume2</th>\n",
       "      <th>lag_close3</th>\n",
       "      <th>lag_open3</th>\n",
       "      <th>lag_high3</th>\n",
       "      <th>lag_low3</th>\n",
       "      <th>lag_volume3</th>\n",
       "      <th>lag_close4</th>\n",
       "      <th>lag_open4</th>\n",
       "      <th>lag_high4</th>\n",
       "      <th>lag_low4</th>\n",
       "      <th>lag_volume4</th>\n",
       "    </tr>\n",
       "  </thead>\n",
       "  <tbody>\n",
       "    <tr>\n",
       "      <th>0</th>\n",
       "      <td>104426.0</td>\n",
       "      <td>104265.98</td>\n",
       "      <td>104604.76</td>\n",
       "      <td>104135.19</td>\n",
       "      <td>249.83357</td>\n",
       "      <td>104265.98</td>\n",
       "      <td>104124.0</td>\n",
       "      <td>104384.5</td>\n",
       "      <td>104036.0</td>\n",
       "      <td>163.78173</td>\n",
       "      <td>104124.0</td>\n",
       "      <td>103704.65</td>\n",
       "      <td>104231.1</td>\n",
       "      <td>103665.73</td>\n",
       "      <td>417.4759</td>\n",
       "      <td>103704.64</td>\n",
       "      <td>103437.96</td>\n",
       "      <td>103875.37</td>\n",
       "      <td>103369.31</td>\n",
       "      <td>352.97763</td>\n",
       "    </tr>\n",
       "  </tbody>\n",
       "</table>\n",
       "</div>"
      ],
      "text/plain": [
       "   lag_close1  lag_open1  lag_high1   lag_low1  lag_volume1  lag_close2  \\\n",
       "0    104426.0  104265.98  104604.76  104135.19    249.83357   104265.98   \n",
       "\n",
       "   lag_open2  lag_high2  lag_low2  lag_volume2  lag_close3  lag_open3  \\\n",
       "0   104124.0   104384.5  104036.0    163.78173    104124.0  103704.65   \n",
       "\n",
       "   lag_high3   lag_low3  lag_volume3  lag_close4  lag_open4  lag_high4  \\\n",
       "0   104231.1  103665.73     417.4759   103704.64  103437.96  103875.37   \n",
       "\n",
       "    lag_low4  lag_volume4  \n",
       "0  103369.31    352.97763  "
      ]
     },
     "execution_count": 90,
     "metadata": {},
     "output_type": "execute_result"
    }
   ],
   "source": [
    "Data1"
   ]
  },
  {
   "cell_type": "code",
   "execution_count": 91,
   "metadata": {},
   "outputs": [],
   "source": [
    "model = XGBRegressor()\n",
    "model.load_model('../models/xgboost_model_1.json')"
   ]
  },
  {
   "cell_type": "code",
   "execution_count": 92,
   "metadata": {},
   "outputs": [
    {
     "name": "stdout",
     "output_type": "stream",
     "text": [
      "the next price for 2025-01-22 19:00:00 will be  : [104645.21]\n"
     ]
    }
   ],
   "source": [
    "# Make predictions\n",
    "y_pred = model.predict(Data1)\n",
    "\n",
    "next_timestamp = last_timestamp + pd.Timedelta(minutes=30)\n",
    "\n",
    "print(f\"the next price for {next_timestamp} will be  :\", y_pred)"
   ]
  },
  {
   "cell_type": "code",
   "execution_count": 93,
   "metadata": {},
   "outputs": [],
   "source": [
    "# predictions_df = pd.read_csv(\"tableau des predictions\")\n",
    "\n",
    "# next_timestamp = last_timestamp + pd.Timedelta(minutes=45)\n",
    "# predictions_df = predictions_df.iloc[2:]\n",
    "# # Nouvelle ligne à ajouter\n",
    "# new_row = {\n",
    "#     'time': next_timestamp,\n",
    "#     'predicted_price': 103734.60,\n",
    "#     'actual_price':103704.65\n",
    "# }\n",
    "\n",
    "# new_row_df = pd.DataFrame([new_row])\n",
    "# predictions_df = pd.concat([predictions_df, new_row_df], ignore_index=True)\n",
    "\n",
    "# predictions_df.to_csv(\"tableau des predictions\", index=False)"
   ]
  },
  {
   "cell_type": "code",
   "execution_count": 94,
   "metadata": {},
   "outputs": [
    {
     "name": "stderr",
     "output_type": "stream",
     "text": [
      "/var/folders/41/lv7xy5r91x7ckkgx5zqmgpxh0000gn/T/ipykernel_36084/45907303.py:8: DeprecationWarning:\n",
      "\n",
      "Conversion of an array with ndim > 0 to a scalar is deprecated, and will error in future. Ensure you extract a single element from your array before performing this operation. (Deprecated NumPy 1.25.)\n",
      "\n",
      "/var/folders/41/lv7xy5r91x7ckkgx5zqmgpxh0000gn/T/ipykernel_36084/45907303.py:13: FutureWarning:\n",
      "\n",
      "The behavior of DataFrame concatenation with empty or all-NA entries is deprecated. In a future version, this will no longer exclude empty or all-NA columns when determining the result dtypes. To retain the old behavior, exclude the relevant entries before the concat operation.\n",
      "\n"
     ]
    }
   ],
   "source": [
    "predictions_df = pd.read_csv(\"tableau des predictions\")\n",
    "\n",
    "predictions_df.iloc[-1, predictions_df.columns.get_loc('actual_price')] = Data[\"close\"].iloc[-1]\n",
    "\n",
    "# Nouvelle ligne à ajouter\n",
    "new_row = {\n",
    "    'time': next_timestamp,\n",
    "    'predicted_price': float(y_pred),\n",
    "    'actual_price': None\n",
    "}\n",
    "\n",
    "new_row_df = pd.DataFrame([new_row])\n",
    "predictions_df = pd.concat([predictions_df, new_row_df], ignore_index=True)\n",
    "\n",
    "\n",
    "predictions_df.to_csv(\"tableau des predictions\", index=False)"
   ]
  }
 ],
 "metadata": {
  "kernelspec": {
   "display_name": "challenge_ENS_env_CFM",
   "language": "python",
   "name": "python3"
  },
  "language_info": {
   "codemirror_mode": {
    "name": "ipython",
    "version": 3
   },
   "file_extension": ".py",
   "mimetype": "text/x-python",
   "name": "python",
   "nbconvert_exporter": "python",
   "pygments_lexer": "ipython3",
   "version": "3.11.11"
  }
 },
 "nbformat": 4,
 "nbformat_minor": 2
}
