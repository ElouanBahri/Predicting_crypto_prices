{
 "cells": [
  {
   "cell_type": "markdown",
   "metadata": {},
   "source": [
    "------------"
   ]
  },
  {
   "cell_type": "markdown",
   "metadata": {},
   "source": [
    "XGBoost model"
   ]
  },
  {
   "cell_type": "code",
   "execution_count": 1,
   "metadata": {
    "execution": {
     "iopub.execute_input": "2025-01-23T14:15:18.842611Z",
     "iopub.status.busy": "2025-01-23T14:15:18.842247Z",
     "iopub.status.idle": "2025-01-23T14:16:15.117183Z",
     "shell.execute_reply": "2025-01-23T14:16:15.105350Z"
    }
   },
   "outputs": [],
   "source": [
    "import pandas as pd\n",
    "import numpy as np\n",
    "from xgboost import XGBRegressor\n",
    "from sklearn.metrics import mean_absolute_error\n",
    "import matplotlib.pyplot as plt\n",
    "\n",
    "from modules.utils import filter_data_by_year_month, create_features_for_next_prediction\n",
    "\n",
    "import time"
   ]
  },
  {
   "cell_type": "code",
   "execution_count": 2,
   "metadata": {
    "execution": {
     "iopub.execute_input": "2025-01-23T14:16:15.155428Z",
     "iopub.status.busy": "2025-01-23T14:16:15.153795Z",
     "iopub.status.idle": "2025-01-23T14:16:25.254024Z",
     "shell.execute_reply": "2025-01-23T14:16:25.252544Z"
    }
   },
   "outputs": [
    {
     "name": "stdout",
     "output_type": "stream",
     "text": [
      "Execution started after a 10-second delay.\n"
     ]
    }
   ],
   "source": [
    "# Delay for 10 seconds\n",
    "time.sleep(10)\n",
    "\n",
    "print(\"Execution started after a 10-second delay.\")"
   ]
  },
  {
   "cell_type": "code",
   "execution_count": 3,
   "metadata": {
    "execution": {
     "iopub.execute_input": "2025-01-23T14:16:25.373255Z",
     "iopub.status.busy": "2025-01-23T14:16:25.371423Z",
     "iopub.status.idle": "2025-01-23T14:16:29.632778Z",
     "shell.execute_reply": "2025-01-23T14:16:29.626407Z"
    }
   },
   "outputs": [
    {
     "name": "stdout",
     "output_type": "stream",
     "text": [
      "Retrieve historical data for BTCUSDT\n",
      "Retrieving data from 2025-01-01 00:00:00\n"
     ]
    },
    {
     "name": "stdout",
     "output_type": "stream",
     "text": [
      "Retrieving data from 2025-01-11 09:45:00.001000\n"
     ]
    },
    {
     "name": "stdout",
     "output_type": "stream",
     "text": [
      "Retrieving data from 2025-01-21 19:45:00.001000\n"
     ]
    },
    {
     "name": "stdout",
     "output_type": "stream",
     "text": [
      "Retrieving data from 2025-01-23 15:15:00.001000\n"
     ]
    },
    {
     "name": "stdout",
     "output_type": "stream",
     "text": [
      "Retrieving data from 2025-01-23 00:00:00\n"
     ]
    },
    {
     "name": "stdout",
     "output_type": "stream",
     "text": [
      "Retrieving data from 2025-01-23 15:15:00.001000\n"
     ]
    },
    {
     "name": "stdout",
     "output_type": "stream",
     "text": [
      "No missing data\n"
     ]
    }
   ],
   "source": [
    "## Update Historical Prices for BTCUSDT\n",
    "\n",
    "%run ../data/playground_data.py"
   ]
  },
  {
   "cell_type": "code",
   "execution_count": 4,
   "metadata": {
    "execution": {
     "iopub.execute_input": "2025-01-23T14:16:29.643954Z",
     "iopub.status.busy": "2025-01-23T14:16:29.643554Z",
     "iopub.status.idle": "2025-01-23T14:16:29.864257Z",
     "shell.execute_reply": "2025-01-23T14:16:29.856998Z"
    }
   },
   "outputs": [],
   "source": [
    "X = pd.read_csv(\n",
    "    \"/Users/elouan/Repo Github ElouanBahri/Predicting_crypto_prices/src/notebooks/Historical Prices for BTCUSDT\"\n",
    ")\n",
    "X[\"timestamp\"] = pd.to_datetime(X[\"timestamp\"])\n",
    "\n",
    "# Add 1 hour to all timestamps\n",
    "X[\"timestamp\"] = X[\"timestamp\"] + pd.Timedelta(hours=1)\n",
    "# Remove the last two rows\n",
    "X = X.iloc[:-1]\n",
    "\n",
    "\n",
    "YEARS = [2025]\n",
    "\n",
    "Data = filter_data_by_year_month(X, YEARS)\n",
    "\n",
    "Data1 = create_features_for_next_prediction(\n",
    "    Data, [\"close\", \"open\", \"high\", \"low\", \"volume\"], 4\n",
    ")\n",
    "\n",
    "Data2 = create_features_for_next_prediction(\n",
    "    Data, [\"close\", \"open\", \"high\", \"low\", \"volume\"], 12\n",
    ")"
   ]
  },
  {
   "cell_type": "code",
   "execution_count": 5,
   "metadata": {
    "execution": {
     "iopub.execute_input": "2025-01-23T14:16:29.871481Z",
     "iopub.status.busy": "2025-01-23T14:16:29.871136Z",
     "iopub.status.idle": "2025-01-23T14:16:29.878658Z",
     "shell.execute_reply": "2025-01-23T14:16:29.876632Z"
    }
   },
   "outputs": [
    {
     "name": "stdout",
     "output_type": "stream",
     "text": [
      "Last Timestamp: 2025-01-23 15:00:00\n"
     ]
    }
   ],
   "source": [
    "# Assuming `X` is your DataFrame with a \"timestamp\" column\n",
    "last_timestamp = pd.to_datetime(X[\"timestamp\"].iloc[-1])  # Convert to datetime\n",
    "print(\"Last Timestamp:\", last_timestamp)"
   ]
  },
  {
   "cell_type": "code",
   "execution_count": 6,
   "metadata": {
    "execution": {
     "iopub.execute_input": "2025-01-23T14:16:29.892630Z",
     "iopub.status.busy": "2025-01-23T14:16:29.892290Z",
     "iopub.status.idle": "2025-01-23T14:16:29.907994Z",
     "shell.execute_reply": "2025-01-23T14:16:29.905253Z"
    }
   },
   "outputs": [
    {
     "data": {
      "text/plain": [
       "(1, 20)"
      ]
     },
     "execution_count": 6,
     "metadata": {},
     "output_type": "execute_result"
    }
   ],
   "source": [
    "Data1.shape"
   ]
  },
  {
   "cell_type": "code",
   "execution_count": 7,
   "metadata": {
    "execution": {
     "iopub.execute_input": "2025-01-23T14:16:29.914247Z",
     "iopub.status.busy": "2025-01-23T14:16:29.913641Z",
     "iopub.status.idle": "2025-01-23T14:16:29.982806Z",
     "shell.execute_reply": "2025-01-23T14:16:29.972506Z"
    }
   },
   "outputs": [
    {
     "data": {
      "text/html": [
       "<div>\n",
       "<style scoped>\n",
       "    .dataframe tbody tr th:only-of-type {\n",
       "        vertical-align: middle;\n",
       "    }\n",
       "\n",
       "    .dataframe tbody tr th {\n",
       "        vertical-align: top;\n",
       "    }\n",
       "\n",
       "    .dataframe thead th {\n",
       "        text-align: right;\n",
       "    }\n",
       "</style>\n",
       "<table border=\"1\" class=\"dataframe\">\n",
       "  <thead>\n",
       "    <tr style=\"text-align: right;\">\n",
       "      <th></th>\n",
       "      <th>lag_close1</th>\n",
       "      <th>lag_open1</th>\n",
       "      <th>lag_high1</th>\n",
       "      <th>lag_low1</th>\n",
       "      <th>lag_volume1</th>\n",
       "      <th>lag_close2</th>\n",
       "      <th>lag_open2</th>\n",
       "      <th>lag_high2</th>\n",
       "      <th>lag_low2</th>\n",
       "      <th>lag_volume2</th>\n",
       "      <th>lag_close3</th>\n",
       "      <th>lag_open3</th>\n",
       "      <th>lag_high3</th>\n",
       "      <th>lag_low3</th>\n",
       "      <th>lag_volume3</th>\n",
       "      <th>lag_close4</th>\n",
       "      <th>lag_open4</th>\n",
       "      <th>lag_high4</th>\n",
       "      <th>lag_low4</th>\n",
       "      <th>lag_volume4</th>\n",
       "    </tr>\n",
       "  </thead>\n",
       "  <tbody>\n",
       "    <tr>\n",
       "      <th>0</th>\n",
       "      <td>102294.0</td>\n",
       "      <td>102512.28</td>\n",
       "      <td>102535.01</td>\n",
       "      <td>102213.61</td>\n",
       "      <td>193.22681</td>\n",
       "      <td>102512.28</td>\n",
       "      <td>102164.9</td>\n",
       "      <td>102709.93</td>\n",
       "      <td>102136.24</td>\n",
       "      <td>465.59858</td>\n",
       "      <td>102164.9</td>\n",
       "      <td>101523.19</td>\n",
       "      <td>102212.46</td>\n",
       "      <td>101523.18</td>\n",
       "      <td>459.46875</td>\n",
       "      <td>101523.19</td>\n",
       "      <td>101720.44</td>\n",
       "      <td>101741.44</td>\n",
       "      <td>101281.62</td>\n",
       "      <td>222.90241</td>\n",
       "    </tr>\n",
       "  </tbody>\n",
       "</table>\n",
       "</div>"
      ],
      "text/plain": [
       "   lag_close1  lag_open1  lag_high1   lag_low1  lag_volume1  lag_close2  \\\n",
       "0    102294.0  102512.28  102535.01  102213.61    193.22681   102512.28   \n",
       "\n",
       "   lag_open2  lag_high2   lag_low2  lag_volume2  lag_close3  lag_open3  \\\n",
       "0   102164.9  102709.93  102136.24    465.59858    102164.9  101523.19   \n",
       "\n",
       "   lag_high3   lag_low3  lag_volume3  lag_close4  lag_open4  lag_high4  \\\n",
       "0  102212.46  101523.18    459.46875   101523.19  101720.44  101741.44   \n",
       "\n",
       "    lag_low4  lag_volume4  \n",
       "0  101281.62    222.90241  "
      ]
     },
     "execution_count": 7,
     "metadata": {},
     "output_type": "execute_result"
    }
   ],
   "source": [
    "Data1"
   ]
  },
  {
   "cell_type": "code",
   "execution_count": 8,
   "metadata": {
    "execution": {
     "iopub.execute_input": "2025-01-23T14:16:30.025186Z",
     "iopub.status.busy": "2025-01-23T14:16:30.024800Z",
     "iopub.status.idle": "2025-01-23T14:16:30.099724Z",
     "shell.execute_reply": "2025-01-23T14:16:30.098992Z"
    }
   },
   "outputs": [],
   "source": [
    "model = XGBRegressor()\n",
    "model.load_model(\"../models/xgboost_model_1_2024.json\")\n",
    "\n",
    "model3 = XGBRegressor()\n",
    "model3.load_model(\"../models/xgboost_model_1_2025.json\")\n",
    "\n",
    "model4 = XGBRegressor()\n",
    "model4.load_model(\"../models/xgboost_model_4(12).json\")\n",
    "\n",
    "# model5 = XGBRegressor()\n",
    "# model5.load_model('../models/xgboost_model_5_(8).json')"
   ]
  },
  {
   "cell_type": "code",
   "execution_count": 9,
   "metadata": {
    "execution": {
     "iopub.execute_input": "2025-01-23T14:16:30.103389Z",
     "iopub.status.busy": "2025-01-23T14:16:30.103110Z",
     "iopub.status.idle": "2025-01-23T14:16:30.382302Z",
     "shell.execute_reply": "2025-01-23T14:16:30.380558Z"
    }
   },
   "outputs": [
    {
     "name": "stdout",
     "output_type": "stream",
     "text": [
      "the next price for 2025-01-23 15:30:00 will be (model1)  : [102360.66]\n",
      "the next price for 2025-01-23 15:30:00 will be (model3)  : [102497.984]\n",
      "the next price for 2025-01-23 15:30:00 will be (model4)  : [102352.71]\n"
     ]
    }
   ],
   "source": [
    "# Make predictions\n",
    "y_pred = model.predict(Data1)\n",
    "\n",
    "y_pred2 = model3.predict(Data1)\n",
    "\n",
    "y_pred3 = model4.predict(Data2)\n",
    "\n",
    "# y_pred4 = model5.predict(Data1)\n",
    "\n",
    "next_timestamp = last_timestamp + pd.Timedelta(minutes=30)\n",
    "\n",
    "print(f\"the next price for {next_timestamp} will be (model1)  :\", y_pred)\n",
    "print(f\"the next price for {next_timestamp} will be (model3)  :\", y_pred2)\n",
    "print(f\"the next price for {next_timestamp} will be (model4)  :\", y_pred3)\n",
    "# print(f\"the next price for {next_timestamp} will be (model5)  :\", y_pred4)"
   ]
  },
  {
   "cell_type": "code",
   "execution_count": 10,
   "metadata": {
    "execution": {
     "iopub.execute_input": "2025-01-23T14:16:30.386021Z",
     "iopub.status.busy": "2025-01-23T14:16:30.385640Z",
     "iopub.status.idle": "2025-01-23T14:16:30.390449Z",
     "shell.execute_reply": "2025-01-23T14:16:30.389862Z"
    }
   },
   "outputs": [],
   "source": [
    "# predictions_df = pd.read_csv(\"tableau des predictions\")\n",
    "\n",
    "# next_timestamp = last_timestamp + pd.Timedelta(minutes=45)\n",
    "# predictions_df = predictions_df.iloc[2:]\n",
    "# # Nouvelle ligne à ajouter\n",
    "# new_row = {\n",
    "#     'time': next_timestamp,\n",
    "#     'predicted_price': 103734.60,\n",
    "#     'actual_price':103704.65\n",
    "# }\n",
    "\n",
    "# new_row_df = pd.DataFrame([new_row])\n",
    "# predictions_df = pd.concat([predictions_df, new_row_df], ignore_index=True)\n",
    "\n",
    "# predictions_df.to_csv(\"tableau des predictions\", index=False)"
   ]
  },
  {
   "cell_type": "code",
   "execution_count": 11,
   "metadata": {
    "execution": {
     "iopub.execute_input": "2025-01-23T14:16:30.396663Z",
     "iopub.status.busy": "2025-01-23T14:16:30.393924Z",
     "iopub.status.idle": "2025-01-23T14:16:30.418363Z",
     "shell.execute_reply": "2025-01-23T14:16:30.417034Z"
    }
   },
   "outputs": [
    {
     "name": "stderr",
     "output_type": "stream",
     "text": [
      "/tmp/ipykernel_52689/624879874.py:8: DeprecationWarning: Conversion of an array with ndim > 0 to a scalar is deprecated, and will error in future. Ensure you extract a single element from your array before performing this operation. (Deprecated NumPy 1.25.)\n",
      "  'predicted_price': float(y_pred),\n",
      "/tmp/ipykernel_52689/624879874.py:13: FutureWarning: The behavior of DataFrame concatenation with empty or all-NA entries is deprecated. In a future version, this will no longer exclude empty or all-NA columns when determining the result dtypes. To retain the old behavior, exclude the relevant entries before the concat operation.\n",
      "  predictions_df = pd.concat([predictions_df, new_row_df], ignore_index=True)\n"
     ]
    }
   ],
   "source": [
    "predictions_df = pd.read_csv(\"tableau des predictions\")\n",
    "\n",
    "predictions_df.iloc[-1, predictions_df.columns.get_loc(\"actual_price\")] = Data[\n",
    "    \"close\"\n",
    "].iloc[-1]\n",
    "\n",
    "# Nouvelle ligne à ajouter\n",
    "new_row = {\n",
    "    \"time\": next_timestamp,\n",
    "    \"predicted_price\": float(y_pred),\n",
    "    \"actual_price\": None,\n",
    "}\n",
    "\n",
    "new_row_df = pd.DataFrame([new_row])\n",
    "predictions_df = pd.concat([predictions_df, new_row_df], ignore_index=True)\n",
    "\n",
    "\n",
    "predictions_df.to_csv(\"tableau des predictions\", index=False)\n",
    "\n",
    "predictions_df.to_csv(\"tableau des predictions.csv\", sep=\";\", index=False)"
   ]
  },
  {
   "cell_type": "code",
   "execution_count": 12,
   "metadata": {
    "execution": {
     "iopub.execute_input": "2025-01-23T14:16:30.426990Z",
     "iopub.status.busy": "2025-01-23T14:16:30.426531Z",
     "iopub.status.idle": "2025-01-23T14:16:30.528539Z",
     "shell.execute_reply": "2025-01-23T14:16:30.527422Z"
    }
   },
   "outputs": [
    {
     "name": "stderr",
     "output_type": "stream",
     "text": [
      "/tmp/ipykernel_52689/1453533242.py:8: DeprecationWarning: Conversion of an array with ndim > 0 to a scalar is deprecated, and will error in future. Ensure you extract a single element from your array before performing this operation. (Deprecated NumPy 1.25.)\n",
      "  'predicted_price': float(y_pred2),\n",
      "/tmp/ipykernel_52689/1453533242.py:13: FutureWarning: The behavior of DataFrame concatenation with empty or all-NA entries is deprecated. In a future version, this will no longer exclude empty or all-NA columns when determining the result dtypes. To retain the old behavior, exclude the relevant entries before the concat operation.\n",
      "  predictions_df = pd.concat([predictions_df, new_row_df], ignore_index=True)\n"
     ]
    }
   ],
   "source": [
    "predictions_df = pd.read_csv(\"tableau des predictions 2\")\n",
    "\n",
    "predictions_df.iloc[-1, predictions_df.columns.get_loc(\"actual_price\")] = Data[\n",
    "    \"close\"\n",
    "].iloc[-1]\n",
    "\n",
    "# Nouvelle ligne à ajouter\n",
    "new_row = {\n",
    "    \"time\": next_timestamp,\n",
    "    \"predicted_price\": float(y_pred2),\n",
    "    \"actual_price\": None,\n",
    "}\n",
    "\n",
    "new_row_df = pd.DataFrame([new_row])\n",
    "predictions_df = pd.concat([predictions_df, new_row_df], ignore_index=True)\n",
    "\n",
    "\n",
    "predictions_df.to_csv(\"tableau des predictions 2\", index=False)\n",
    "\n",
    "predictions_df.to_csv(\"tableau des predictions 2.csv\", sep=\";\", index=False)"
   ]
  },
  {
   "cell_type": "code",
   "execution_count": 13,
   "metadata": {
    "execution": {
     "iopub.execute_input": "2025-01-23T14:16:30.532728Z",
     "iopub.status.busy": "2025-01-23T14:16:30.532397Z",
     "iopub.status.idle": "2025-01-23T14:16:30.615170Z",
     "shell.execute_reply": "2025-01-23T14:16:30.614242Z"
    }
   },
   "outputs": [
    {
     "name": "stderr",
     "output_type": "stream",
     "text": [
      "/tmp/ipykernel_52689/2294103069.py:8: DeprecationWarning: Conversion of an array with ndim > 0 to a scalar is deprecated, and will error in future. Ensure you extract a single element from your array before performing this operation. (Deprecated NumPy 1.25.)\n",
      "  'predicted_price': float(y_pred3),\n",
      "/tmp/ipykernel_52689/2294103069.py:13: FutureWarning: The behavior of DataFrame concatenation with empty or all-NA entries is deprecated. In a future version, this will no longer exclude empty or all-NA columns when determining the result dtypes. To retain the old behavior, exclude the relevant entries before the concat operation.\n",
      "  predictions_df = pd.concat([predictions_df, new_row_df], ignore_index=True)\n"
     ]
    }
   ],
   "source": [
    "predictions_df = pd.read_csv(\"tableau des predictions 3(12)\")\n",
    "\n",
    "predictions_df.iloc[-1, predictions_df.columns.get_loc(\"actual_price\")] = Data[\n",
    "    \"close\"\n",
    "].iloc[-1]\n",
    "\n",
    "# Nouvelle ligne à ajouter\n",
    "new_row = {\n",
    "    \"time\": next_timestamp,\n",
    "    \"predicted_price\": float(y_pred3),\n",
    "    \"actual_price\": None,\n",
    "}\n",
    "\n",
    "new_row_df = pd.DataFrame([new_row])\n",
    "predictions_df = pd.concat([predictions_df, new_row_df], ignore_index=True)\n",
    "\n",
    "\n",
    "predictions_df.to_csv(\"tableau des predictions 3(12)\", index=False)\n",
    "\n",
    "predictions_df.to_csv(\"tableau des predictions 3(12).csv\", sep=\";\", index=False)"
   ]
  }
 ],
 "metadata": {
  "kernelspec": {
   "display_name": "challenge_ENS_env_CFM",
   "language": "python",
   "name": "python3"
  },
  "language_info": {
   "codemirror_mode": {
    "name": "ipython",
    "version": 3
   },
   "file_extension": ".py",
   "mimetype": "text/x-python",
   "name": "python",
   "nbconvert_exporter": "python",
   "pygments_lexer": "ipython3",
   "version": "3.11.11"
  }
 },
 "nbformat": 4,
 "nbformat_minor": 2
}
