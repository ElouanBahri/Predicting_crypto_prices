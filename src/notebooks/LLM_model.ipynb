{
 "cells": [
  {
   "cell_type": "code",
   "execution_count": 1,
   "metadata": {},
   "outputs": [],
   "source": [
    "from modules.LLM import LLMAnalyzer, CryptoNewsFetcher"
   ]
  },
  {
   "cell_type": "code",
   "execution_count": 6,
   "metadata": {},
   "outputs": [
    {
     "name": "stdout",
     "output_type": "stream",
     "text": [
      "1. {'title': 'Semler Scientific Doubles Down on Bitcoin Despite $42 Million Loss', 'timestamp': '2025-04-16T09:42:35Z'}\n",
      "2. {'title': 'Fully-Encrypted Exchange EnclaveX Launches To Thwart Front-Running & MEV Attacks', 'timestamp': '2025-04-16T09:27:41Z'}\n",
      "3. {'title': 'Coinbase warns of renewed crypto winter as altcoin market cap plunges 41%', 'timestamp': '2025-04-16T09:20:46Z'}\n",
      "4. {'title': 'Bitcoin Whales Have Been Buying ‘Like Never Before:’ Analyst', 'timestamp': '2025-04-16T09:17:15Z'}\n",
      "5. {'title': 'Bitdeer boosts U.S. mining operations to counter tariff impact', 'timestamp': '2025-04-16T09:12:31Z'}\n",
      "6. {'title': 'UNDER EXPOSED EP21: Macro, BTC Outperforms and Trading Roundtable', 'timestamp': '2025-04-16T09:05:56Z'}\n",
      "7. {'title': 'Why Does This Bitcoin Cycle Feel So Boring? Analyst Weighs In', 'timestamp': '2025-04-16T09:00:39Z'}\n",
      "8. {'title': 'Is altseason fading? – Why BTC and stablecoins still dominate', 'timestamp': '2025-04-16T09:00:32Z'}\n",
      "9. {'title': 'Despite Unrealized Losses, Semler Scientific Plans $500 Million Securities Offering To Boost Bitcoin Holdings', 'timestamp': '2025-04-16T09:00:10Z'}\n",
      "10. {'title': 'EURC Supply Hits Record High with 43% Monthly Surge', 'timestamp': '2025-04-16T08:58:00Z'}\n",
      "11. {'title': 'China’s local governments sell seized crypto to refill public coffers despite trading ban: Reuters', 'timestamp': '2025-04-16T08:57:17Z'}\n",
      "12. {'title': 'US economist warns Bitcoin to spearhead the 2025 crash', 'timestamp': '2025-04-16T08:56:15Z'}\n",
      "13. {'title': 'Crypto Winter Appears to Have Arrived With Bitcoin, Top 50 Tokens Falling Into Bear Market Territory: Coinbase Institutional', 'timestamp': '2025-04-16T08:46:47Z'}\n",
      "14. {'title': 'Bitcoin Price Today: Traders Expect $80K Retest After Yesterday’s 3% BTC Crash', 'timestamp': '2025-04-16T08:46:45Z'}\n",
      "15. {'title': '$100M Solana Whale Skips Chainlink (LINK) for Lightchain AI — Here’s Why', 'timestamp': '2025-04-16T08:45:38Z'}\n",
      "16. {'title': 'Gold Price Hit All-Time High of $3,300 While Bitcoin Price Drops to $83K', 'timestamp': '2025-04-16T08:45:17Z'}\n",
      "17. {'title': 'Crypto Market Update: Bitcoin & Others Slip As Trump Imposes Up To 245% Tariff On China', 'timestamp': '2025-04-16T08:39:53Z'}\n",
      "18. {'title': 'Oklahoma Kills Bitcoin Reserve Proposal in Senate Committee Vote', 'timestamp': '2025-04-16T08:39:41Z'}\n",
      "19. {'title': 'VanEck’s Sigel: Central Banks Are Turning to Bitcoin', 'timestamp': '2025-04-16T08:39:23Z'}\n"
     ]
    }
   ],
   "source": [
    "# Instantiate with your real CryptoPanic API key\n",
    "news_fetcher = CryptoNewsFetcher(\n",
    "    api_key=\"f0faedb7588a0796530697ac4a1a56c099466dfd\", currencies=\"BTC\"\n",
    ")\n",
    "headlines = news_fetcher.fetch_headlines(limit=19)\n",
    "\n",
    "for i, headline in enumerate(headlines, 1):\n",
    "    print(f\"{i}. {headline}\")"
   ]
  },
  {
   "cell_type": "code",
   "execution_count": null,
   "metadata": {},
   "outputs": [],
   "source": [
    "llm = LLMAnalyzer()\n",
    "\n",
    "for headline in headlines:\n",
    "    sentiment = llm.get_sentiment(headline)\n",
    "    print(f\"🗞️ {headline}\\n→ 🧠 Sentiment: {sentiment}\\n\")"
   ]
  },
  {
   "cell_type": "code",
   "execution_count": 7,
   "metadata": {},
   "outputs": [
    {
     "name": "stdout",
     "output_type": "stream",
     "text": [
      "['Bullish', 'Bullish', 'Bearish', 'Bullish', 'Bullish', 'Bullish', 'Bearish', 'Bearish', 'Bullish', 'Bullish', 'Bearish', 'Bearish', 'Bearish', 'Bullish', 'Bullish', 'Bearish', 'Bearish', 'Bearish', 'Bullish']\n",
      "----\n"
     ]
    },
    {
     "data": {
      "text/plain": [
       "0.05263157894736842"
      ]
     },
     "execution_count": 7,
     "metadata": {},
     "output_type": "execute_result"
    }
   ],
   "source": [
    "llm = LLMAnalyzer()\n",
    "llm.get_sentiment_score(headlines)"
   ]
  }
 ],
 "metadata": {
  "kernelspec": {
   "display_name": "Predicting_crypto",
   "language": "python",
   "name": "python3"
  },
  "language_info": {
   "codemirror_mode": {
    "name": "ipython",
    "version": 3
   },
   "file_extension": ".py",
   "mimetype": "text/x-python",
   "name": "python",
   "nbconvert_exporter": "python",
   "pygments_lexer": "ipython3",
   "version": "3.11.11"
  }
 },
 "nbformat": 4,
 "nbformat_minor": 2
}
