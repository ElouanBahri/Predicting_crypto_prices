{
 "cells": [
  {
   "cell_type": "code",
   "execution_count": 2,
   "metadata": {},
   "outputs": [],
   "source": [
    "from modules.LLM import LLMAnalyzer, CryptoNewsFetcher"
   ]
  },
  {
   "cell_type": "code",
   "execution_count": 6,
   "metadata": {},
   "outputs": [
    {
     "name": "stdout",
     "output_type": "stream",
     "text": [
      "1. {'title': 'Could Tomorrow’s Canada Solana ETF Launch Push SOL Price to $200?', 'timestamp': '2025-04-15T17:58:52Z'}\n",
      "2. {'title': 'The Daily: ZKsync discloses $5 million admin account hack, bitcoin acts ‘notably different’ from prior market pullbacks and more', 'timestamp': '2025-04-15T17:53:51Z'}\n",
      "3. {'title': 'Sui to Become a Bitcoin Secured Network via Babylon’s Phase 3', 'timestamp': '2025-04-15T17:52:18Z'}\n",
      "4. {'title': 'Top ETF analyst sends hard-nosed response to MicroStrategy stock surge', 'timestamp': '2025-04-15T17:36:32Z'}\n",
      "5. {'title': 'Bitcoin Holds Steady at $85,000 While Tariff Concerns Pressure Broader Market', 'timestamp': '2025-04-15T17:34:31Z'}\n",
      "6. {'title': \"'Wolf Game' Halted After Solana Relaunch Prompts Backlash\", 'timestamp': '2025-04-15T17:31:48Z'}\n",
      "7. {'title': 'Bitcoin price recovery could be capped at $90K — Here’s why', 'timestamp': '2025-04-15T17:31:42Z'}\n",
      "8. {'title': 'Bitdeer turns to self-mining Bitcoin, US operations amid tariff tumult — Report', 'timestamp': '2025-04-15T17:15:00Z'}\n",
      "9. {'title': 'US government might use tariffs to buy bitcoin', 'timestamp': '2025-04-15T17:14:17Z'}\n",
      "10. {'title': 'Solana-based Solayer introduces new non-custodial crypto debit card', 'timestamp': '2025-04-15T17:09:50Z'}\n"
     ]
    }
   ],
   "source": [
    "# Instantiate with your real CryptoPanic API key\n",
    "news_fetcher = CryptoNewsFetcher(\n",
    "    api_key=\"f0faedb7588a0796530697ac4a1a56c099466dfd\", currencies=\"BTC,ETH,SOL\"\n",
    ")\n",
    "headlines = news_fetcher.fetch_headlines(limit=10)\n",
    "\n",
    "for i, headline in enumerate(headlines, 1):\n",
    "    print(f\"{i}. {headline}\")"
   ]
  },
  {
   "cell_type": "code",
   "execution_count": null,
   "metadata": {},
   "outputs": [],
   "source": [
    "llm = LLMAnalyzer()\n",
    "\n",
    "for headline in headlines:\n",
    "    sentiment = llm.get_sentiment(headline)\n",
    "    print(f\"🗞️ {headline}\\n→ 🧠 Sentiment: {sentiment}\\n\")"
   ]
  }
 ],
 "metadata": {
  "kernelspec": {
   "display_name": "Predicting_crypto",
   "language": "python",
   "name": "python3"
  },
  "language_info": {
   "codemirror_mode": {
    "name": "ipython",
    "version": 3
   },
   "file_extension": ".py",
   "mimetype": "text/x-python",
   "name": "python",
   "nbconvert_exporter": "python",
   "pygments_lexer": "ipython3",
   "version": "3.11.11"
  }
 },
 "nbformat": 4,
 "nbformat_minor": 2
}
