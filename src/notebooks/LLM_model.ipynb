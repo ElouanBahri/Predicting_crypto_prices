{
 "cells": [
  {
   "cell_type": "code",
   "execution_count": 1,
   "metadata": {},
   "outputs": [],
   "source": [
    "from modules.LLM import LLMAnalyzer, CryptoNewsFetcher"
   ]
  },
  {
   "cell_type": "code",
   "execution_count": 4,
   "metadata": {},
   "outputs": [
    {
     "name": "stdout",
     "output_type": "stream",
     "text": [
      "1. {'title': 'Crypto Analyst Says 2025 Will Be the Year Bitcoin Hits Bull Market Peak, Unveils Upside Price Targets for BTC', 'timestamp': '2025-05-11T09:15:47Z'}\n",
      "2. {'title': 'Saylor Says Short Term Holders Block Bitcoin 150K Target', 'timestamp': '2025-05-11T08:56:43Z'}\n",
      "3. {'title': 'Trump advisor to launch $300M investment firm', 'timestamp': '2025-05-11T08:34:58Z'}\n"
     ]
    }
   ],
   "source": [
    "# Instantiate with your real CryptoPanic API key\n",
    "news_fetcher = CryptoNewsFetcher(\n",
    "    api_key=\"f0faedb7588a0796530697ac4a1a56c099466dfd\", currencies=\"BTC\"\n",
    ")\n",
    "headlines = news_fetcher.fetch_headlines(limit=3)\n",
    "\n",
    "for i, headline in enumerate(headlines, 1):\n",
    "    print(f\"{i}. {headline}\")"
   ]
  },
  {
   "cell_type": "code",
   "execution_count": 5,
   "metadata": {},
   "outputs": [
    {
     "name": "stdout",
     "output_type": "stream",
     "text": [
      "🗞️ {'title': 'Crypto Analyst Says 2025 Will Be the Year Bitcoin Hits Bull Market Peak, Unveils Upside Price Targets for BTC', 'timestamp': '2025-05-11T09:15:47Z'}\n",
      "→ 🧠 Sentiment: Bullish.\n",
      "\n",
      "🗞️ {'title': 'Saylor Says Short Term Holders Block Bitcoin 150K Target', 'timestamp': '2025-05-11T08:56:43Z'}\n",
      "→ 🧠 Sentiment: Bearish\n",
      "\n",
      "🗞️ {'title': 'Trump advisor to launch $300M investment firm', 'timestamp': '2025-05-11T08:34:58Z'}\n",
      "→ 🧠 Sentiment: Bullish.\n",
      "\n"
     ]
    }
   ],
   "source": [
    "llm = LLMAnalyzer()\n",
    "\n",
    "for headline in headlines:\n",
    "    sentiment = llm.get_sentiment(headline)\n",
    "    print(f\"🗞️ {headline}\\n→ 🧠 Sentiment: {sentiment}\\n\")"
   ]
  },
  {
   "cell_type": "code",
   "execution_count": 7,
   "metadata": {},
   "outputs": [
    {
     "name": "stdout",
     "output_type": "stream",
     "text": [
      "['Bullish', 'Bullish', 'Bearish', 'Bullish', 'Bullish', 'Bullish', 'Bearish', 'Bearish', 'Bullish', 'Bullish', 'Bearish', 'Bearish', 'Bearish', 'Bullish', 'Bullish', 'Bearish', 'Bearish', 'Bearish', 'Bullish']\n",
      "----\n"
     ]
    },
    {
     "data": {
      "text/plain": [
       "0.05263157894736842"
      ]
     },
     "execution_count": 7,
     "metadata": {},
     "output_type": "execute_result"
    }
   ],
   "source": [
    "llm = LLMAnalyzer()\n",
    "llm.get_sentiment_score(headlines)"
   ]
  }
 ],
 "metadata": {
  "kernelspec": {
   "display_name": "Predicting_crypto",
   "language": "python",
   "name": "python3"
  },
  "language_info": {
   "codemirror_mode": {
    "name": "ipython",
    "version": 3
   },
   "file_extension": ".py",
   "mimetype": "text/x-python",
   "name": "python",
   "nbconvert_exporter": "python",
   "pygments_lexer": "ipython3",
   "version": "3.11.11"
  }
 },
 "nbformat": 4,
 "nbformat_minor": 2
}
