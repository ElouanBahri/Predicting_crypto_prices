{
 "cells": [
  {
   "cell_type": "code",
   "execution_count": 2,
   "metadata": {},
   "outputs": [],
   "source": [
    "import pandas as pd\n",
    "import numpy as np"
   ]
  },
  {
   "cell_type": "code",
   "execution_count": 3,
   "metadata": {},
   "outputs": [],
   "source": [
    "X = pd.read_csv(\n",
    "    \"/Users/elouan/Repo Github ElouanBahri/Predicting_crypto_prices/Historical Prices for BTCUSDT\"\n",
    ")"
   ]
  },
  {
   "cell_type": "code",
   "execution_count": 4,
   "metadata": {},
   "outputs": [
    {
     "name": "stdout",
     "output_type": "stream",
     "text": [
      "                open           high            low          close  \\\n",
      "count  213656.000000  213656.000000  213656.000000  213656.000000   \n",
      "mean    32589.544426   32660.391057   32516.028737   32589.985596   \n",
      "std     23577.050151   23624.443031   23527.716327   23577.392606   \n",
      "min      3366.630000    3373.840000    3349.920000    3366.410000   \n",
      "25%     10663.157500   10685.490000   10639.975000   10663.280000   \n",
      "50%     27737.140000   27787.485000   27682.270000   27737.410000   \n",
      "75%     47433.382500   47560.802500   47305.132500   47433.922500   \n",
      "max    108975.430000  109588.000000  108185.270000  108975.420000   \n",
      "\n",
      "              volume  quote_asset_volume  number_of_trades  \\\n",
      "count  213656.000000        2.136560e+05     213656.000000   \n",
      "mean      798.632398        2.170585e+07      20765.492670   \n",
      "std      1201.390528        3.072086e+07      28166.172862   \n",
      "min         0.000000        0.000000e+00          0.000000   \n",
      "25%       227.835501        4.672529e+06       5605.000000   \n",
      "50%       413.688909        1.183727e+07      10828.000000   \n",
      "75%       847.182095        2.693255e+07      23461.000000   \n",
      "max     40371.405060        8.961201e+08     606234.000000   \n",
      "\n",
      "       taker_buy_base_asset_volume  taker_buy_quote_asset_volume    ignore  \n",
      "count                213656.000000                  2.136560e+05  213656.0  \n",
      "mean                    395.890252                  1.073965e+07       0.0  \n",
      "std                     599.775743                  1.541434e+07       0.0  \n",
      "min                       0.000000                  0.000000e+00       0.0  \n",
      "25%                     111.272371                  2.224984e+06       0.0  \n",
      "50%                     204.047933                  5.742936e+06       0.0  \n",
      "75%                     421.424732                  1.332927e+07       0.0  \n",
      "max                   19925.616600                  5.619115e+08       0.0  \n"
     ]
    }
   ],
   "source": [
    "print(X.describe())"
   ]
  },
  {
   "cell_type": "code",
   "execution_count": 5,
   "metadata": {},
   "outputs": [],
   "source": [
    "# Get descriptive statistics of your DataFrame\n",
    "desc_stats = X.describe()\n",
    "\n",
    "# Export to LaTeX\n",
    "with open('/Users/elouan/Desktop/Projet de StatApp/descriptive_statistics.tex', 'w') as f:\n",
    "    f.write(desc_stats.to_latex())\n"
   ]
  }
 ],
 "metadata": {
  "kernelspec": {
   "display_name": "Predicting_crypto",
   "language": "python",
   "name": "python3"
  },
  "language_info": {
   "codemirror_mode": {
    "name": "ipython",
    "version": 3
   },
   "file_extension": ".py",
   "mimetype": "text/x-python",
   "name": "python",
   "nbconvert_exporter": "python",
   "pygments_lexer": "ipython3",
   "version": "3.11.11"
  }
 },
 "nbformat": 4,
 "nbformat_minor": 2
}
